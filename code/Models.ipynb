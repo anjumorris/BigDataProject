{
 "cells": [
  {
   "cell_type": "code",
   "execution_count": 1,
   "id": "f859455c",
   "metadata": {},
   "outputs": [],
   "source": [
    "from pyspark.sql import SparkSession\n",
    "import sys\n",
    "import re\n",
    "import os"
   ]
  },
  {
   "cell_type": "code",
   "execution_count": 2,
   "id": "4d99fc5f",
   "metadata": {},
   "outputs": [],
   "source": [
    "spark = SparkSession.builder.appName(\"myapp\").getOrCreate()"
   ]
  },
  {
   "cell_type": "code",
   "execution_count": 3,
   "id": "3051c280",
   "metadata": {},
   "outputs": [
    {
     "name": "stdout",
     "output_type": "stream",
     "text": [
      "/opt/homebrew/Cellar/apache-spark/3.2.1/libexec\n"
     ]
    }
   ],
   "source": [
    "print(os.environ['SPARK_HOME'])"
   ]
  },
  {
   "cell_type": "markdown",
   "id": "4395ee1c",
   "metadata": {},
   "source": [
    "## 1. READING CLEANED DATA \n",
    "- We are reading the cleaned dataset set prepared in previous Juypter Notebook\n",
    "- Data is stored on S3 in following location:  s3://brfss-big-data-project/HeartRiskData/\n"
   ]
  },
  {
   "cell_type": "code",
   "execution_count": 4,
   "id": "605d08cd",
   "metadata": {},
   "outputs": [
    {
     "name": "stderr",
     "output_type": "stream",
     "text": [
      "                                                                                \r"
     ]
    }
   ],
   "source": [
    "# READ LOCAL DATA FILE\n",
    "# Comment if reading from S3\n",
    "\n",
    "heartData = spark.read.csv(\"../../../BRFSS/HeartRiskData/\", header='true',inferSchema='true')"
   ]
  },
  {
   "cell_type": "code",
   "execution_count": 5,
   "id": "e7b04faa",
   "metadata": {},
   "outputs": [],
   "source": [
    "# READ FROM S3 BUCKET\n",
    "#Comment if reading locally\n",
    "# sc._jsc.hadoopConfiguration().set(\"fs.s3a.impl\",\"org.apache.hadoop.fs.s3a.S3AFileSystem\")\n",
    "# sc._jsc.hadoopConfiguration().set(\"com.amazonaws.services.s3.enableV4\", \"true\")\n",
    "# sc._jsc.hadoopConfiguration().set(\"fs.s3a.aws.credentials.provider\",\"org.apache.hadoop.fs.s3a.AnonymousAWSCredentialsProvider\")\n",
    "\n",
    "# heartData = spark.read.csv(\"s3a://brfss-big-data-project/HeartRiskData/\", header = 'true',inferSchema='true')"
   ]
  },
  {
   "cell_type": "code",
   "execution_count": 6,
   "id": "40da8a34",
   "metadata": {},
   "outputs": [
    {
     "name": "stdout",
     "output_type": "stream",
     "text": [
      "root\n",
      " |-- HeartDisease: double (nullable = true)\n",
      " |-- State: double (nullable = true)\n",
      " |-- BMI: double (nullable = true)\n",
      " |-- HighBP: double (nullable = true)\n",
      " |-- HighChol: double (nullable = true)\n",
      " |-- CholCheck: double (nullable = true)\n",
      " |-- FruitConsume: double (nullable = true)\n",
      " |-- VegetableConsume: double (nullable = true)\n",
      " |-- Smoker: double (nullable = true)\n",
      " |-- HeavyDrinker: double (nullable = true)\n",
      " |-- Diabetes: double (nullable = true)\n",
      " |-- Stroke: double (nullable = true)\n",
      " |-- Healthcare: double (nullable = true)\n",
      " |-- NoDoctorDueToCost: double (nullable = true)\n",
      " |-- PhysicalActivity: double (nullable = true)\n",
      " |-- GeneralHealth: double (nullable = true)\n",
      " |-- PhysicalHealth: double (nullable = true)\n",
      " |-- MentalHealth: double (nullable = true)\n",
      " |-- DifficultyWalking: double (nullable = true)\n",
      " |-- Gender: double (nullable = true)\n",
      " |-- Age: double (nullable = true)\n",
      " |-- Education: double (nullable = true)\n",
      " |-- Income: double (nullable = true)\n",
      "\n"
     ]
    }
   ],
   "source": [
    "heartData.printSchema()"
   ]
  },
  {
   "cell_type": "code",
   "execution_count": 7,
   "id": "f6f1c3e1",
   "metadata": {},
   "outputs": [
    {
     "name": "stdout",
     "output_type": "stream",
     "text": [
      "+------------+-----+\n",
      "|HeartDisease|  BMI|\n",
      "+------------+-----+\n",
      "|         0.0|23.91|\n",
      "|         1.0|39.15|\n",
      "|         0.0|33.36|\n",
      "|         0.0|29.84|\n",
      "|         0.0|24.82|\n",
      "+------------+-----+\n",
      "only showing top 5 rows\n",
      "\n"
     ]
    }
   ],
   "source": [
    "heartData.select(['HeartDisease','BMI']).show(5)"
   ]
  },
  {
   "cell_type": "code",
   "execution_count": 8,
   "id": "b777355b",
   "metadata": {},
   "outputs": [
    {
     "name": "stdout",
     "output_type": "stream",
     "text": [
      "Dimensions of the Data Frame:\n",
      "(519171, 23)\n"
     ]
    }
   ],
   "source": [
    "print(\"Dimensions of the Data Frame:\")\n",
    "print((heartData.count(), len(heartData.columns)))"
   ]
  },
  {
   "cell_type": "markdown",
   "id": "d24097a1",
   "metadata": {},
   "source": [
    "Note: We can see that after cleaning we have 0.5 million data points across 22 features with the target \"HeartDisease\" that indicates if the person is either suffering from heart disease or has had a heart attack. \n",
    "0 = No \n",
    "1 = Yes"
   ]
  },
  {
   "cell_type": "markdown",
   "id": "af4ff5d0",
   "metadata": {},
   "source": [
    "## 2. EXPLORATORY DATA ANALYSIS"
   ]
  },
  {
   "cell_type": "code",
   "execution_count": 9,
   "id": "e4014653",
   "metadata": {},
   "outputs": [
    {
     "name": "stderr",
     "output_type": "stream",
     "text": [
      "\r",
      "[Stage 6:============================================>              (6 + 2) / 8]\r",
      "\r",
      "                                                                                \r"
     ]
    }
   ],
   "source": [
    "counts = heartData.groupBy('HeartDisease').count().collect()\n",
    "total_counts = heartData.count()"
   ]
  },
  {
   "cell_type": "code",
   "execution_count": 10,
   "id": "dcb3274d",
   "metadata": {},
   "outputs": [
    {
     "name": "stdout",
     "output_type": "stream",
     "text": [
      "Percentage not having any heart issues\n",
      "90.79494039536107\n",
      "Percentage havingheart issues\n",
      "9.205059604638933\n"
     ]
    }
   ],
   "source": [
    "print(\"Percentage not having any heart issues\" )\n",
    "print(counts[0][1]/total_counts*100)\n",
    "print(\"Percentage havingheart issues\" )\n",
    "print(counts[1][1]/total_counts*100)"
   ]
  },
  {
   "cell_type": "markdown",
   "id": "bd1842fd",
   "metadata": {},
   "source": [
    "Note: The data is imbalanced only 9.2% has heart issues ... so we may need to either oversample or undersample when training our models. Additionally we will have to consider measures other than just accuracy to judge our model performance. Precision, Recall and F1 score will have to be considered. "
   ]
  },
  {
   "cell_type": "markdown",
   "id": "c2efba82",
   "metadata": {},
   "source": [
    "#### 2.1 Descriptive Analysis"
   ]
  },
  {
   "cell_type": "code",
   "execution_count": 11,
   "id": "9946acce",
   "metadata": {},
   "outputs": [
    {
     "name": "stdout",
     "output_type": "stream",
     "text": [
      "+-------+-----------------+-------------------+-------------------+-------------------+-------------------+\n",
      "|summary|              BMI|           HighChol|          CholCheck|       FruitConsume|   VegetableConsume|\n",
      "+-------+-----------------+-------------------+-------------------+-------------------+-------------------+\n",
      "|  count|           519171|             519171|             519171|             519171|             519171|\n",
      "|   mean|28.56327531776717| 0.3915029922703695| 0.9600959991987226| 0.6461416373410688|  0.833698338312425|\n",
      "| stddev|6.330915524634669|0.48808693711025664|0.19573386348664162|0.47816635414421166|0.37235156245084894|\n",
      "|    min|             12.0|                0.0|                0.0|                0.0|                0.0|\n",
      "|    max|             98.7|                1.0|                1.0|                1.0|                1.0|\n",
      "+-------+-----------------+-------------------+-------------------+-------------------+-------------------+\n",
      "\n"
     ]
    }
   ],
   "source": [
    "heartData.describe(['BMI','HighChol','CholCheck','FruitConsume','VegetableConsume']).show()"
   ]
  },
  {
   "cell_type": "code",
   "execution_count": 12,
   "id": "0ef47701",
   "metadata": {},
   "outputs": [
    {
     "name": "stdout",
     "output_type": "stream",
     "text": [
      "+-------+-------------------+-------------------+-------------------+-------------------+\n",
      "|summary|             Smoker|       HeavyDrinker|           Diabetes|             Stroke|\n",
      "+-------+-------------------+-------------------+-------------------+-------------------+\n",
      "|  count|             519171|             519171|             519171|             519171|\n",
      "|   mean|     0.431405066924|0.06193912988206198|0.17125571343545767|0.04223656560169963|\n",
      "| stddev|0.49527286179548236|0.24104519490348594|0.37673262060037704|0.20112860573716723|\n",
      "|    min|                0.0|                0.0|                0.0|                0.0|\n",
      "|    max|                1.0|                1.0|                1.0|                1.0|\n",
      "+-------+-------------------+-------------------+-------------------+-------------------+\n",
      "\n"
     ]
    }
   ],
   "source": [
    "heartData.describe(['Smoker','HeavyDrinker','Diabetes','Stroke']).show()"
   ]
  },
  {
   "cell_type": "code",
   "execution_count": 13,
   "id": "7be747ac",
   "metadata": {},
   "outputs": [
    {
     "name": "stdout",
     "output_type": "stream",
     "text": [
      "+-------+-------------------+-------------------+------------------+------------------+\n",
      "|summary|         Healthcare|  NoDoctorDueToCost|  PhysicalActivity|     GeneralHealth|\n",
      "+-------+-------------------+-------------------+------------------+------------------+\n",
      "|  count|             519171|             519171|            519171|            519171|\n",
      "|   mean| 0.9390759499278658|0.09431189338387545|0.7490788198878597|3.4484206552369066|\n",
      "| stddev|0.23919117959178865|0.29226242433231586|0.4335436581501136|1.0641187958099112|\n",
      "|    min|                0.0|                0.0|               0.0|               1.0|\n",
      "|    max|                1.0|                1.0|               1.0|               5.0|\n",
      "+-------+-------------------+-------------------+------------------+------------------+\n",
      "\n"
     ]
    }
   ],
   "source": [
    "heartData.describe(['Healthcare','NoDoctorDueToCost','PhysicalActivity','GeneralHealth']).show()"
   ]
  },
  {
   "cell_type": "code",
   "execution_count": 14,
   "id": "47ef8975",
   "metadata": {},
   "outputs": [
    {
     "name": "stdout",
     "output_type": "stream",
     "text": [
      "+-------+-----------------+------------------+-------------------+\n",
      "|summary|   PhysicalHealth|      MentalHealth|  DifficultyWalking|\n",
      "+-------+-----------------+------------------+-------------------+\n",
      "|  count|           519171|            519171|             519171|\n",
      "|   mean|4.361489759636036|3.5516814305883804|0.16746120257102187|\n",
      "| stddev|8.792808096235884| 7.733453215085699|0.37338748873597627|\n",
      "|    min|              0.0|               0.0|                0.0|\n",
      "|    max|             30.0|              30.0|                1.0|\n",
      "+-------+-----------------+------------------+-------------------+\n",
      "\n"
     ]
    }
   ],
   "source": [
    "heartData.describe(['PhysicalHealth','MentalHealth','DifficultyWalking']).show()"
   ]
  },
  {
   "cell_type": "code",
   "execution_count": 15,
   "id": "9a064987",
   "metadata": {},
   "outputs": [
    {
     "name": "stdout",
     "output_type": "stream",
     "text": [
      "+-------+-------------------+------------------+------------------+-----------------+\n",
      "|summary|             Gender|               Age|         Education|           Income|\n",
      "+-------+-------------------+------------------+------------------+-----------------+\n",
      "|  count|             519171|            519171|            519171|           519171|\n",
      "|   mean|0.46337911786290065|7.9175435453829275| 5.063150676751976|6.083748899688157|\n",
      "| stddev| 0.4986575878758885| 3.241323105698738|0.9768962159188829|2.073786990025714|\n",
      "|    min|                0.0|               1.0|               1.0|              1.0|\n",
      "|    max|                1.0|              13.0|               6.0|              8.0|\n",
      "+-------+-------------------+------------------+------------------+-----------------+\n",
      "\n"
     ]
    }
   ],
   "source": [
    "heartData.describe(['Gender','Age','Education','Income']).show()"
   ]
  },
  {
   "cell_type": "markdown",
   "id": "86e377cb",
   "metadata": {},
   "source": [
    "Notes: Most of the data is boolean or binned like for Age. The data is quite consistent . BMI max is at 98.7 which is  large but is a possible value so we will not remove such values."
   ]
  },
  {
   "cell_type": "markdown",
   "id": "50fcc6db",
   "metadata": {},
   "source": [
    "#### 2.2 Correlation Analysis"
   ]
  },
  {
   "cell_type": "code",
   "execution_count": 16,
   "id": "67bd3340",
   "metadata": {},
   "outputs": [],
   "source": [
    "from pyspark.ml.stat import Correlation"
   ]
  },
  {
   "cell_type": "code",
   "execution_count": 17,
   "id": "7ecc31ea",
   "metadata": {},
   "outputs": [],
   "source": [
    "colNames = heartData.columns"
   ]
  },
  {
   "cell_type": "code",
   "execution_count": 18,
   "id": "f74484c0",
   "metadata": {},
   "outputs": [],
   "source": [
    "# This cell takes a lot of time \n",
    "corrList = []\n",
    "for col in colNames:\n",
    "    pearsonCorr = heartData.corr('HeartDisease',col)\n",
    "    corrList.append((\"BMI - \"+col,pearsonCorr))"
   ]
  },
  {
   "cell_type": "code",
   "execution_count": 19,
   "id": "ecc1df80",
   "metadata": {},
   "outputs": [
    {
     "data": {
      "text/plain": [
       "[('BMI - HeartDisease', 1.0),\n",
       " ('BMI - State', 0.006444321393978534),\n",
       " ('BMI - BMI', 0.05058519245234513),\n",
       " ('BMI - HighBP', 0.2098579059479823),\n",
       " ('BMI - HighChol', 0.1859344957309097),\n",
       " ('BMI - CholCheck', 0.04574915829500349),\n",
       " ('BMI - FruitConsume', -0.012932002071759112),\n",
       " ('BMI - VegetableConsume', -0.023949296306889675),\n",
       " ('BMI - Smoker', 0.11680965215675526),\n",
       " ('BMI - HeavyDrinker', -0.03037897687609935),\n",
       " ('BMI - Diabetes', 0.17086995852514197),\n",
       " ('BMI - Stroke', 0.1990394390425505),\n",
       " ('BMI - Healthcare', 0.027174079890363557),\n",
       " ('BMI - NoDoctorDueToCost', 0.026098505344340245),\n",
       " ('BMI - PhysicalActivity', -0.08797288374111345),\n",
       " ('BMI - GeneralHealth', -0.2507726735558453),\n",
       " ('BMI - PhysicalHealth', 0.18450992906634142),\n",
       " ('BMI - MentalHealth', 0.059861227400692135),\n",
       " ('BMI - DifficultyWalking', 0.20788019512527584),\n",
       " ('BMI - Gender', 0.080903183631275),\n",
       " ('BMI - Age', 0.21882047127416504),\n",
       " ('BMI - Education', -0.08831463775581311),\n",
       " ('BMI - Income', -0.1298266025074565)]"
      ]
     },
     "execution_count": 19,
     "metadata": {},
     "output_type": "execute_result"
    }
   ],
   "source": [
    "corrList"
   ]
  },
  {
   "cell_type": "markdown",
   "id": "3d7f5099",
   "metadata": {},
   "source": [
    "## 3. CLASSIFICATION MODEL"
   ]
  },
  {
   "cell_type": "code",
   "execution_count": 20,
   "id": "849285a2",
   "metadata": {},
   "outputs": [
    {
     "name": "stdout",
     "output_type": "stream",
     "text": [
      "+------------+-----+-----+------+--------+---------+------------+----------------+------+------------+--------+------+----------+-----------------+----------------+-------------+--------------+------------+-----------------+------+----+---------+------+--------------------+\n",
      "|HeartDisease|State|  BMI|HighBP|HighChol|CholCheck|FruitConsume|VegetableConsume|Smoker|HeavyDrinker|Diabetes|Stroke|Healthcare|NoDoctorDueToCost|PhysicalActivity|GeneralHealth|PhysicalHealth|MentalHealth|DifficultyWalking|Gender| Age|Education|Income|            features|\n",
      "+------------+-----+-----+------+--------+---------+------------+----------------+------+------------+--------+------+----------+-----------------+----------------+-------------+--------------+------------+-----------------+------+----+---------+------+--------------------+\n",
      "|         0.0| 22.0|23.91|   0.0|     0.0|      1.0|         1.0|             1.0|   1.0|         0.0|     0.0|   0.0|       0.0|              0.0|             1.0|          5.0|           0.0|         2.0|              0.0|   0.0| 4.0|      4.0|   5.0|(20,[0,2,3,4,5,11...|\n",
      "|         1.0| 22.0|39.15|   1.0|     1.0|      1.0|         0.0|             0.0|   0.0|         0.0|     1.0|   0.0|       1.0|              1.0|             0.0|          1.0|          30.0|         0.0|              1.0|   0.0| 9.0|      4.0|   5.0|(20,[0,1,2,7,9,10...|\n",
      "|         0.0| 22.0|33.36|   0.0|     1.0|      1.0|         0.0|             1.0|   1.0|         0.0|     1.0|   0.0|       1.0|              0.0|             1.0|          3.0|           0.0|         0.0|              0.0|   1.0| 6.0|      4.0|   8.0|[33.36,1.0,1.0,0....|\n",
      "|         0.0| 22.0|29.84|   0.0|     0.0|      0.0|         1.0|             1.0|   1.0|         0.0|     0.0|   0.0|       1.0|              0.0|             1.0|          5.0|           0.0|        30.0|              0.0|   1.0| 6.0|      3.0|   8.0|(20,[0,3,4,5,9,11...|\n",
      "|         0.0| 22.0|24.82|   1.0|     1.0|      1.0|         1.0|             1.0|   1.0|         0.0|     0.0|   0.0|       1.0|              0.0|             1.0|          4.0|           0.0|         0.0|              0.0|   1.0|11.0|      5.0|   6.0|[24.82,1.0,1.0,1....|\n",
      "|         0.0| 22.0|28.89|   1.0|     0.0|      0.0|         0.0|             0.0|   1.0|         0.0|     0.0|   0.0|       0.0|              1.0|             1.0|          2.0|           0.0|        14.0|              0.0|   1.0| 4.0|      3.0|   4.0|(20,[0,5,10,11,12...|\n",
      "|         0.0| 22.0|27.06|   0.0|     0.0|      0.0|         0.0|             1.0|   0.0|         0.0|     0.0|   0.0|       0.0|              0.0|             1.0|          4.0|           0.0|         0.0|              0.0|   1.0| 7.0|      5.0|   6.0|(20,[0,4,11,12,16...|\n",
      "|         0.0| 22.0|33.72|   0.0|     0.0|      1.0|         1.0|             1.0|   1.0|         0.0|     0.0|   0.0|       1.0|              0.0|             1.0|          3.0|           7.0|         0.0|              0.0|   1.0| 5.0|      5.0|   7.0|[33.72,0.0,1.0,1....|\n",
      "|         0.0| 22.0|31.35|   0.0|     0.0|      1.0|         1.0|             1.0|   1.0|         0.0|     1.0|   0.0|       1.0|              0.0|             1.0|          3.0|           3.0|         0.0|              0.0|   0.0| 3.0|      5.0|   3.0|[31.35,0.0,1.0,1....|\n",
      "|         0.0| 22.0|21.93|   0.0|     0.0|      1.0|         0.0|             1.0|   0.0|         0.0|     0.0|   0.0|       1.0|              0.0|             1.0|          5.0|           0.0|         0.0|              0.0|   1.0| 1.0|      5.0|   8.0|(20,[0,2,4,9,11,1...|\n",
      "|         0.0| 22.0| 27.4|   0.0|     0.0|      1.0|         1.0|             1.0|   1.0|         0.0|     0.0|   0.0|       1.0|              0.0|             1.0|          5.0|           0.0|         0.0|              0.0|   0.0| 5.0|      4.0|   8.0|(20,[0,2,3,4,5,9,...|\n",
      "|         0.0| 22.0| 26.5|   0.0|     0.0|      1.0|         1.0|             1.0|   0.0|         0.0|     0.0|   0.0|       1.0|              0.0|             1.0|          3.0|           0.0|         0.0|              0.0|   1.0| 8.0|      6.0|   8.0|(20,[0,2,3,4,9,11...|\n",
      "|         0.0| 22.0|34.59|   1.0|     0.0|      1.0|         0.0|             0.0|   1.0|         0.0|     0.0|   0.0|       1.0|              0.0|             1.0|          3.0|           0.0|         0.0|              0.0|   1.0| 3.0|      4.0|   8.0|(20,[0,2,5,9,11,1...|\n",
      "|         0.0| 22.0| 30.9|   1.0|     0.0|      1.0|         1.0|             1.0|   0.0|         0.0|     0.0|   0.0|       1.0|              0.0|             0.0|          3.0|           0.0|         0.0|              0.0|   0.0| 9.0|      6.0|   6.0|(20,[0,2,3,4,9,12...|\n",
      "|         0.0| 22.0| 39.0|   0.0|     0.0|      1.0|         0.0|             0.0|   1.0|         0.0|     0.0|   0.0|       1.0|              1.0|             0.0|          3.0|           1.0|        30.0|              0.0|   0.0| 2.0|      5.0|   8.0|(20,[0,2,5,9,10,1...|\n",
      "|         0.0| 22.0|18.62|   0.0|     0.0|      1.0|         0.0|             0.0|   1.0|         0.0|     0.0|   0.0|       0.0|              0.0|             0.0|          3.0|           0.0|         0.0|              0.0|   0.0| 4.0|      3.0|   3.0|(20,[0,2,5,12,17,...|\n",
      "|         0.0| 22.0| 45.1|   1.0|     0.0|      1.0|         1.0|             1.0|   1.0|         0.0|     0.0|   1.0|       1.0|              0.0|             0.0|          1.0|          20.0|        15.0|              1.0|   0.0|10.0|      3.0|   1.0|[45.1,0.0,1.0,1.0...|\n",
      "|         0.0| 22.0|18.14|   0.0|     0.0|      1.0|         1.0|             0.0|   1.0|         0.0|     0.0|   0.0|       1.0|              0.0|             1.0|          5.0|           0.0|         0.0|              0.0|   0.0| 2.0|      3.0|   8.0|(20,[0,2,3,5,9,11...|\n",
      "|         1.0| 22.0|24.12|   1.0|     0.0|      1.0|         1.0|             1.0|   1.0|         0.0|     0.0|   0.0|       1.0|              0.0|             1.0|          2.0|           2.0|         5.0|              0.0|   1.0|10.0|      3.0|   3.0|[24.12,0.0,1.0,1....|\n",
      "|         0.0| 22.0|21.29|   0.0|     0.0|      1.0|         0.0|             1.0|   0.0|         1.0|     0.0|   0.0|       1.0|              0.0|             0.0|          3.0|           0.0|        30.0|              0.0|   1.0| 2.0|      4.0|   3.0|(20,[0,2,4,6,9,12...|\n",
      "+------------+-----+-----+------+--------+---------+------------+----------------+------+------------+--------+------+----------+-----------------+----------------+-------------+--------------+------------+-----------------+------+----+---------+------+--------------------+\n",
      "only showing top 20 rows\n",
      "\n"
     ]
    },
    {
     "name": "stderr",
     "output_type": "stream",
     "text": [
      "22/05/29 22:49:28 WARN package: Truncated the string representation of a plan since it was too large. This behavior can be adjusted by setting 'spark.sql.debug.maxToStringFields'.\n"
     ]
    }
   ],
   "source": [
    "from pyspark.ml.feature import VectorAssembler\n",
    "\n",
    "numericCols = ['BMI','HighChol','CholCheck','FruitConsume','VegetableConsume','Smoker','HeavyDrinker', \\\n",
    "               'Diabetes','Stroke','Healthcare','NoDoctorDueToCost','PhysicalActivity','GeneralHealth', \\\n",
    "               'PhysicalHealth','MentalHealth','DifficultyWalking','Gender','Age','Education','Income']\n",
    "assembler = VectorAssembler(inputCols=numericCols, outputCol=\"features\")\n",
    "df = assembler.transform(heartData)\n",
    "df.show(20)"
   ]
  },
  {
   "cell_type": "code",
   "execution_count": 21,
   "id": "16993750",
   "metadata": {},
   "outputs": [
    {
     "name": "stderr",
     "output_type": "stream",
     "text": [
      "                                                                                \r"
     ]
    },
    {
     "name": "stdout",
     "output_type": "stream",
     "text": [
      "Training Dataset Count: 363274\n"
     ]
    },
    {
     "name": "stderr",
     "output_type": "stream",
     "text": [
      "\r",
      "[Stage 77:>                                                         (0 + 8) / 8]\r"
     ]
    },
    {
     "name": "stdout",
     "output_type": "stream",
     "text": [
      "Test Dataset Count: 155897\n"
     ]
    },
    {
     "name": "stderr",
     "output_type": "stream",
     "text": [
      "\r",
      "[Stage 77:=====================>                                    (3 + 5) / 8]\r",
      "\r",
      "                                                                                \r"
     ]
    }
   ],
   "source": [
    "train, test = df.randomSplit([0.7, 0.3], seed = 2018)\n",
    "print(\"Training Dataset Count: \" + str(train.count()))\n",
    "print(\"Test Dataset Count: \" + str(test.count()))"
   ]
  },
  {
   "cell_type": "code",
   "execution_count": 22,
   "id": "69253fcd",
   "metadata": {},
   "outputs": [
    {
     "name": "stderr",
     "output_type": "stream",
     "text": [
      "                                                                                \r"
     ]
    },
    {
     "name": "stdout",
     "output_type": "stream",
     "text": [
      "+-----+--------+---------+------------+----------------+------+------------+--------+------+----------+-----------------+----------------+-------------+--------------+------------+-----------------+------+----+---------+------+------------+--------------------+----------+--------------------+\n",
      "|  BMI|HighChol|CholCheck|FruitConsume|VegetableConsume|Smoker|HeavyDrinker|Diabetes|Stroke|Healthcare|NoDoctorDueToCost|PhysicalActivity|GeneralHealth|PhysicalHealth|MentalHealth|DifficultyWalking|Gender| Age|Education|Income|HeartDisease|       rawPrediction|prediction|         probability|\n",
      "+-----+--------+---------+------------+----------------+------+------------+--------+------+----------+-----------------+----------------+-------------+--------------+------------+-----------------+------+----+---------+------+------------+--------------------+----------+--------------------+\n",
      "|16.47|     0.0|      1.0|         1.0|             1.0|   0.0|         0.0|     0.0|   0.0|       1.0|              0.0|             0.0|          2.0|          30.0|         0.0|              1.0|   0.0|11.0|      4.0|   5.0|         0.0|[17.2345142530104...|       0.0|[0.86172571265052...|\n",
      "|18.36|     0.0|      1.0|         1.0|             1.0|   0.0|         0.0|     0.0|   0.0|       1.0|              0.0|             1.0|          3.0|           4.0|         0.0|              1.0|   0.0|11.0|      5.0|   1.0|         0.0|[17.9119497770350...|       0.0|[0.89559748885175...|\n",
      "|18.56|     1.0|      1.0|         1.0|             1.0|   1.0|         0.0|     0.0|   0.0|       1.0|              0.0|             1.0|          4.0|           0.0|         0.0|              0.0|   0.0| 7.0|      4.0|   8.0|         0.0|[18.5789561833312...|       0.0|[0.92894780916656...|\n",
      "|18.62|     0.0|      1.0|         0.0|             0.0|   1.0|         0.0|     0.0|   0.0|       0.0|              0.0|             0.0|          3.0|           0.0|         0.0|              0.0|   0.0| 4.0|      3.0|   3.0|         0.0|[18.6080216206290...|       0.0|[0.93040108103145...|\n",
      "| 19.2|     0.0|      1.0|         1.0|             0.0|   1.0|         0.0|     0.0|   0.0|       1.0|              0.0|             0.0|          2.0|          30.0|        30.0|              1.0|   0.0| 8.0|      5.0|   2.0|         0.0|[17.2569303561910...|       0.0|[0.86284651780955...|\n",
      "|19.49|     0.0|      1.0|         1.0|             1.0|   0.0|         0.0|     0.0|   0.0|       1.0|              0.0|             1.0|          5.0|           0.0|         0.0|              0.0|   0.0| 3.0|      6.0|   8.0|         0.0|[18.7975447621226...|       0.0|[0.93987723810613...|\n",
      "|20.01|     0.0|      1.0|         0.0|             0.0|   0.0|         0.0|     0.0|   0.0|       1.0|              0.0|             1.0|          4.0|          30.0|        10.0|              0.0|   0.0| 7.0|      6.0|   8.0|         0.0|[18.6250496667176...|       0.0|[0.93125248333588...|\n",
      "|20.36|     0.0|      1.0|         0.0|             1.0|   1.0|         0.0|     0.0|   0.0|       1.0|              0.0|             1.0|          2.0|          14.0|         0.0|              0.0|   0.0| 8.0|      6.0|   7.0|         0.0|[17.7945042917192...|       0.0|[0.88972521458596...|\n",
      "|20.47|     0.0|      1.0|         1.0|             1.0|   1.0|         0.0|     0.0|   0.0|       1.0|              0.0|             1.0|          5.0|           7.0|         0.0|              0.0|   0.0| 8.0|      5.0|   3.0|         0.0|[18.6080216206290...|       0.0|[0.93040108103145...|\n",
      "|20.48|     0.0|      1.0|         1.0|             0.0|   0.0|         0.0|     0.0|   0.0|       1.0|              1.0|             1.0|          4.0|           1.0|         0.0|              0.0|   0.0| 2.0|      6.0|   8.0|         0.0|[18.7975447621226...|       0.0|[0.93987723810613...|\n",
      "|20.67|     0.0|      1.0|         0.0|             1.0|   0.0|         0.0|     0.0|   0.0|       1.0|              0.0|             1.0|          3.0|           4.0|         6.0|              0.0|   1.0| 1.0|      6.0|   6.0|         0.0|[18.7633266930665...|       0.0|[0.93816633465332...|\n",
      "|20.75|     0.0|      1.0|         1.0|             1.0|   0.0|         0.0|     0.0|   0.0|       1.0|              0.0|             1.0|          5.0|           0.0|         0.0|              0.0|   1.0| 6.0|      6.0|   8.0|         0.0|[18.7975447621226...|       0.0|[0.93987723810613...|\n",
      "|20.85|     0.0|      1.0|         1.0|             1.0|   1.0|         0.0|     0.0|   0.0|       1.0|              0.0|             1.0|          2.0|          25.0|        10.0|              1.0|   0.0|13.0|      4.0|   5.0|         0.0|[16.8433855302124...|       0.0|[0.84216927651062...|\n",
      "|20.92|     0.0|      1.0|         0.0|             1.0|   1.0|         0.0|     0.0|   0.0|       1.0|              0.0|             1.0|          3.0|           0.0|         4.0|              0.0|   1.0| 9.0|      5.0|   6.0|         0.0|[18.3383483867514...|       0.0|[0.91691741933757...|\n",
      "|21.03|     0.0|      1.0|         1.0|             1.0|   1.0|         0.0|     0.0|   0.0|       1.0|              0.0|             1.0|          4.0|           2.0|         0.0|              0.0|   0.0| 9.0|      6.0|   7.0|         0.0|[18.3865985807309...|       0.0|[0.91932992903654...|\n",
      "|21.52|     0.0|      1.0|         0.0|             1.0|   1.0|         0.0|     0.0|   0.0|       1.0|              0.0|             0.0|          4.0|           0.0|        20.0|              0.0|   1.0| 4.0|      4.0|   8.0|         0.0|[18.6562718146085...|       0.0|[0.93281359073042...|\n",
      "|21.63|     0.0|      1.0|         0.0|             0.0|   0.0|         1.0|     0.0|   0.0|       1.0|              0.0|             1.0|          4.0|           0.0|         2.0|              0.0|   0.0| 9.0|      6.0|   8.0|         0.0|[18.5278715282450...|       0.0|[0.92639357641225...|\n",
      "|21.77|     0.0|      1.0|         1.0|             1.0|   0.0|         0.0|     0.0|   0.0|       1.0|              0.0|             1.0|          5.0|           0.0|         5.0|              0.0|   0.0| 7.0|      5.0|   8.0|         0.0|[18.7975447621226...|       0.0|[0.93987723810613...|\n",
      "|21.79|     0.0|      1.0|         0.0|             1.0|   1.0|         0.0|     0.0|   0.0|       1.0|              0.0|             1.0|          5.0|           1.0|         0.0|              0.0|   0.0| 4.0|      5.0|   8.0|         0.0|[18.6562718146085...|       0.0|[0.93281359073042...|\n",
      "|21.95|     0.0|      1.0|         0.0|             1.0|   0.0|         0.0|     0.0|   0.0|       1.0|              0.0|             1.0|          5.0|           0.0|         0.0|              0.0|   0.0| 7.0|      6.0|   8.0|         0.0|[18.7975447621226...|       0.0|[0.93987723810613...|\n",
      "|21.95|     1.0|      1.0|         1.0|             1.0|   1.0|         0.0|     1.0|   0.0|       1.0|              0.0|             1.0|          3.0|           0.0|         0.0|              0.0|   0.0|10.0|      3.0|   6.0|         0.0|[18.1642277667771...|       0.0|[0.90821138833885...|\n",
      "|21.97|     0.0|      1.0|         1.0|             1.0|   0.0|         0.0|     0.0|   0.0|       1.0|              0.0|             1.0|          5.0|           1.0|         1.0|              0.0|   0.0| 3.0|      5.0|   7.0|         0.0|[18.7975447621226...|       0.0|[0.93987723810613...|\n",
      "|22.24|     1.0|      1.0|         1.0|             1.0|   1.0|         0.0|     0.0|   0.0|       1.0|              0.0|             1.0|          4.0|           0.0|         0.0|              0.0|   0.0|10.0|      4.0|   6.0|         0.0|[18.2610327554741...|       0.0|[0.91305163777370...|\n",
      "|22.31|     1.0|      1.0|         1.0|             1.0|   0.0|         0.0|     0.0|   0.0|       1.0|              0.0|             1.0|          4.0|           0.0|         0.0|              0.0|   0.0|10.0|      6.0|   7.0|         0.0|[18.4031319099791...|       0.0|[0.92015659549895...|\n",
      "|22.32|     0.0|      1.0|         0.0|             0.0|   0.0|         1.0|     0.0|   0.0|       0.0|              0.0|             1.0|          5.0|           0.0|         0.0|              0.0|   1.0| 5.0|      4.0|   8.0|         0.0|[18.7975447621226...|       0.0|[0.93987723810613...|\n",
      "+-----+--------+---------+------------+----------------+------+------------+--------+------+----------+-----------------+----------------+-------------+--------------+------------+-----------------+------+----+---------+------+------------+--------------------+----------+--------------------+\n",
      "only showing top 25 rows\n",
      "\n"
     ]
    }
   ],
   "source": [
    "from pyspark.ml.classification import RandomForestClassifier\n",
    "\n",
    "rf = RandomForestClassifier(featuresCol = 'features', labelCol = 'HeartDisease')\n",
    "rfModel = rf.fit(train)\n",
    "predictions = rfModel.transform(test)\n",
    "predictions.select('BMI','HighChol','CholCheck','FruitConsume','VegetableConsume','Smoker','HeavyDrinker', \\\n",
    "               'Diabetes','Stroke','Healthcare','NoDoctorDueToCost','PhysicalActivity','GeneralHealth', \\\n",
    "               'PhysicalHealth','MentalHealth','DifficultyWalking','Gender','Age','Education','Income', \\\n",
    "               'HeartDisease', 'rawPrediction', 'prediction', 'probability').show(25)\n"
   ]
  },
  {
   "cell_type": "code",
   "execution_count": 23,
   "id": "ff2a6073",
   "metadata": {},
   "outputs": [
    {
     "name": "stdout",
     "output_type": "stream",
     "text": [
      "+------------+----------+\n",
      "|HeartDisease|prediction|\n",
      "+------------+----------+\n",
      "|         0.0|       0.0|\n",
      "|         0.0|       0.0|\n",
      "|         0.0|       0.0|\n",
      "|         0.0|       0.0|\n",
      "|         0.0|       0.0|\n",
      "|         0.0|       0.0|\n",
      "|         0.0|       0.0|\n",
      "|         0.0|       0.0|\n",
      "|         0.0|       0.0|\n",
      "|         0.0|       0.0|\n",
      "+------------+----------+\n",
      "only showing top 10 rows\n",
      "\n"
     ]
    }
   ],
   "source": [
    "predictions.select(\"HeartDisease\", \"prediction\").show(10)"
   ]
  },
  {
   "cell_type": "code",
   "execution_count": 24,
   "id": "7afd0595",
   "metadata": {},
   "outputs": [
    {
     "name": "stderr",
     "output_type": "stream",
     "text": [
      "\r",
      "[Stage 99:>                                                         (0 + 8) / 8]\r"
     ]
    },
    {
     "name": "stdout",
     "output_type": "stream",
     "text": [
      "Accuracy = 0.8636553443246029\n",
      "Test Error = 0.1363446556753971\n"
     ]
    },
    {
     "name": "stderr",
     "output_type": "stream",
     "text": [
      "\r",
      "                                                                                \r"
     ]
    }
   ],
   "source": [
    "from pyspark.ml.evaluation import MulticlassClassificationEvaluator\n",
    "\n",
    "evaluator = MulticlassClassificationEvaluator(labelCol=\"HeartDisease\", predictionCol=\"prediction\")\n",
    "accuracy = evaluator.evaluate(predictions)\n",
    "print(\"Accuracy = %s\" % (accuracy))\n",
    "print(\"Test Error = %s\" % (1.0 - accuracy))"
   ]
  },
  {
   "cell_type": "code",
   "execution_count": 25,
   "id": "6670bcda",
   "metadata": {},
   "outputs": [
    {
     "name": "stderr",
     "output_type": "stream",
     "text": [
      "/opt/homebrew/Cellar/apache-spark/3.2.1/libexec/python/pyspark/sql/context.py:125: FutureWarning: Deprecated in 3.0.0. Use SparkSession.builder.getOrCreate() instead.\n",
      "  warnings.warn(\n",
      "                                                                                \r"
     ]
    },
    {
     "name": "stdout",
     "output_type": "stream",
     "text": [
      "[[141494.      0.]\n",
      " [ 14403.      0.]]\n"
     ]
    },
    {
     "name": "stderr",
     "output_type": "stream",
     "text": [
      "\r",
      "[Stage 106:>                                                        (0 + 1) / 1]\r",
      "\r",
      "                                                                                \r"
     ]
    }
   ],
   "source": [
    "from pyspark.mllib.evaluation import MulticlassMetrics\n",
    "from pyspark.sql.types import FloatType\n",
    "import pyspark.sql.functions as F\n",
    "\n",
    "preds_and_labels = predictions.select(['prediction','HeartDisease']).withColumn('HeartDisease', F.col('HeartDisease').cast(FloatType())).orderBy('prediction')\n",
    "preds_and_labels = preds_and_labels.select(['prediction','HeartDisease'])\n",
    "metrics = MulticlassMetrics(preds_and_labels.rdd.map(tuple))\n",
    "print(metrics.confusionMatrix().toArray())"
   ]
  },
  {
   "cell_type": "code",
   "execution_count": null,
   "id": "30287fb6",
   "metadata": {},
   "outputs": [],
   "source": []
  },
  {
   "cell_type": "code",
   "execution_count": null,
   "id": "67dd71ea",
   "metadata": {},
   "outputs": [],
   "source": []
  },
  {
   "cell_type": "code",
   "execution_count": null,
   "id": "0c85b34f",
   "metadata": {},
   "outputs": [],
   "source": []
  },
  {
   "cell_type": "code",
   "execution_count": null,
   "id": "fd9133bc",
   "metadata": {},
   "outputs": [],
   "source": []
  },
  {
   "cell_type": "code",
   "execution_count": null,
   "id": "b67c6565",
   "metadata": {},
   "outputs": [],
   "source": []
  },
  {
   "cell_type": "code",
   "execution_count": null,
   "id": "b31aae57",
   "metadata": {},
   "outputs": [],
   "source": []
  },
  {
   "cell_type": "code",
   "execution_count": null,
   "id": "d1f66741",
   "metadata": {},
   "outputs": [],
   "source": []
  },
  {
   "cell_type": "code",
   "execution_count": null,
   "id": "b4fd0a88",
   "metadata": {},
   "outputs": [],
   "source": []
  },
  {
   "cell_type": "code",
   "execution_count": null,
   "id": "6a17167d",
   "metadata": {},
   "outputs": [],
   "source": []
  },
  {
   "cell_type": "code",
   "execution_count": null,
   "id": "ccd1e0b4",
   "metadata": {},
   "outputs": [],
   "source": []
  },
  {
   "cell_type": "code",
   "execution_count": null,
   "id": "01019c6f",
   "metadata": {},
   "outputs": [],
   "source": []
  },
  {
   "cell_type": "code",
   "execution_count": null,
   "id": "d06d8d77",
   "metadata": {},
   "outputs": [],
   "source": []
  }
 ],
 "metadata": {
  "kernelspec": {
   "display_name": "Python 3 (ipykernel)",
   "language": "python",
   "name": "python3"
  },
  "language_info": {
   "codemirror_mode": {
    "name": "ipython",
    "version": 3
   },
   "file_extension": ".py",
   "mimetype": "text/x-python",
   "name": "python",
   "nbconvert_exporter": "python",
   "pygments_lexer": "ipython3",
   "version": "3.9.7"
  }
 },
 "nbformat": 4,
 "nbformat_minor": 5
}
