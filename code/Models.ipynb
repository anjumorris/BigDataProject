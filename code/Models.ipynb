{
 "cells": [
  {
   "cell_type": "code",
   "execution_count": 1,
   "id": "f859455c",
   "metadata": {},
   "outputs": [],
   "source": [
    "from pyspark.sql import SparkSession\n",
    "import sys\n",
    "import re\n",
    "import os"
   ]
  },
  {
   "cell_type": "code",
   "execution_count": 2,
   "id": "4d99fc5f",
   "metadata": {},
   "outputs": [],
   "source": [
    "spark = SparkSession.builder.appName(\"myapp\").getOrCreate()"
   ]
  },
  {
   "cell_type": "code",
   "execution_count": 3,
   "id": "3051c280",
   "metadata": {},
   "outputs": [
    {
     "name": "stdout",
     "output_type": "stream",
     "text": [
      "/opt/homebrew/Cellar/apache-spark/3.2.1/libexec\n"
     ]
    }
   ],
   "source": [
    "print(os.environ['SPARK_HOME'])"
   ]
  },
  {
   "cell_type": "markdown",
   "id": "4395ee1c",
   "metadata": {},
   "source": [
    "## 1. READING CLEANED DATA \n",
    "- We are reading the cleaned dataset set prepared in previous Juypter Notebook\n",
    "- Data is stored on S3 in following location:  s3://brfss-big-data-project/HeartRiskData/\n"
   ]
  },
  {
   "cell_type": "code",
   "execution_count": 4,
   "id": "605d08cd",
   "metadata": {},
   "outputs": [
    {
     "name": "stderr",
     "output_type": "stream",
     "text": [
      "                                                                                \r"
     ]
    }
   ],
   "source": [
    "# READ LOCAL DATA FILE\n",
    "# Comment if reading from S3\n",
    "\n",
    "heartData = spark.read.csv(\"../../../BRFSS/HeartRiskData/\", header='true',inferSchema='true')"
   ]
  },
  {
   "cell_type": "code",
   "execution_count": 8,
   "id": "e7b04faa",
   "metadata": {},
   "outputs": [
    {
     "name": "stderr",
     "output_type": "stream",
     "text": [
      "                                                                                \r"
     ]
    }
   ],
   "source": [
    "# READ FROM S3 BUCKET\n",
    "#Comment if reading locally\n",
    "# sc._jsc.hadoopConfiguration().set(\"fs.s3a.impl\",\"org.apache.hadoop.fs.s3a.S3AFileSystem\")\n",
    "# sc._jsc.hadoopConfiguration().set(\"com.amazonaws.services.s3.enableV4\", \"true\")\n",
    "# sc._jsc.hadoopConfiguration().set(\"fs.s3a.aws.credentials.provider\",\"org.apache.hadoop.fs.s3a.AnonymousAWSCredentialsProvider\")\n",
    "\n",
    "# heartData = spark.read.csv(\"s3a://brfss-big-data-project/HeartRiskData/\", header = 'true',inferSchema='true')"
   ]
  },
  {
   "cell_type": "code",
   "execution_count": 10,
   "id": "40da8a34",
   "metadata": {},
   "outputs": [
    {
     "name": "stdout",
     "output_type": "stream",
     "text": [
      "root\n",
      " |-- HeartDisease: double (nullable = true)\n",
      " |-- State: double (nullable = true)\n",
      " |-- BMI: double (nullable = true)\n",
      " |-- HighBP: double (nullable = true)\n",
      " |-- HighChol: double (nullable = true)\n",
      " |-- CholCheck: double (nullable = true)\n",
      " |-- FruitConsume: double (nullable = true)\n",
      " |-- VegetableConsume: double (nullable = true)\n",
      " |-- Smoker: double (nullable = true)\n",
      " |-- HeavyDrinker: double (nullable = true)\n",
      " |-- Diabetes: double (nullable = true)\n",
      " |-- Stroke: double (nullable = true)\n",
      " |-- Healthcare: double (nullable = true)\n",
      " |-- NoDoctorDueToCost: double (nullable = true)\n",
      " |-- PhysicalActivity: double (nullable = true)\n",
      " |-- GeneralHealth: double (nullable = true)\n",
      " |-- PhysicalHealth: double (nullable = true)\n",
      " |-- MentalHealth: double (nullable = true)\n",
      " |-- DifficultyWalking: double (nullable = true)\n",
      " |-- Gender: double (nullable = true)\n",
      " |-- Age: double (nullable = true)\n",
      " |-- Education: double (nullable = true)\n",
      " |-- Income: double (nullable = true)\n",
      "\n"
     ]
    }
   ],
   "source": [
    "heartData.printSchema()"
   ]
  },
  {
   "cell_type": "code",
   "execution_count": 12,
   "id": "f6f1c3e1",
   "metadata": {},
   "outputs": [
    {
     "name": "stdout",
     "output_type": "stream",
     "text": [
      "+------------+-----+\n",
      "|HeartDisease|  BMI|\n",
      "+------------+-----+\n",
      "|         0.0|23.91|\n",
      "|         1.0|39.15|\n",
      "|         0.0|33.36|\n",
      "|         0.0|29.84|\n",
      "|         0.0|24.82|\n",
      "+------------+-----+\n",
      "only showing top 5 rows\n",
      "\n"
     ]
    }
   ],
   "source": [
    "heartData.select(['HeartDisease','BMI']).show(5)"
   ]
  },
  {
   "cell_type": "code",
   "execution_count": 13,
   "id": "b777355b",
   "metadata": {},
   "outputs": [
    {
     "name": "stdout",
     "output_type": "stream",
     "text": [
      "Dimensions of the Data Frame:\n"
     ]
    },
    {
     "name": "stderr",
     "output_type": "stream",
     "text": [
      "[Stage 7:===================================================>       (7 + 1) / 8]\r"
     ]
    },
    {
     "name": "stdout",
     "output_type": "stream",
     "text": [
      "(519171, 23)\n"
     ]
    },
    {
     "name": "stderr",
     "output_type": "stream",
     "text": [
      "\r",
      "                                                                                \r"
     ]
    }
   ],
   "source": [
    "print(\"Dimensions of the Data Frame:\")\n",
    "print((heartData.count(), len(heartData.columns)))"
   ]
  },
  {
   "cell_type": "markdown",
   "id": "d24097a1",
   "metadata": {},
   "source": [
    "Note: We can see that after cleaning we have 0.5 million data points across 22 features with the target \"HeartDisease\" that indicates if the person is either suffering from heart disease or has had a heart attack. \n",
    "0 = No \n",
    "1 = Yes"
   ]
  },
  {
   "cell_type": "markdown",
   "id": "af4ff5d0",
   "metadata": {},
   "source": [
    "## 2. EXPLORATORY DATA ANALYSIS"
   ]
  },
  {
   "cell_type": "code",
   "execution_count": 27,
   "id": "e4014653",
   "metadata": {},
   "outputs": [
    {
     "name": "stderr",
     "output_type": "stream",
     "text": [
      "                                                                                \r"
     ]
    }
   ],
   "source": [
    "counts = heartData.groupBy('HeartDisease').count().collect()\n",
    "total_counts = heartData.count()"
   ]
  },
  {
   "cell_type": "code",
   "execution_count": 29,
   "id": "dcb3274d",
   "metadata": {},
   "outputs": [
    {
     "name": "stdout",
     "output_type": "stream",
     "text": [
      "Percentage not having any heart issues\n",
      "90.79494039536107\n",
      "Percentage havingheart issues\n",
      "9.205059604638933\n"
     ]
    }
   ],
   "source": [
    "print(\"Percentage not having any heart issues\" )\n",
    "print(counts[0][1]/total_counts*100)\n",
    "print(\"Percentage havingheart issues\" )\n",
    "print(counts[1][1]/total_counts*100)"
   ]
  },
  {
   "cell_type": "markdown",
   "id": "bd1842fd",
   "metadata": {},
   "source": [
    "Note: The data is imbalanced only 9.2% has heart issues ... so we may need to either oversample or undersample when training our models. Additionally we will have to consider measures other than just accuracy to judge our model performance. Precision, Recall and F1 score will have to be considered. "
   ]
  },
  {
   "cell_type": "markdown",
   "id": "c2efba82",
   "metadata": {},
   "source": [
    "#### 2.1 Descriptive Analysis"
   ]
  },
  {
   "cell_type": "code",
   "execution_count": 34,
   "id": "9946acce",
   "metadata": {},
   "outputs": [
    {
     "name": "stderr",
     "output_type": "stream",
     "text": [
      "[Stage 40:==================================================>       (7 + 1) / 8]\r"
     ]
    },
    {
     "name": "stdout",
     "output_type": "stream",
     "text": [
      "+-------+-----------------+-------------------+-------------------+-------------------+-------------------+\n",
      "|summary|              BMI|           HighChol|          CholCheck|       FruitConsume|   VegetableConsume|\n",
      "+-------+-----------------+-------------------+-------------------+-------------------+-------------------+\n",
      "|  count|           519171|             519171|             519171|             519171|             519171|\n",
      "|   mean|28.56327531776717| 0.3915029922703695| 0.9600959991987226| 0.6461416373410688|  0.833698338312425|\n",
      "| stddev|6.330915524634669|0.48808693711025664|0.19573386348664162|0.47816635414421166|0.37235156245084894|\n",
      "|    min|             12.0|                0.0|                0.0|                0.0|                0.0|\n",
      "|    max|             98.7|                1.0|                1.0|                1.0|                1.0|\n",
      "+-------+-----------------+-------------------+-------------------+-------------------+-------------------+\n",
      "\n"
     ]
    },
    {
     "name": "stderr",
     "output_type": "stream",
     "text": [
      "\r",
      "                                                                                \r"
     ]
    }
   ],
   "source": [
    "heartData.describe(['BMI','HighChol','CholCheck','FruitConsume','VegetableConsume']).show()"
   ]
  },
  {
   "cell_type": "code",
   "execution_count": 35,
   "id": "0ef47701",
   "metadata": {},
   "outputs": [
    {
     "name": "stderr",
     "output_type": "stream",
     "text": [
      "[Stage 43:==================================================>       (7 + 1) / 8]\r"
     ]
    },
    {
     "name": "stdout",
     "output_type": "stream",
     "text": [
      "+-------+-------------------+-------------------+-------------------+-------------------+\n",
      "|summary|             Smoker|       HeavyDrinker|           Diabetes|             Stroke|\n",
      "+-------+-------------------+-------------------+-------------------+-------------------+\n",
      "|  count|             519171|             519171|             519171|             519171|\n",
      "|   mean|     0.431405066924|0.06193912988206198|0.17125571343545767|0.04223656560169963|\n",
      "| stddev|0.49527286179548236|0.24104519490348594|0.37673262060037704|0.20112860573716723|\n",
      "|    min|                0.0|                0.0|                0.0|                0.0|\n",
      "|    max|                1.0|                1.0|                1.0|                1.0|\n",
      "+-------+-------------------+-------------------+-------------------+-------------------+\n",
      "\n"
     ]
    },
    {
     "name": "stderr",
     "output_type": "stream",
     "text": [
      "\r",
      "                                                                                \r"
     ]
    }
   ],
   "source": [
    "heartData.describe(['Smoker','HeavyDrinker','Diabetes','Stroke']).show()"
   ]
  },
  {
   "cell_type": "code",
   "execution_count": 36,
   "id": "7be747ac",
   "metadata": {},
   "outputs": [
    {
     "name": "stderr",
     "output_type": "stream",
     "text": [
      "[Stage 46:===========================================>              (6 + 2) / 8]\r"
     ]
    },
    {
     "name": "stdout",
     "output_type": "stream",
     "text": [
      "+-------+-------------------+-------------------+------------------+------------------+\n",
      "|summary|         Healthcare|  NoDoctorDueToCost|  PhysicalActivity|     GeneralHealth|\n",
      "+-------+-------------------+-------------------+------------------+------------------+\n",
      "|  count|             519171|             519171|            519171|            519171|\n",
      "|   mean| 0.9390759499278658|0.09431189338387545|0.7490788198878597|3.4484206552369066|\n",
      "| stddev|0.23919117959178865|0.29226242433231586|0.4335436581501136|1.0641187958099112|\n",
      "|    min|                0.0|                0.0|               0.0|               1.0|\n",
      "|    max|                1.0|                1.0|               1.0|               5.0|\n",
      "+-------+-------------------+-------------------+------------------+------------------+\n",
      "\n"
     ]
    },
    {
     "name": "stderr",
     "output_type": "stream",
     "text": [
      "\r",
      "[Stage 46:==================================================>       (7 + 1) / 8]\r",
      "\r",
      "                                                                                \r"
     ]
    }
   ],
   "source": [
    "heartData.describe(['Healthcare','NoDoctorDueToCost','PhysicalActivity','GeneralHealth']).show()"
   ]
  },
  {
   "cell_type": "code",
   "execution_count": 37,
   "id": "47ef8975",
   "metadata": {},
   "outputs": [
    {
     "name": "stderr",
     "output_type": "stream",
     "text": [
      "[Stage 49:==================================================>       (7 + 1) / 8]\r"
     ]
    },
    {
     "name": "stdout",
     "output_type": "stream",
     "text": [
      "+-------+-----------------+------------------+-------------------+\n",
      "|summary|   PhysicalHealth|      MentalHealth|  DifficultyWalking|\n",
      "+-------+-----------------+------------------+-------------------+\n",
      "|  count|           519171|            519171|             519171|\n",
      "|   mean|4.361489759636036|3.5516814305883804|0.16746120257102187|\n",
      "| stddev|8.792808096235884| 7.733453215085699|0.37338748873597627|\n",
      "|    min|              0.0|               0.0|                0.0|\n",
      "|    max|             30.0|              30.0|                1.0|\n",
      "+-------+-----------------+------------------+-------------------+\n",
      "\n"
     ]
    },
    {
     "name": "stderr",
     "output_type": "stream",
     "text": [
      "\r",
      "                                                                                \r"
     ]
    }
   ],
   "source": [
    "heartData.describe(['PhysicalHealth','MentalHealth','DifficultyWalking']).show()"
   ]
  },
  {
   "cell_type": "code",
   "execution_count": 38,
   "id": "9a064987",
   "metadata": {},
   "outputs": [
    {
     "name": "stderr",
     "output_type": "stream",
     "text": [
      "[Stage 52:==================================================>       (7 + 1) / 8]\r"
     ]
    },
    {
     "name": "stdout",
     "output_type": "stream",
     "text": [
      "+-------+-------------------+------------------+------------------+-----------------+\n",
      "|summary|             Gender|               Age|         Education|           Income|\n",
      "+-------+-------------------+------------------+------------------+-----------------+\n",
      "|  count|             519171|            519171|            519171|           519171|\n",
      "|   mean|0.46337911786290065|7.9175435453829275| 5.063150676751976|6.083748899688157|\n",
      "| stddev| 0.4986575878758885| 3.241323105698738|0.9768962159188829|2.073786990025714|\n",
      "|    min|                0.0|               1.0|               1.0|              1.0|\n",
      "|    max|                1.0|              13.0|               6.0|              8.0|\n",
      "+-------+-------------------+------------------+------------------+-----------------+\n",
      "\n"
     ]
    },
    {
     "name": "stderr",
     "output_type": "stream",
     "text": [
      "\r",
      "                                                                                \r"
     ]
    }
   ],
   "source": [
    "heartData.describe(['Gender','Age','Education','Income']).show()"
   ]
  },
  {
   "cell_type": "markdown",
   "id": "86e377cb",
   "metadata": {},
   "source": [
    "Notes: Most of the data is boolean or binned like for Age. The data is quite consistent . BMI max is at 98.7 which is  large but is a possible value so we will not remove such values."
   ]
  },
  {
   "cell_type": "markdown",
   "id": "50fcc6db",
   "metadata": {},
   "source": [
    "#### 2.2 Correlation Analysis"
   ]
  },
  {
   "cell_type": "code",
   "execution_count": 40,
   "id": "67bd3340",
   "metadata": {},
   "outputs": [],
   "source": [
    "from pyspark.ml.stat import Correlation"
   ]
  },
  {
   "cell_type": "code",
   "execution_count": 49,
   "id": "7ecc31ea",
   "metadata": {},
   "outputs": [],
   "source": [
    "colNames = heartData.columns"
   ]
  },
  {
   "cell_type": "code",
   "execution_count": 58,
   "id": "f74484c0",
   "metadata": {},
   "outputs": [
    {
     "name": "stderr",
     "output_type": "stream",
     "text": [
      "                                                                                \r"
     ]
    }
   ],
   "source": [
    "# This cell takes a lot of time \n",
    "corrList = []\n",
    "for col in colNames:\n",
    "    pearsonCorr = heartData.corr('HeartDisease',col)\n",
    "    corrList.append((\"BMI - \"+col,pearsonCorr))"
   ]
  },
  {
   "cell_type": "code",
   "execution_count": 59,
   "id": "ecc1df80",
   "metadata": {},
   "outputs": [
    {
     "data": {
      "text/plain": [
       "[('BMI - HeartDisease', 1.0),\n",
       " ('BMI - State', 0.006444321393978534),\n",
       " ('BMI - BMI', 0.05058519245234513),\n",
       " ('BMI - HighBP', 0.2098579059479823),\n",
       " ('BMI - HighChol', 0.1859344957309097),\n",
       " ('BMI - CholCheck', 0.04574915829500349),\n",
       " ('BMI - FruitConsume', -0.012932002071759112),\n",
       " ('BMI - VegetableConsume', -0.023949296306889675),\n",
       " ('BMI - Smoker', 0.11680965215675526),\n",
       " ('BMI - HeavyDrinker', -0.03037897687609935),\n",
       " ('BMI - Diabetes', 0.17086995852514197),\n",
       " ('BMI - Stroke', 0.1990394390425505),\n",
       " ('BMI - Healthcare', 0.027174079890363554),\n",
       " ('BMI - NoDoctorDueToCost', 0.026098505344340245),\n",
       " ('BMI - PhysicalActivity', -0.08797288374111345),\n",
       " ('BMI - GeneralHealth', -0.2507726735558453),\n",
       " ('BMI - PhysicalHealth', 0.18450992906634142),\n",
       " ('BMI - MentalHealth', 0.059861227400692135),\n",
       " ('BMI - DifficultyWalking', 0.20788019512527584),\n",
       " ('BMI - Gender', 0.080903183631275),\n",
       " ('BMI - Age', 0.21882047127416504),\n",
       " ('BMI - Education', -0.08831463775581311),\n",
       " ('BMI - Income', -0.1298266025074565)]"
      ]
     },
     "execution_count": 59,
     "metadata": {},
     "output_type": "execute_result"
    }
   ],
   "source": [
    "corrList"
   ]
  },
  {
   "cell_type": "markdown",
   "id": "3d7f5099",
   "metadata": {},
   "source": [
    "## 3. CLASSIFICATION MODEL"
   ]
  },
  {
   "cell_type": "code",
   "execution_count": null,
   "id": "849285a2",
   "metadata": {},
   "outputs": [],
   "source": []
  },
  {
   "cell_type": "code",
   "execution_count": null,
   "id": "16993750",
   "metadata": {},
   "outputs": [],
   "source": []
  },
  {
   "cell_type": "code",
   "execution_count": null,
   "id": "69253fcd",
   "metadata": {},
   "outputs": [],
   "source": []
  },
  {
   "cell_type": "code",
   "execution_count": null,
   "id": "ff2a6073",
   "metadata": {},
   "outputs": [],
   "source": []
  },
  {
   "cell_type": "code",
   "execution_count": null,
   "id": "7afd0595",
   "metadata": {},
   "outputs": [],
   "source": []
  },
  {
   "cell_type": "code",
   "execution_count": null,
   "id": "6670bcda",
   "metadata": {},
   "outputs": [],
   "source": []
  },
  {
   "cell_type": "code",
   "execution_count": null,
   "id": "30287fb6",
   "metadata": {},
   "outputs": [],
   "source": []
  },
  {
   "cell_type": "code",
   "execution_count": null,
   "id": "67dd71ea",
   "metadata": {},
   "outputs": [],
   "source": []
  },
  {
   "cell_type": "code",
   "execution_count": null,
   "id": "0c85b34f",
   "metadata": {},
   "outputs": [],
   "source": []
  },
  {
   "cell_type": "code",
   "execution_count": null,
   "id": "fd9133bc",
   "metadata": {},
   "outputs": [],
   "source": []
  },
  {
   "cell_type": "code",
   "execution_count": null,
   "id": "b67c6565",
   "metadata": {},
   "outputs": [],
   "source": []
  },
  {
   "cell_type": "code",
   "execution_count": null,
   "id": "b31aae57",
   "metadata": {},
   "outputs": [],
   "source": []
  },
  {
   "cell_type": "code",
   "execution_count": null,
   "id": "d1f66741",
   "metadata": {},
   "outputs": [],
   "source": []
  },
  {
   "cell_type": "code",
   "execution_count": null,
   "id": "b4fd0a88",
   "metadata": {},
   "outputs": [],
   "source": []
  },
  {
   "cell_type": "code",
   "execution_count": null,
   "id": "6a17167d",
   "metadata": {},
   "outputs": [],
   "source": []
  },
  {
   "cell_type": "code",
   "execution_count": null,
   "id": "ccd1e0b4",
   "metadata": {},
   "outputs": [],
   "source": []
  },
  {
   "cell_type": "code",
   "execution_count": null,
   "id": "01019c6f",
   "metadata": {},
   "outputs": [],
   "source": []
  },
  {
   "cell_type": "code",
   "execution_count": null,
   "id": "d06d8d77",
   "metadata": {},
   "outputs": [],
   "source": []
  }
 ],
 "metadata": {
  "kernelspec": {
   "display_name": "Python 3 (ipykernel)",
   "language": "python",
   "name": "python3"
  },
  "language_info": {
   "codemirror_mode": {
    "name": "ipython",
    "version": 3
   },
   "file_extension": ".py",
   "mimetype": "text/x-python",
   "name": "python",
   "nbconvert_exporter": "python",
   "pygments_lexer": "ipython3",
   "version": "3.9.7"
  }
 },
 "nbformat": 4,
 "nbformat_minor": 5
}
