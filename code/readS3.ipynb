{
 "cells": [
  {
   "cell_type": "code",
   "execution_count": 1,
   "id": "f859455c",
   "metadata": {},
   "outputs": [],
   "source": [
    "from pyspark import SparkContext\n",
    "import sys\n",
    "import re\n",
    "import os"
   ]
  },
  {
   "cell_type": "code",
   "execution_count": 2,
   "id": "4d99fc5f",
   "metadata": {},
   "outputs": [],
   "source": [
    "spark = SparkSession(sc)"
   ]
  },
  {
   "cell_type": "code",
   "execution_count": 3,
   "id": "3051c280",
   "metadata": {},
   "outputs": [
    {
     "name": "stdout",
     "output_type": "stream",
     "text": [
      "/opt/homebrew/Cellar/apache-spark/3.2.1/libexec\n"
     ]
    }
   ],
   "source": [
    "print(os.environ['SPARK_HOME'])"
   ]
  },
  {
   "cell_type": "markdown",
   "id": "4395ee1c",
   "metadata": {},
   "source": [
    "## 1. READING DATA INTO SPARK FRAMES\n",
    "- We are reading two datasets \n",
    "    - BRFSS 2019 survey\n",
    "    - BRFSS 2017 survey\n",
    "- Not using the 2018 survey since it has significant differences in the key features that we extracting for the ML classification\n",
    "- Related Work: https://www.kaggle.com/alexteboul/diabetes-health-indicators-dataset-notebook\n",
    "    - The related work uses variuos lifestyle indicator habits, prior chronic disease indicator from the BRFSS survey to identify Diabetes risk for 2015 BRFSS survey\n",
    "    - We will use similar indicators to see if we can predict risk of Heart Attack and Heart Disease.We will be using two yeas of data (2019 and 2017)"
   ]
  },
  {
   "cell_type": "markdown",
   "id": "7b5a7394",
   "metadata": {},
   "source": [
    "### Dataset Links \n",
    "- Original Links on CDC Website\n",
    "    - https://www.cdc.gov/brfss/annual_data/annual_2017.html\n",
    "    - https://www.cdc.gov/brfss/annual_data/annual_2019.html\n",
    "- We have uploaded to S3 for easy access the locations are\n",
    "    - s3a://brfss-big-data-project/BRFSS_2017.csv\n",
    "    - s3a://brfss-big-data-project/BRFSS_2019.csv\n",
    "    "
   ]
  },
  {
   "cell_type": "code",
   "execution_count": 4,
   "id": "605d08cd",
   "metadata": {},
   "outputs": [
    {
     "name": "stderr",
     "output_type": "stream",
     "text": [
      "                                                                                \r"
     ]
    }
   ],
   "source": [
    "# READ LOCAL DATA FILE\n",
    "# Comment if reading from S3\n",
    "df2019 = spark.read.csv(\"../../../BRFSS/CSV_version/BRFSS_2019.csv\", header='true',inferSchema='true')\n",
    "df2017 = spark.read.csv(\"../../../BRFSS/CSV_version/BRFSS_2017.csv\", header='true',inferSchema='true')"
   ]
  },
  {
   "cell_type": "code",
   "execution_count": 5,
   "id": "e7b04faa",
   "metadata": {},
   "outputs": [],
   "source": [
    "# READ FROM S3 BUCKET\n",
    "# Comment if reading locally\n",
    "# sc._jsc.hadoopConfiguration().set(\"fs.s3a.impl\",\"org.apache.hadoop.fs.s3a.S3AFileSystem\")\n",
    "# sc._jsc.hadoopConfiguration().set(\"com.amazonaws.services.s3.enableV4\", \"true\")\n",
    "# sc._jsc.hadoopConfiguration().set(\"fs.s3a.aws.credentials.provider\",\"org.apache.hadoop.fs.s3a.AnonymousAWSCredentialsProvider\")\n",
    "\n",
    "# df2019 = spark.read.csv(\"s3a://brfss-big-data-project/BRFSS_2019.csv\", header = 'true',inferSchema='true')\n",
    "# df2017 = spark.read.csv(\"s3a://brfss-big-data-project/BRFSS_2017.csv\", header = 'true',inferSchema='true')"
   ]
  },
  {
   "cell_type": "code",
   "execution_count": 6,
   "id": "fe4eff78",
   "metadata": {},
   "outputs": [
    {
     "name": "stdout",
     "output_type": "stream",
     "text": [
      "root\n",
      " |-- _STATE: double (nullable = true)\n",
      " |-- FMONTH: double (nullable = true)\n",
      " |-- IDATE: integer (nullable = true)\n",
      " |-- IMONTH: integer (nullable = true)\n",
      " |-- IDAY: integer (nullable = true)\n",
      " |-- IYEAR: integer (nullable = true)\n",
      " |-- DISPCODE: double (nullable = true)\n",
      " |-- SEQNO: integer (nullable = true)\n",
      " |-- _PSU: double (nullable = true)\n",
      " |-- CTELENM1: double (nullable = true)\n",
      " |-- PVTRESD1: double (nullable = true)\n",
      " |-- COLGHOUS: double (nullable = true)\n",
      " |-- STATERE1: double (nullable = true)\n",
      " |-- CELPHONE: double (nullable = true)\n",
      " |-- LADULT1: double (nullable = true)\n",
      " |-- COLGSEX: double (nullable = true)\n",
      " |-- NUMADULT: double (nullable = true)\n",
      " |-- LANDSEX: double (nullable = true)\n",
      " |-- NUMMEN: double (nullable = true)\n",
      " |-- NUMWOMEN: double (nullable = true)\n",
      " |-- RESPSLCT: double (nullable = true)\n",
      " |-- SAFETIME: double (nullable = true)\n",
      " |-- CTELNUM1: double (nullable = true)\n",
      " |-- CELLFON5: double (nullable = true)\n",
      " |-- CADULT1: double (nullable = true)\n",
      " |-- CELLSEX: double (nullable = true)\n",
      " |-- PVTRESD3: double (nullable = true)\n",
      " |-- CCLGHOUS: double (nullable = true)\n",
      " |-- CSTATE1: double (nullable = true)\n",
      " |-- LANDLINE: double (nullable = true)\n",
      " |-- HHADULT: double (nullable = true)\n",
      " |-- SEXVAR: double (nullable = true)\n",
      " |-- GENHLTH: double (nullable = true)\n",
      " |-- PHYSHLTH: double (nullable = true)\n",
      " |-- MENTHLTH: double (nullable = true)\n",
      " |-- POORHLTH: double (nullable = true)\n",
      " |-- HLTHPLN1: double (nullable = true)\n",
      " |-- PERSDOC2: double (nullable = true)\n",
      " |-- MEDCOST: double (nullable = true)\n",
      " |-- CHECKUP1: double (nullable = true)\n",
      " |-- BPHIGH4: double (nullable = true)\n",
      " |-- BPMEDS: double (nullable = true)\n",
      " |-- CHOLCHK2: double (nullable = true)\n",
      " |-- TOLDHI2: double (nullable = true)\n",
      " |-- CHOLMED2: double (nullable = true)\n",
      " |-- CVDINFR4: double (nullable = true)\n",
      " |-- CVDCRHD4: double (nullable = true)\n",
      " |-- CVDSTRK3: double (nullable = true)\n",
      " |-- ASTHMA3: double (nullable = true)\n",
      " |-- ASTHNOW: double (nullable = true)\n",
      " |-- CHCSCNCR: double (nullable = true)\n",
      " |-- CHCOCNCR: double (nullable = true)\n",
      " |-- CHCCOPD2: double (nullable = true)\n",
      " |-- ADDEPEV3: double (nullable = true)\n",
      " |-- CHCKDNY2: double (nullable = true)\n",
      " |-- DIABETE4: double (nullable = true)\n",
      " |-- DIABAGE3: double (nullable = true)\n",
      " |-- HAVARTH4: double (nullable = true)\n",
      " |-- ARTHEXER: double (nullable = true)\n",
      " |-- ARTHEDU: double (nullable = true)\n",
      " |-- LMTJOIN3: double (nullable = true)\n",
      " |-- ARTHDIS2: double (nullable = true)\n",
      " |-- JOINPAI2: double (nullable = true)\n",
      " |-- MARITAL: double (nullable = true)\n",
      " |-- EDUCA: double (nullable = true)\n",
      " |-- RENTHOM1: double (nullable = true)\n",
      " |-- NUMHHOL3: double (nullable = true)\n",
      " |-- NUMPHON3: double (nullable = true)\n",
      " |-- CPDEMO1B: double (nullable = true)\n",
      " |-- VETERAN3: double (nullable = true)\n",
      " |-- EMPLOY1: double (nullable = true)\n",
      " |-- CHILDREN: double (nullable = true)\n",
      " |-- INCOME2: double (nullable = true)\n",
      " |-- WEIGHT2: double (nullable = true)\n",
      " |-- HEIGHT3: double (nullable = true)\n",
      " |-- PREGNANT: double (nullable = true)\n",
      " |-- DEAF: double (nullable = true)\n",
      " |-- BLIND: double (nullable = true)\n",
      " |-- DECIDE: double (nullable = true)\n",
      " |-- DIFFWALK: double (nullable = true)\n",
      " |-- DIFFDRES: double (nullable = true)\n",
      " |-- DIFFALON: double (nullable = true)\n",
      " |-- SMOKE100: double (nullable = true)\n",
      " |-- SMOKDAY2: double (nullable = true)\n",
      " |-- STOPSMK2: double (nullable = true)\n",
      " |-- LASTSMK2: double (nullable = true)\n",
      " |-- USENOW3: double (nullable = true)\n",
      " |-- ALCDAY5: double (nullable = true)\n",
      " |-- AVEDRNK3: double (nullable = true)\n",
      " |-- DRNK3GE5: double (nullable = true)\n",
      " |-- MAXDRNKS: double (nullable = true)\n",
      " |-- EXERANY2: double (nullable = true)\n",
      " |-- EXRACT11: double (nullable = true)\n",
      " |-- EXEROFT1: double (nullable = true)\n",
      " |-- EXERHMM1: double (nullable = true)\n",
      " |-- EXRACT21: double (nullable = true)\n",
      " |-- EXEROFT2: double (nullable = true)\n",
      " |-- EXERHMM2: double (nullable = true)\n",
      " |-- STRENGTH: double (nullable = true)\n",
      " |-- FRUIT2: double (nullable = true)\n",
      " |-- FRUITJU2: double (nullable = true)\n",
      " |-- FVGREEN1: double (nullable = true)\n",
      " |-- FRENCHF1: double (nullable = true)\n",
      " |-- POTATOE1: double (nullable = true)\n",
      " |-- VEGETAB2: double (nullable = true)\n",
      " |-- FLUSHOT7: double (nullable = true)\n",
      " |-- FLSHTMY3: double (nullable = true)\n",
      " |-- TETANUS1: double (nullable = true)\n",
      " |-- PNEUVAC4: double (nullable = true)\n",
      " |-- HIVTST7: double (nullable = true)\n",
      " |-- HIVTSTD3: double (nullable = true)\n",
      " |-- HIVRISK5: double (nullable = true)\n",
      " |-- PDIABTST: double (nullable = true)\n",
      " |-- PREDIAB1: double (nullable = true)\n",
      " |-- INSULIN1: double (nullable = true)\n",
      " |-- BLDSUGAR: double (nullable = true)\n",
      " |-- FEETCHK3: double (nullable = true)\n",
      " |-- DOCTDIAB: double (nullable = true)\n",
      " |-- CHKHEMO3: double (nullable = true)\n",
      " |-- FEETCHK: double (nullable = true)\n",
      " |-- EYEEXAM1: double (nullable = true)\n",
      " |-- DIABEYE: double (nullable = true)\n",
      " |-- DIABEDU: double (nullable = true)\n",
      " |-- TOLDCFS: string (nullable = true)\n",
      " |-- HAVECFS: string (nullable = true)\n",
      " |-- WORKCFS: string (nullable = true)\n",
      " |-- TOLDHEPC: double (nullable = true)\n",
      " |-- TRETHEPC: double (nullable = true)\n",
      " |-- PRIRHEPC: double (nullable = true)\n",
      " |-- HAVEHEPC: double (nullable = true)\n",
      " |-- HAVEHEPB: double (nullable = true)\n",
      " |-- MEDSHEPB: double (nullable = true)\n",
      " |-- HPVADVC3: double (nullable = true)\n",
      " |-- HPVADSHT: double (nullable = true)\n",
      " |-- IMFVPLA1: double (nullable = true)\n",
      " |-- SHINGLE2: double (nullable = true)\n",
      " |-- LCSFIRST: double (nullable = true)\n",
      " |-- LCSLAST: double (nullable = true)\n",
      " |-- LCSNUMCG: double (nullable = true)\n",
      " |-- LCSCTSCN: double (nullable = true)\n",
      " |-- HADMAM: double (nullable = true)\n",
      " |-- HOWLONG: double (nullable = true)\n",
      " |-- HADPAP2: double (nullable = true)\n",
      " |-- LASTPAP2: double (nullable = true)\n",
      " |-- HPVTEST: double (nullable = true)\n",
      " |-- HPLSTTST: double (nullable = true)\n",
      " |-- HADHYST2: double (nullable = true)\n",
      " |-- PCPSAAD3: string (nullable = true)\n",
      " |-- PCPSADI1: string (nullable = true)\n",
      " |-- PCPSARE1: string (nullable = true)\n",
      " |-- PSATEST1: string (nullable = true)\n",
      " |-- PSATIME: string (nullable = true)\n",
      " |-- PCPSARS1: string (nullable = true)\n",
      " |-- PCPSADE1: string (nullable = true)\n",
      " |-- PCDMDEC1: string (nullable = true)\n",
      " |-- BLDSTOOL: double (nullable = true)\n",
      " |-- LSTBLDS3: double (nullable = true)\n",
      " |-- HADSIGM3: double (nullable = true)\n",
      " |-- HADSGCO1: double (nullable = true)\n",
      " |-- LASTSIG3: double (nullable = true)\n",
      " |-- CNCRDIFF: double (nullable = true)\n",
      " |-- CNCRAGE: double (nullable = true)\n",
      " |-- CNCRTYP1: double (nullable = true)\n",
      " |-- CSRVTRT3: double (nullable = true)\n",
      " |-- CSRVDOC1: double (nullable = true)\n",
      " |-- CSRVSUM: double (nullable = true)\n",
      " |-- CSRVRTRN: double (nullable = true)\n",
      " |-- CSRVINST: double (nullable = true)\n",
      " |-- CSRVINSR: double (nullable = true)\n",
      " |-- CSRVDEIN: double (nullable = true)\n",
      " |-- CSRVCLIN: double (nullable = true)\n",
      " |-- CSRVPAIN: double (nullable = true)\n",
      " |-- CSRVCTL2: double (nullable = true)\n",
      " |-- HLTHCVR1: double (nullable = true)\n",
      " |-- ASPIRIN: double (nullable = true)\n",
      " |-- HOMBPCHK: double (nullable = true)\n",
      " |-- HOMRGCHK: double (nullable = true)\n",
      " |-- WHEREBP: double (nullable = true)\n",
      " |-- SHAREBP: double (nullable = true)\n",
      " |-- WTCHSALT: double (nullable = true)\n",
      " |-- DRADVISE: double (nullable = true)\n",
      " |-- INDORTAN: double (nullable = true)\n",
      " |-- NUMBURN3: double (nullable = true)\n",
      " |-- SUNPRTCT: double (nullable = true)\n",
      " |-- WKDAYOUT: double (nullable = true)\n",
      " |-- WKENDOUT: double (nullable = true)\n",
      " |-- CIMEMLOS: double (nullable = true)\n",
      " |-- CDHOUSE: double (nullable = true)\n",
      " |-- CDASSIST: double (nullable = true)\n",
      " |-- CDHELP: double (nullable = true)\n",
      " |-- CDSOCIAL: double (nullable = true)\n",
      " |-- CDDISCUS: double (nullable = true)\n",
      " |-- CAREGIV1: double (nullable = true)\n",
      " |-- CRGVREL3: double (nullable = true)\n",
      " |-- CRGVLNG1: double (nullable = true)\n",
      " |-- CRGVHRS1: double (nullable = true)\n",
      " |-- CRGVPRB3: double (nullable = true)\n",
      " |-- CRGVALZD: double (nullable = true)\n",
      " |-- CRGVPER1: double (nullable = true)\n",
      " |-- CRGVHOU1: double (nullable = true)\n",
      " |-- CRGVEXPT: double (nullable = true)\n",
      " |-- ACEDEPRS: double (nullable = true)\n",
      " |-- ACEDRINK: double (nullable = true)\n",
      " |-- ACEDRUGS: double (nullable = true)\n",
      " |-- ACEPRISN: double (nullable = true)\n",
      " |-- ACEDIVRC: double (nullable = true)\n",
      " |-- ACEPUNCH: double (nullable = true)\n",
      " |-- ACEHURT1: double (nullable = true)\n",
      " |-- ACESWEAR: double (nullable = true)\n",
      " |-- ACETOUCH: double (nullable = true)\n",
      " |-- ACETTHEM: double (nullable = true)\n",
      " |-- ACEHVSEX: double (nullable = true)\n",
      " |-- PFPPRVN3: double (nullable = true)\n",
      " |-- TYPCNTR8: double (nullable = true)\n",
      " |-- NOBCUSE7: double (nullable = true)\n",
      " |-- ASBIALCH: double (nullable = true)\n",
      " |-- ASBIDRNK: double (nullable = true)\n",
      " |-- ASBIBING: double (nullable = true)\n",
      " |-- ASBIADVC: double (nullable = true)\n",
      " |-- ASBIRDUC: double (nullable = true)\n",
      " |-- MARIJAN1: double (nullable = true)\n",
      " |-- USEMRJN2: double (nullable = true)\n",
      " |-- RSNMRJN1: double (nullable = true)\n",
      " |-- FOODSTMP: double (nullable = true)\n",
      " |-- BIRTHSEX: double (nullable = true)\n",
      " |-- SOMALE: double (nullable = true)\n",
      " |-- SOFEMALE: double (nullable = true)\n",
      " |-- TRNSGNDR: double (nullable = true)\n",
      " |-- RCSGENDR: double (nullable = true)\n",
      " |-- RCSRLTN2: double (nullable = true)\n",
      " |-- CASTHDX2: double (nullable = true)\n",
      " |-- CASTHNO2: double (nullable = true)\n",
      " |-- QSTVER: double (nullable = true)\n",
      " |-- QSTLANG: double (nullable = true)\n",
      " |-- _METSTAT: double (nullable = true)\n",
      " |-- _URBSTAT: double (nullable = true)\n",
      " |-- MSCODE: double (nullable = true)\n",
      " |-- _STSTR: double (nullable = true)\n",
      " |-- _STRWT: double (nullable = true)\n",
      " |-- _RAWRAKE: double (nullable = true)\n",
      " |-- _WT2RAKE: double (nullable = true)\n",
      " |-- _IMPRACE: double (nullable = true)\n",
      " |-- _CHISPNC: double (nullable = true)\n",
      " |-- _CRACE1: double (nullable = true)\n",
      " |-- _CPRACE: double (nullable = true)\n",
      " |-- _CLLCPWT: double (nullable = true)\n",
      " |-- _DUALUSE: double (nullable = true)\n",
      " |-- _DUALCOR: double (nullable = true)\n",
      " |-- _LLCPWT2: double (nullable = true)\n",
      " |-- _LLCPWT: double (nullable = true)\n",
      " |-- _RFHLTH: double (nullable = true)\n",
      " |-- _PHYS14D: double (nullable = true)\n",
      " |-- _MENT14D: double (nullable = true)\n",
      " |-- _HCVU651: double (nullable = true)\n",
      " |-- _RFHYPE5: double (nullable = true)\n",
      " |-- _CHOLCH2: double (nullable = true)\n",
      " |-- _RFCHOL2: double (nullable = true)\n",
      " |-- _MICHD: double (nullable = true)\n",
      " |-- _LTASTH1: double (nullable = true)\n",
      " |-- _CASTHM1: double (nullable = true)\n",
      " |-- _ASTHMS1: double (nullable = true)\n",
      " |-- _DRDXAR2: double (nullable = true)\n",
      " |-- _LMTACT2: double (nullable = true)\n",
      " |-- _LMTWRK2: double (nullable = true)\n",
      " |-- _PRACE1: double (nullable = true)\n",
      " |-- _MRACE1: double (nullable = true)\n",
      " |-- _HISPANC: double (nullable = true)\n",
      " |-- _RACE: double (nullable = true)\n",
      " |-- _RACEG21: double (nullable = true)\n",
      " |-- _RACEGR3: double (nullable = true)\n",
      " |-- _RACE_G1: double (nullable = true)\n",
      " |-- _SEX: double (nullable = true)\n",
      " |-- _AGEG5YR: double (nullable = true)\n",
      " |-- _AGE65YR: double (nullable = true)\n",
      " |-- _AGE80: double (nullable = true)\n",
      " |-- _AGE_G: double (nullable = true)\n",
      " |-- HTIN4: double (nullable = true)\n",
      " |-- HTM4: double (nullable = true)\n",
      " |-- WTKG3: double (nullable = true)\n",
      " |-- _BMI5: double (nullable = true)\n",
      " |-- _BMI5CAT: double (nullable = true)\n",
      " |-- _RFBMI5: double (nullable = true)\n",
      " |-- _CHLDCNT: double (nullable = true)\n",
      " |-- _EDUCAG: double (nullable = true)\n",
      " |-- _INCOMG: double (nullable = true)\n",
      " |-- _SMOKER3: double (nullable = true)\n",
      " |-- _RFSMOK3: double (nullable = true)\n",
      " |-- DRNKANY5: double (nullable = true)\n",
      " |-- DROCDY3_: double (nullable = true)\n",
      " |-- _RFBING5: double (nullable = true)\n",
      " |-- _DRNKWK1: double (nullable = true)\n",
      " |-- _RFDRHV7: double (nullable = true)\n",
      " |-- _TOTINDA: double (nullable = true)\n",
      " |-- METVL11_: double (nullable = true)\n",
      " |-- METVL21_: double (nullable = true)\n",
      " |-- MAXVO21_: double (nullable = true)\n",
      " |-- FC601_: double (nullable = true)\n",
      " |-- ACTIN12_: double (nullable = true)\n",
      " |-- ACTIN22_: double (nullable = true)\n",
      " |-- PADUR1_: double (nullable = true)\n",
      " |-- PADUR2_: double (nullable = true)\n",
      " |-- PAFREQ1_: double (nullable = true)\n",
      " |-- PAFREQ2_: double (nullable = true)\n",
      " |-- _MINAC11: double (nullable = true)\n",
      " |-- _MINAC21: double (nullable = true)\n",
      " |-- STRFREQ_: double (nullable = true)\n",
      " |-- PAMISS2_: double (nullable = true)\n",
      " |-- PAMIN12_: double (nullable = true)\n",
      " |-- PAMIN22_: double (nullable = true)\n",
      " |-- PA2MIN_: double (nullable = true)\n",
      " |-- PAVIG12_: double (nullable = true)\n",
      " |-- PAVIG22_: double (nullable = true)\n",
      " |-- PA2VIGM_: double (nullable = true)\n",
      " |-- _PACAT2: double (nullable = true)\n",
      " |-- _PAINDX2: double (nullable = true)\n",
      " |-- _PA150R3: double (nullable = true)\n",
      " |-- _PA300R3: double (nullable = true)\n",
      " |-- _PA30022: double (nullable = true)\n",
      " |-- _PASTRNG: double (nullable = true)\n",
      " |-- _PAREC2: double (nullable = true)\n",
      " |-- _PASTAE2: double (nullable = true)\n",
      " |-- FTJUDA2_: double (nullable = true)\n",
      " |-- FRUTDA2_: double (nullable = true)\n",
      " |-- GRENDA1_: double (nullable = true)\n",
      " |-- FRNCHDA_: double (nullable = true)\n",
      " |-- POTADA1_: double (nullable = true)\n",
      " |-- VEGEDA2_: double (nullable = true)\n",
      " |-- _MISFRT1: double (nullable = true)\n",
      " |-- _MISVEG1: double (nullable = true)\n",
      " |-- _FRTRES1: double (nullable = true)\n",
      " |-- _VEGRES1: double (nullable = true)\n",
      " |-- _FRUTSU1: double (nullable = true)\n",
      " |-- _VEGESU1: double (nullable = true)\n",
      " |-- _FRTLT1A: double (nullable = true)\n",
      " |-- _VEGLT1A: double (nullable = true)\n",
      " |-- _FRT16A: double (nullable = true)\n",
      " |-- _VEG23A: double (nullable = true)\n",
      " |-- _FRUITE1: double (nullable = true)\n",
      " |-- _VEGETE1: double (nullable = true)\n",
      " |-- _FLSHOT7: double (nullable = true)\n",
      " |-- _PNEUMO3: double (nullable = true)\n",
      " |-- _AIDTST4: double (nullable = true)\n",
      "\n"
     ]
    }
   ],
   "source": [
    "df2019.printSchema()"
   ]
  },
  {
   "cell_type": "code",
   "execution_count": 7,
   "id": "f6f1c3e1",
   "metadata": {},
   "outputs": [
    {
     "name": "stdout",
     "output_type": "stream",
     "text": [
      "+------+--------+\n",
      "|_STATE|_VEGLT1A|\n",
      "+------+--------+\n",
      "|   1.0|     1.0|\n",
      "|   1.0|     1.0|\n",
      "|   1.0|     2.0|\n",
      "|   1.0|     9.0|\n",
      "|   1.0|     2.0|\n",
      "+------+--------+\n",
      "only showing top 5 rows\n",
      "\n"
     ]
    }
   ],
   "source": [
    "df2017.select(['_STATE','_VEGLT1A']).show(5)"
   ]
  },
  {
   "cell_type": "code",
   "execution_count": 8,
   "id": "b777355b",
   "metadata": {},
   "outputs": [
    {
     "name": "stdout",
     "output_type": "stream",
     "text": [
      "Dimensions of the Data Frame:\n",
      "(450016, 358)\n"
     ]
    }
   ],
   "source": [
    "print(\"Dimensions of the Data Frame:\")\n",
    "print((df2017.count(), len(df2017.columns)))"
   ]
  },
  {
   "cell_type": "markdown",
   "id": "d24097a1",
   "metadata": {},
   "source": [
    "Note: We can see that the complete brfss dataset has about 0.4 million records and 358 columns in 2017 survey. The 2019 survey is similar in dimension\n",
    "\n",
    "We are only interested in the columns related to the prediction of heart attacks and heart disease in individuals. The current column names are based on a code book that the CDC maintains. We will selected relavent columns using the code book to map key indicators.\n",
    "\n",
    "- Link to code book: https://www.cdc.gov/brfss/annual_data/annual_2019.html\n",
    "- Link to code book: https://www.cdc.gov/brfss/annual_data/annual_2017.html"
   ]
  },
  {
   "cell_type": "markdown",
   "id": "af4ff5d0",
   "metadata": {},
   "source": [
    "## 2. SELECTING THE COLUMNS OF INTEREST"
   ]
  },
  {
   "cell_type": "code",
   "execution_count": 9,
   "id": "51c35e5a",
   "metadata": {},
   "outputs": [],
   "source": [
    "# Selecting coloumns containing indicators for Heart Disease"
   ]
  },
  {
   "cell_type": "code",
   "execution_count": 10,
   "id": "7753fb33",
   "metadata": {},
   "outputs": [],
   "source": [
    "cols_to_select2017 = [\"_MICHD\", # target variable if person has had Heart Attack aka Myocardial Infraction\n",
    "                  \"_STATE\",\"_BMI5\", # State person belongs to, Body Mass Index \n",
    "                 \"_RFHYPE5\",\"TOLDHI2\",\"CHOLCHK1\", # BP and cholestrol\n",
    "                 \"_FRTLT1A\",\"_VEGLT1A\", \"SMOKE100\",\"_RFDRHV5\", # Food (Fruit and vegetable consumption), alcohol and smoking\n",
    "                 \"DIABETE3\",\"CVDSTRK3\", # chronic diseases = Diabetes, Stroke\n",
    "                 \"HLTHPLN1\",\"MEDCOST\", # Insurance and medical access\n",
    "                 \"_TOTINDA\",\"GENHLTH\",\"PHYSHLTH\",\"MENTHLTH\",\"DIFFWALK\", #Fitness and activity \n",
    "                 \"SEX\",\"_AGEG5YR\",\"EDUCA\",\"INCOME2\"] # demographic Data = Gender, Age bracket, Education level, Income bracket"
   ]
  },
  {
   "cell_type": "code",
   "execution_count": 11,
   "id": "153fd3f6",
   "metadata": {},
   "outputs": [],
   "source": [
    "cols_to_select2019 = [\"_MICHD\", # target variable if person has had Heart Attack aka Myocardial Infraction\n",
    "                  \"_STATE\",\"_BMI5\", # State person belongs to, Body Mass Index \n",
    "                 \"_RFHYPE5\",\"TOLDHI2\",\"CHOLCHK2\", # BP and cholestrol\n",
    "                 \"_FRTLT1A\",\"_VEGLT1A\", \"SMOKE100\",\"_RFDRHV7\", # Food (Fruit and vegetable consumption), alcohol and smoking\n",
    "                 \"DIABETE4\",\"CVDSTRK3\", # chronic diseases = Diabetes, Stroke\n",
    "                 \"HLTHPLN1\",\"MEDCOST\", # Insurance and medical access\n",
    "                 \"_TOTINDA\",\"GENHLTH\",\"PHYSHLTH\",\"MENTHLTH\",\"DIFFWALK\", #Fitness and activity \n",
    "                 \"SEXVAR\",\"_AGEG5YR\",\"EDUCA\",\"INCOME2\"] # demographic Data = Gender, Age bracket, Education level, Income bracket"
   ]
  },
  {
   "cell_type": "code",
   "execution_count": 12,
   "id": "e0dc6ab5",
   "metadata": {
    "scrolled": true
   },
   "outputs": [
    {
     "name": "stdout",
     "output_type": "stream",
     "text": [
      "+------+------+------+--------+-------+--------+--------+--------+--------+--------+--------+--------+--------+-------+--------+-------+--------+--------+--------+------+--------+-----+-------+\n",
      "|_MICHD|_STATE| _BMI5|_RFHYPE5|TOLDHI2|CHOLCHK2|_FRTLT1A|_VEGLT1A|SMOKE100|_RFDRHV7|DIABETE4|CVDSTRK3|HLTHPLN1|MEDCOST|_TOTINDA|GENHLTH|PHYSHLTH|MENTHLTH|DIFFWALK|SEXVAR|_AGEG5YR|EDUCA|INCOME2|\n",
      "+------+------+------+--------+-------+--------+--------+--------+--------+--------+--------+--------+--------+-------+--------+-------+--------+--------+--------+------+--------+-----+-------+\n",
      "|   2.0|   1.0|2817.0|     2.0|    1.0|     2.0|     1.0|     1.0|     1.0|     1.0|     3.0|     2.0|     1.0|    2.0|     2.0|    3.0|    15.0|    88.0|     1.0|   2.0|    13.0|  3.0|    3.0|\n",
      "|   2.0|   1.0|1854.0|     1.0|    2.0|     2.0|     1.0|     1.0|     2.0|     1.0|     3.0|     2.0|     1.0|    2.0|     1.0|    4.0|    10.0|    88.0|     2.0|   2.0|    11.0|  5.0|    5.0|\n",
      "|   2.0|   1.0|3162.0|     2.0|    2.0|     2.0|     1.0|     1.0|     2.0|     1.0|     1.0|     2.0|     1.0|    2.0|     1.0|    3.0|    88.0|    30.0|     1.0|   2.0|    10.0|  6.0|    7.0|\n",
      "|   2.0|   1.0|2030.0|     2.0|    2.0|     2.0|     9.0|     9.0|    null|     9.0|     3.0|     2.0|     1.0|    2.0|     9.0|    4.0|    30.0|    88.0|    null|   2.0|    13.0|  5.0|    6.0|\n",
      "|   2.0|   1.0|2148.0|     1.0|    1.0|     2.0|     1.0|     1.0|     1.0|     1.0|     3.0|     2.0|     1.0|    2.0|     2.0|    2.0|    88.0|    88.0|     2.0|   2.0|    13.0|  5.0|   99.0|\n",
      "+------+------+------+--------+-------+--------+--------+--------+--------+--------+--------+--------+--------+-------+--------+-------+--------+--------+--------+------+--------+-----+-------+\n",
      "only showing top 5 rows\n",
      "\n"
     ]
    }
   ],
   "source": [
    "heartDisease2019 = df2019.select(cols_to_select2019)\n",
    "heartDisease2019.show(5)"
   ]
  },
  {
   "cell_type": "code",
   "execution_count": 13,
   "id": "99c6a400",
   "metadata": {},
   "outputs": [
    {
     "name": "stdout",
     "output_type": "stream",
     "text": [
      "+------+------+------+--------+-------+--------+--------+--------+--------+--------+--------+--------+--------+-------+--------+-------+--------+--------+--------+---+--------+-----+-------+\n",
      "|_MICHD|_STATE| _BMI5|_RFHYPE5|TOLDHI2|CHOLCHK1|_FRTLT1A|_VEGLT1A|SMOKE100|_RFDRHV5|DIABETE3|CVDSTRK3|HLTHPLN1|MEDCOST|_TOTINDA|GENHLTH|PHYSHLTH|MENTHLTH|DIFFWALK|SEX|_AGEG5YR|EDUCA|INCOME2|\n",
      "+------+------+------+--------+-------+--------+--------+--------+--------+--------+--------+--------+--------+-------+--------+-------+--------+--------+--------+---+--------+-----+-------+\n",
      "|   2.0|   1.0|2696.0|     2.0|    1.0|     2.0|     1.0|     1.0|     2.0|     1.0|     1.0|     2.0|     1.0|    2.0|     1.0|    2.0|    88.0|    88.0|     1.0|2.0|    11.0|  6.0|    6.0|\n",
      "|   2.0|   1.0|2943.0|     2.0|    2.0|     2.0|     1.0|     1.0|     2.0|     1.0|     3.0|     2.0|     1.0|    2.0|     1.0|    2.0|    88.0|    88.0|     2.0|1.0|    10.0|  6.0|    8.0|\n",
      "|   2.0|   1.0|2504.0|     1.0|    1.0|     2.0|     2.0|     2.0|     2.0|     1.0|     3.0|     2.0|     1.0|    2.0|     2.0|    3.0|    88.0|    88.0|     2.0|1.0|    11.0|  2.0|   99.0|\n",
      "|   2.0|   1.0|2663.0|     2.0|    1.0|     2.0|     2.0|     9.0|     2.0|     1.0|     1.0|     2.0|     1.0|    2.0|     9.0|    4.0|    88.0|    88.0|     2.0|2.0|    11.0|  3.0|    1.0|\n",
      "|   2.0|   1.0|2330.0|     1.0|    2.0|     2.0|     1.0|     2.0|     1.0|     1.0|     3.0|     2.0|     1.0|    2.0|     2.0|    4.0|    14.0|    88.0|     2.0|2.0|    10.0|  2.0|    2.0|\n",
      "+------+------+------+--------+-------+--------+--------+--------+--------+--------+--------+--------+--------+-------+--------+-------+--------+--------+--------+---+--------+-----+-------+\n",
      "only showing top 5 rows\n",
      "\n"
     ]
    }
   ],
   "source": [
    "heartDisease2017 = df2017.select(cols_to_select2017)\n",
    "heartDisease2017.show(5)"
   ]
  },
  {
   "cell_type": "markdown",
   "id": "f0be5a96",
   "metadata": {},
   "source": [
    "## 3. REMOVE ROWS THAT HAVE NULL VALUES"
   ]
  },
  {
   "cell_type": "code",
   "execution_count": 14,
   "id": "599fe8a4",
   "metadata": {},
   "outputs": [
    {
     "name": "stdout",
     "output_type": "stream",
     "text": [
      "Dimensions of the Data Frame:\n",
      "(418268, 23)\n"
     ]
    }
   ],
   "source": [
    "print(\"Dimensions of the Data Frame:\")\n",
    "print((heartDisease2019.count(), len(heartDisease2019.columns)))"
   ]
  },
  {
   "cell_type": "code",
   "execution_count": 15,
   "id": "36ac5a1c",
   "metadata": {},
   "outputs": [],
   "source": [
    "data2017=heartDisease2017.na.drop()\n",
    "data2019=heartDisease2019.na.drop()"
   ]
  },
  {
   "cell_type": "code",
   "execution_count": 16,
   "id": "e75e1748",
   "metadata": {},
   "outputs": [
    {
     "name": "stdout",
     "output_type": "stream",
     "text": [
      "Dimensions of the Data Frame:\n"
     ]
    },
    {
     "name": "stderr",
     "output_type": "stream",
     "text": [
      "\r",
      "[Stage 13:>                                                         (0 + 8) / 8]\r"
     ]
    },
    {
     "name": "stdout",
     "output_type": "stream",
     "text": [
      "(351867, 23)\n"
     ]
    },
    {
     "name": "stderr",
     "output_type": "stream",
     "text": [
      "\r",
      "                                                                                \r"
     ]
    }
   ],
   "source": [
    "print(\"Dimensions of the Data Frame:\")\n",
    "print((data2019.count(), len(data2019.columns)))"
   ]
  },
  {
   "cell_type": "markdown",
   "id": "33f8c28c",
   "metadata": {},
   "source": [
    "## 4. MAPPING THE FEATURES APPROPRIATELY\n",
    "- We will use our understanding of the code book to correctly map values \n",
    "- Survey of writes 7 or 9 to indicate the person did not know or refused to answer.\n",
    "- We need to clean this values and map them so that the values are meaningful"
   ]
  },
  {
   "cell_type": "code",
   "execution_count": 17,
   "id": "fc8e01ae",
   "metadata": {},
   "outputs": [
    {
     "name": "stdout",
     "output_type": "stream",
     "text": [
      "root\n",
      " |-- _MICHD: double (nullable = true)\n",
      " |-- _STATE: double (nullable = true)\n",
      " |-- _BMI5: double (nullable = true)\n",
      " |-- _RFHYPE5: double (nullable = true)\n",
      " |-- TOLDHI2: double (nullable = true)\n",
      " |-- CHOLCHK2: double (nullable = true)\n",
      " |-- _FRTLT1A: double (nullable = true)\n",
      " |-- _VEGLT1A: double (nullable = true)\n",
      " |-- SMOKE100: double (nullable = true)\n",
      " |-- _RFDRHV7: double (nullable = true)\n",
      " |-- DIABETE4: double (nullable = true)\n",
      " |-- CVDSTRK3: double (nullable = true)\n",
      " |-- HLTHPLN1: double (nullable = true)\n",
      " |-- MEDCOST: double (nullable = true)\n",
      " |-- _TOTINDA: double (nullable = true)\n",
      " |-- GENHLTH: double (nullable = true)\n",
      " |-- PHYSHLTH: double (nullable = true)\n",
      " |-- MENTHLTH: double (nullable = true)\n",
      " |-- DIFFWALK: double (nullable = true)\n",
      " |-- SEXVAR: double (nullable = true)\n",
      " |-- _AGEG5YR: double (nullable = true)\n",
      " |-- EDUCA: double (nullable = true)\n",
      " |-- INCOME2: double (nullable = true)\n",
      "\n"
     ]
    }
   ],
   "source": [
    "data2019.printSchema()"
   ]
  },
  {
   "cell_type": "code",
   "execution_count": 18,
   "id": "712fd116",
   "metadata": {},
   "outputs": [
    {
     "name": "stdout",
     "output_type": "stream",
     "text": [
      "<class 'pyspark.sql.dataframe.DataFrame'>\n"
     ]
    }
   ],
   "source": [
    "print(type(data2019))"
   ]
  },
  {
   "cell_type": "code",
   "execution_count": 19,
   "id": "b9419654",
   "metadata": {},
   "outputs": [],
   "source": [
    "# imports for pyspark SQL\n",
    "from pyspark.sql.functions import when"
   ]
  },
  {
   "cell_type": "markdown",
   "id": "db4a9161",
   "metadata": {},
   "source": [
    "#### 4.1 _MICHD\n",
    "- 1: Yes has Heart Issues -->  1 \n",
    "- 2: No has no heart issues --> 0\n",
    "- Remove all 7 (dont knows)\n",
    "- Remove all 9 (refused)"
   ]
  },
  {
   "cell_type": "code",
   "execution_count": 20,
   "id": "8b02b16a",
   "metadata": {},
   "outputs": [],
   "source": [
    "data2019 = data2019.filter((data2019[\"_MICHD\"] == 2)| (data2019[\"_MICHD\"] == 1))\n",
    "data2019 = data2019.withColumn(\"_MICHD\", when(data2019._MICHD == 2,0).otherwise(data2019._MICHD))\n",
    "\n",
    "data2017 = data2017.filter((data2017[\"_MICHD\"] == 2)| (data2017[\"_MICHD\"] == 1))\n",
    "data2017 = data2017.withColumn(\"_MICHD\", when(data2017._MICHD == 2,0).otherwise(data2017._MICHD))"
   ]
  },
  {
   "cell_type": "markdown",
   "id": "e043763b",
   "metadata": {},
   "source": [
    "#### 4.3 _BMI5\n",
    "- these are BMI * 100. So for example a BMI of 4018 is really 40.18\n",
    "- 777 and 999 indicate did not answer or refused (filter these out)"
   ]
  },
  {
   "cell_type": "code",
   "execution_count": 21,
   "id": "48d588cf",
   "metadata": {},
   "outputs": [],
   "source": [
    "data2019 = data2019.filter(data2019[\"_BMI5\"] != 777)\n",
    "data2019 = data2019.filter(data2019[\"_BMI5\"] != 999)\n",
    "data2019 = data2019.withColumn('_BMI5', data2019[\"_BMI5\"]/100)\n",
    "\n",
    "data2017 = data2017.filter(data2017[\"_BMI5\"] != 777)\n",
    "data2017 = data2017.filter(data2017[\"_BMI5\"] != 999)\n",
    "data2017 = data2017.withColumn('_BMI5', data2017[\"_BMI5\"]/100)"
   ]
  },
  {
   "cell_type": "markdown",
   "id": "16f87598",
   "metadata": {},
   "source": [
    "#### 4.4 _RFHYPE5\n",
    "- Change 1 to 0 so it represents No high blood pressure and 2 to 1 so it represents high blood pressure"
   ]
  },
  {
   "cell_type": "code",
   "execution_count": 22,
   "id": "2d565d7f",
   "metadata": {},
   "outputs": [],
   "source": [
    "data2019 = data2019.filter((data2019[\"_RFHYPE5\"] == 2)| (data2019[\"_RFHYPE5\"] == 1))\n",
    "data2019 = data2019.withColumn(\"_RFHYPE5\", when(data2019._RFHYPE5 == 1,0).when(data2019._RFHYPE5 == 2,1).otherwise(data2019._RFHYPE5))\n",
    "\n",
    "data2017 = data2017.filter((data2017[\"_RFHYPE5\"] == 2)| (data2017[\"_RFHYPE5\"] == 1))\n",
    "data2017 = data2017.withColumn(\"_RFHYPE5\", when(data2017._RFHYPE5 == 1,0).when(data2017._RFHYPE5 == 2,1).otherwise(data2017._RFHYPE5))\n"
   ]
  },
  {
   "cell_type": "code",
   "execution_count": null,
   "id": "4840bdba",
   "metadata": {},
   "outputs": [],
   "source": []
  },
  {
   "cell_type": "code",
   "execution_count": null,
   "id": "25103a49",
   "metadata": {},
   "outputs": [],
   "source": []
  },
  {
   "cell_type": "code",
   "execution_count": null,
   "id": "c31d9ce2",
   "metadata": {},
   "outputs": [],
   "source": []
  },
  {
   "cell_type": "code",
   "execution_count": null,
   "id": "dce98ee2",
   "metadata": {},
   "outputs": [],
   "source": []
  },
  {
   "cell_type": "code",
   "execution_count": null,
   "id": "5f08c7f2",
   "metadata": {},
   "outputs": [],
   "source": []
  },
  {
   "cell_type": "code",
   "execution_count": null,
   "id": "a136693c",
   "metadata": {},
   "outputs": [],
   "source": []
  },
  {
   "cell_type": "code",
   "execution_count": 25,
   "id": "3f3a3897",
   "metadata": {},
   "outputs": [
    {
     "name": "stdout",
     "output_type": "stream",
     "text": [
      "+------+------+-----+--------+-------+--------+--------+--------+--------+--------+--------+--------+--------+-------+--------+-------+--------+--------+--------+---+--------+-----+-------+\n",
      "|_MICHD|_STATE|_BMI5|_RFHYPE5|TOLDHI2|CHOLCHK1|_FRTLT1A|_VEGLT1A|SMOKE100|_RFDRHV5|DIABETE3|CVDSTRK3|HLTHPLN1|MEDCOST|_TOTINDA|GENHLTH|PHYSHLTH|MENTHLTH|DIFFWALK|SEX|_AGEG5YR|EDUCA|INCOME2|\n",
      "+------+------+-----+--------+-------+--------+--------+--------+--------+--------+--------+--------+--------+-------+--------+-------+--------+--------+--------+---+--------+-----+-------+\n",
      "|   0.0|   1.0|26.96|     1.0|    1.0|     2.0|     1.0|     1.0|     2.0|     1.0|     1.0|     2.0|     1.0|    2.0|     1.0|    2.0|    88.0|    88.0|     1.0|2.0|    11.0|  6.0|    6.0|\n",
      "|   0.0|   1.0|29.43|     1.0|    2.0|     2.0|     1.0|     1.0|     2.0|     1.0|     3.0|     2.0|     1.0|    2.0|     1.0|    2.0|    88.0|    88.0|     2.0|1.0|    10.0|  6.0|    8.0|\n",
      "|   0.0|   1.0|25.04|     0.0|    1.0|     2.0|     2.0|     2.0|     2.0|     1.0|     3.0|     2.0|     1.0|    2.0|     2.0|    3.0|    88.0|    88.0|     2.0|1.0|    11.0|  2.0|   99.0|\n",
      "|   0.0|   1.0|26.63|     1.0|    1.0|     2.0|     2.0|     9.0|     2.0|     1.0|     1.0|     2.0|     1.0|    2.0|     9.0|    4.0|    88.0|    88.0|     2.0|2.0|    11.0|  3.0|    1.0|\n",
      "|   0.0|   1.0| 23.3|     0.0|    2.0|     2.0|     1.0|     2.0|     1.0|     1.0|     3.0|     2.0|     1.0|    2.0|     2.0|    4.0|    14.0|    88.0|     2.0|2.0|    10.0|  2.0|    2.0|\n",
      "+------+------+-----+--------+-------+--------+--------+--------+--------+--------+--------+--------+--------+-------+--------+-------+--------+--------+--------+---+--------+-----+-------+\n",
      "only showing top 5 rows\n",
      "\n"
     ]
    }
   ],
   "source": [
    "data2017.show(5)"
   ]
  },
  {
   "cell_type": "code",
   "execution_count": null,
   "id": "b8dfa116",
   "metadata": {},
   "outputs": [],
   "source": []
  },
  {
   "cell_type": "code",
   "execution_count": null,
   "id": "31e2fc42",
   "metadata": {},
   "outputs": [],
   "source": []
  },
  {
   "cell_type": "code",
   "execution_count": null,
   "id": "fbba871a",
   "metadata": {},
   "outputs": [],
   "source": []
  },
  {
   "cell_type": "code",
   "execution_count": null,
   "id": "1a9941b9",
   "metadata": {},
   "outputs": [],
   "source": []
  },
  {
   "cell_type": "code",
   "execution_count": null,
   "id": "186de600",
   "metadata": {},
   "outputs": [],
   "source": []
  },
  {
   "cell_type": "code",
   "execution_count": null,
   "id": "ea65bfa1",
   "metadata": {},
   "outputs": [],
   "source": []
  },
  {
   "cell_type": "code",
   "execution_count": null,
   "id": "25a6aea4",
   "metadata": {},
   "outputs": [],
   "source": []
  },
  {
   "cell_type": "code",
   "execution_count": null,
   "id": "a88e0747",
   "metadata": {},
   "outputs": [],
   "source": []
  },
  {
   "cell_type": "code",
   "execution_count": 24,
   "id": "74f0f2f0",
   "metadata": {},
   "outputs": [
    {
     "ename": "NameError",
     "evalue": "name 'check' is not defined",
     "output_type": "error",
     "traceback": [
      "\u001b[0;31m---------------------------------------------------------------------------\u001b[0m",
      "\u001b[0;31mNameError\u001b[0m                                 Traceback (most recent call last)",
      "\u001b[0;32m/var/folders/wz/88qmbx0907b9r93k2czdqckw0000gn/T/ipykernel_95709/4058830298.py\u001b[0m in \u001b[0;36m<module>\u001b[0;34m\u001b[0m\n\u001b[0;32m----> 1\u001b[0;31m \u001b[0mcheck\u001b[0m\u001b[0;34m.\u001b[0m\u001b[0mshow\u001b[0m\u001b[0;34m(\u001b[0m\u001b[0;36m2\u001b[0m\u001b[0;34m)\u001b[0m\u001b[0;34m\u001b[0m\u001b[0;34m\u001b[0m\u001b[0m\n\u001b[0m",
      "\u001b[0;31mNameError\u001b[0m: name 'check' is not defined"
     ]
    }
   ],
   "source": [
    "\n",
    "check.show(2)"
   ]
  },
  {
   "cell_type": "code",
   "execution_count": null,
   "id": "0aa01923",
   "metadata": {},
   "outputs": [],
   "source": []
  },
  {
   "cell_type": "code",
   "execution_count": null,
   "id": "712f2415",
   "metadata": {},
   "outputs": [],
   "source": []
  }
 ],
 "metadata": {
  "kernelspec": {
   "display_name": "Python 3 (ipykernel)",
   "language": "python",
   "name": "python3"
  },
  "language_info": {
   "codemirror_mode": {
    "name": "ipython",
    "version": 3
   },
   "file_extension": ".py",
   "mimetype": "text/x-python",
   "name": "python",
   "nbconvert_exporter": "python",
   "pygments_lexer": "ipython3",
   "version": "3.9.7"
  }
 },
 "nbformat": 4,
 "nbformat_minor": 5
}
