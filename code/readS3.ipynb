{
 "cells": [
  {
   "cell_type": "code",
   "execution_count": 1,
   "id": "f859455c",
   "metadata": {},
   "outputs": [],
   "source": [
    "from pyspark import SparkContext\n",
    "import sys\n",
    "import re\n",
    "import os"
   ]
  },
  {
   "cell_type": "code",
   "execution_count": 2,
   "id": "4d99fc5f",
   "metadata": {},
   "outputs": [],
   "source": [
    "spark = SparkSession(sc)"
   ]
  },
  {
   "cell_type": "code",
   "execution_count": 3,
   "id": "3051c280",
   "metadata": {},
   "outputs": [
    {
     "name": "stdout",
     "output_type": "stream",
     "text": [
      "/opt/homebrew/Cellar/apache-spark/3.2.1/libexec\n"
     ]
    }
   ],
   "source": [
    "print(os.environ['SPARK_HOME'])"
   ]
  },
  {
   "cell_type": "markdown",
   "id": "4395ee1c",
   "metadata": {},
   "source": [
    "## 1. READING DATA INTO SPARK FRAMES\n",
    "- We are reading two datasets \n",
    "    - BRFSS 2019 survey\n",
    "    - BRFSS 2017 survey\n",
    "- Not using the 2018 survey since it has significant differences in the key features that we extracting for the ML classification\n",
    "- Related Work: https://www.kaggle.com/alexteboul/diabetes-health-indicators-dataset-notebook\n",
    "    - The related work uses variuos lifestyle indicator habits, prior chronic disease indicator from the BRFSS survey to identify Diabetes risk for 2015 BRFSS survey\n",
    "    - We will use similar indicators to see if we can predict risk of Heart Attack and Heart Disease.We will be using two yeas of data (2019 and 2017)"
   ]
  },
  {
   "cell_type": "markdown",
   "id": "7b5a7394",
   "metadata": {},
   "source": [
    "### Dataset Links \n",
    "- Original Links on CDC Website\n",
    "    - https://www.cdc.gov/brfss/annual_data/annual_2017.html\n",
    "    - https://www.cdc.gov/brfss/annual_data/annual_2019.html\n",
    "- We have uploaded to S3 for easy access the locations are\n",
    "    - s3a://brfss-big-data-project/BRFSS_2017.csv\n",
    "    - s3a://brfss-big-data-project/BRFSS_2019.csv\n",
    "    "
   ]
  },
  {
   "cell_type": "code",
   "execution_count": 4,
   "id": "605d08cd",
   "metadata": {},
   "outputs": [],
   "source": [
    "# READ LOCAL DATA FILE\n",
    "# Comment if reading from S3\n",
    "#df = spark.read.csv(\"../../../BRFSS/CSV_version/BRFSS_2019.csv\", header='true')"
   ]
  },
  {
   "cell_type": "code",
   "execution_count": 5,
   "id": "e7b04faa",
   "metadata": {},
   "outputs": [
    {
     "name": "stderr",
     "output_type": "stream",
     "text": [
      "22/05/26 18:20:23 WARN MetricsConfig: Cannot locate configuration: tried hadoop-metrics2-s3a-file-system.properties,hadoop-metrics2.properties\n"
     ]
    }
   ],
   "source": [
    "# READ FROM S3 BUCKET\n",
    "# Comment if reading locally\n",
    "sc._jsc.hadoopConfiguration().set(\"fs.s3a.impl\",\"org.apache.hadoop.fs.s3a.S3AFileSystem\")\n",
    "sc._jsc.hadoopConfiguration().set(\"com.amazonaws.services.s3.enableV4\", \"true\")\n",
    "sc._jsc.hadoopConfiguration().set(\"fs.s3a.aws.credentials.provider\",\"org.apache.hadoop.fs.s3a.AnonymousAWSCredentialsProvider\")\n",
    "\n",
    "df2019 = spark.read.csv(\"s3a://brfss-big-data-project/BRFSS_2019.csv\", header = 'true')\n",
    "df2017 = spark.read.csv(\"s3a://brfss-big-data-project/BRFSS_2017.csv\", header = 'true')"
   ]
  },
  {
   "cell_type": "code",
   "execution_count": 6,
   "id": "fe4eff78",
   "metadata": {},
   "outputs": [
    {
     "name": "stdout",
     "output_type": "stream",
     "text": [
      "root\n",
      " |-- _STATE: string (nullable = true)\n",
      " |-- FMONTH: string (nullable = true)\n",
      " |-- IDATE: string (nullable = true)\n",
      " |-- IMONTH: string (nullable = true)\n",
      " |-- IDAY: string (nullable = true)\n",
      " |-- IYEAR: string (nullable = true)\n",
      " |-- DISPCODE: string (nullable = true)\n",
      " |-- SEQNO: string (nullable = true)\n",
      " |-- _PSU: string (nullable = true)\n",
      " |-- CTELENM1: string (nullable = true)\n",
      " |-- PVTRESD1: string (nullable = true)\n",
      " |-- COLGHOUS: string (nullable = true)\n",
      " |-- STATERE1: string (nullable = true)\n",
      " |-- CELPHONE: string (nullable = true)\n",
      " |-- LADULT1: string (nullable = true)\n",
      " |-- COLGSEX: string (nullable = true)\n",
      " |-- NUMADULT: string (nullable = true)\n",
      " |-- LANDSEX: string (nullable = true)\n",
      " |-- NUMMEN: string (nullable = true)\n",
      " |-- NUMWOMEN: string (nullable = true)\n",
      " |-- RESPSLCT: string (nullable = true)\n",
      " |-- SAFETIME: string (nullable = true)\n",
      " |-- CTELNUM1: string (nullable = true)\n",
      " |-- CELLFON5: string (nullable = true)\n",
      " |-- CADULT1: string (nullable = true)\n",
      " |-- CELLSEX: string (nullable = true)\n",
      " |-- PVTRESD3: string (nullable = true)\n",
      " |-- CCLGHOUS: string (nullable = true)\n",
      " |-- CSTATE1: string (nullable = true)\n",
      " |-- LANDLINE: string (nullable = true)\n",
      " |-- HHADULT: string (nullable = true)\n",
      " |-- SEXVAR: string (nullable = true)\n",
      " |-- GENHLTH: string (nullable = true)\n",
      " |-- PHYSHLTH: string (nullable = true)\n",
      " |-- MENTHLTH: string (nullable = true)\n",
      " |-- POORHLTH: string (nullable = true)\n",
      " |-- HLTHPLN1: string (nullable = true)\n",
      " |-- PERSDOC2: string (nullable = true)\n",
      " |-- MEDCOST: string (nullable = true)\n",
      " |-- CHECKUP1: string (nullable = true)\n",
      " |-- BPHIGH4: string (nullable = true)\n",
      " |-- BPMEDS: string (nullable = true)\n",
      " |-- CHOLCHK2: string (nullable = true)\n",
      " |-- TOLDHI2: string (nullable = true)\n",
      " |-- CHOLMED2: string (nullable = true)\n",
      " |-- CVDINFR4: string (nullable = true)\n",
      " |-- CVDCRHD4: string (nullable = true)\n",
      " |-- CVDSTRK3: string (nullable = true)\n",
      " |-- ASTHMA3: string (nullable = true)\n",
      " |-- ASTHNOW: string (nullable = true)\n",
      " |-- CHCSCNCR: string (nullable = true)\n",
      " |-- CHCOCNCR: string (nullable = true)\n",
      " |-- CHCCOPD2: string (nullable = true)\n",
      " |-- ADDEPEV3: string (nullable = true)\n",
      " |-- CHCKDNY2: string (nullable = true)\n",
      " |-- DIABETE4: string (nullable = true)\n",
      " |-- DIABAGE3: string (nullable = true)\n",
      " |-- HAVARTH4: string (nullable = true)\n",
      " |-- ARTHEXER: string (nullable = true)\n",
      " |-- ARTHEDU: string (nullable = true)\n",
      " |-- LMTJOIN3: string (nullable = true)\n",
      " |-- ARTHDIS2: string (nullable = true)\n",
      " |-- JOINPAI2: string (nullable = true)\n",
      " |-- MARITAL: string (nullable = true)\n",
      " |-- EDUCA: string (nullable = true)\n",
      " |-- RENTHOM1: string (nullable = true)\n",
      " |-- NUMHHOL3: string (nullable = true)\n",
      " |-- NUMPHON3: string (nullable = true)\n",
      " |-- CPDEMO1B: string (nullable = true)\n",
      " |-- VETERAN3: string (nullable = true)\n",
      " |-- EMPLOY1: string (nullable = true)\n",
      " |-- CHILDREN: string (nullable = true)\n",
      " |-- INCOME2: string (nullable = true)\n",
      " |-- WEIGHT2: string (nullable = true)\n",
      " |-- HEIGHT3: string (nullable = true)\n",
      " |-- PREGNANT: string (nullable = true)\n",
      " |-- DEAF: string (nullable = true)\n",
      " |-- BLIND: string (nullable = true)\n",
      " |-- DECIDE: string (nullable = true)\n",
      " |-- DIFFWALK: string (nullable = true)\n",
      " |-- DIFFDRES: string (nullable = true)\n",
      " |-- DIFFALON: string (nullable = true)\n",
      " |-- SMOKE100: string (nullable = true)\n",
      " |-- SMOKDAY2: string (nullable = true)\n",
      " |-- STOPSMK2: string (nullable = true)\n",
      " |-- LASTSMK2: string (nullable = true)\n",
      " |-- USENOW3: string (nullable = true)\n",
      " |-- ALCDAY5: string (nullable = true)\n",
      " |-- AVEDRNK3: string (nullable = true)\n",
      " |-- DRNK3GE5: string (nullable = true)\n",
      " |-- MAXDRNKS: string (nullable = true)\n",
      " |-- EXERANY2: string (nullable = true)\n",
      " |-- EXRACT11: string (nullable = true)\n",
      " |-- EXEROFT1: string (nullable = true)\n",
      " |-- EXERHMM1: string (nullable = true)\n",
      " |-- EXRACT21: string (nullable = true)\n",
      " |-- EXEROFT2: string (nullable = true)\n",
      " |-- EXERHMM2: string (nullable = true)\n",
      " |-- STRENGTH: string (nullable = true)\n",
      " |-- FRUIT2: string (nullable = true)\n",
      " |-- FRUITJU2: string (nullable = true)\n",
      " |-- FVGREEN1: string (nullable = true)\n",
      " |-- FRENCHF1: string (nullable = true)\n",
      " |-- POTATOE1: string (nullable = true)\n",
      " |-- VEGETAB2: string (nullable = true)\n",
      " |-- FLUSHOT7: string (nullable = true)\n",
      " |-- FLSHTMY3: string (nullable = true)\n",
      " |-- TETANUS1: string (nullable = true)\n",
      " |-- PNEUVAC4: string (nullable = true)\n",
      " |-- HIVTST7: string (nullable = true)\n",
      " |-- HIVTSTD3: string (nullable = true)\n",
      " |-- HIVRISK5: string (nullable = true)\n",
      " |-- PDIABTST: string (nullable = true)\n",
      " |-- PREDIAB1: string (nullable = true)\n",
      " |-- INSULIN1: string (nullable = true)\n",
      " |-- BLDSUGAR: string (nullable = true)\n",
      " |-- FEETCHK3: string (nullable = true)\n",
      " |-- DOCTDIAB: string (nullable = true)\n",
      " |-- CHKHEMO3: string (nullable = true)\n",
      " |-- FEETCHK: string (nullable = true)\n",
      " |-- EYEEXAM1: string (nullable = true)\n",
      " |-- DIABEYE: string (nullable = true)\n",
      " |-- DIABEDU: string (nullable = true)\n",
      " |-- TOLDCFS: string (nullable = true)\n",
      " |-- HAVECFS: string (nullable = true)\n",
      " |-- WORKCFS: string (nullable = true)\n",
      " |-- TOLDHEPC: string (nullable = true)\n",
      " |-- TRETHEPC: string (nullable = true)\n",
      " |-- PRIRHEPC: string (nullable = true)\n",
      " |-- HAVEHEPC: string (nullable = true)\n",
      " |-- HAVEHEPB: string (nullable = true)\n",
      " |-- MEDSHEPB: string (nullable = true)\n",
      " |-- HPVADVC3: string (nullable = true)\n",
      " |-- HPVADSHT: string (nullable = true)\n",
      " |-- IMFVPLA1: string (nullable = true)\n",
      " |-- SHINGLE2: string (nullable = true)\n",
      " |-- LCSFIRST: string (nullable = true)\n",
      " |-- LCSLAST: string (nullable = true)\n",
      " |-- LCSNUMCG: string (nullable = true)\n",
      " |-- LCSCTSCN: string (nullable = true)\n",
      " |-- HADMAM: string (nullable = true)\n",
      " |-- HOWLONG: string (nullable = true)\n",
      " |-- HADPAP2: string (nullable = true)\n",
      " |-- LASTPAP2: string (nullable = true)\n",
      " |-- HPVTEST: string (nullable = true)\n",
      " |-- HPLSTTST: string (nullable = true)\n",
      " |-- HADHYST2: string (nullable = true)\n",
      " |-- PCPSAAD3: string (nullable = true)\n",
      " |-- PCPSADI1: string (nullable = true)\n",
      " |-- PCPSARE1: string (nullable = true)\n",
      " |-- PSATEST1: string (nullable = true)\n",
      " |-- PSATIME: string (nullable = true)\n",
      " |-- PCPSARS1: string (nullable = true)\n",
      " |-- PCPSADE1: string (nullable = true)\n",
      " |-- PCDMDEC1: string (nullable = true)\n",
      " |-- BLDSTOOL: string (nullable = true)\n",
      " |-- LSTBLDS3: string (nullable = true)\n",
      " |-- HADSIGM3: string (nullable = true)\n",
      " |-- HADSGCO1: string (nullable = true)\n",
      " |-- LASTSIG3: string (nullable = true)\n",
      " |-- CNCRDIFF: string (nullable = true)\n",
      " |-- CNCRAGE: string (nullable = true)\n",
      " |-- CNCRTYP1: string (nullable = true)\n",
      " |-- CSRVTRT3: string (nullable = true)\n",
      " |-- CSRVDOC1: string (nullable = true)\n",
      " |-- CSRVSUM: string (nullable = true)\n",
      " |-- CSRVRTRN: string (nullable = true)\n",
      " |-- CSRVINST: string (nullable = true)\n",
      " |-- CSRVINSR: string (nullable = true)\n",
      " |-- CSRVDEIN: string (nullable = true)\n",
      " |-- CSRVCLIN: string (nullable = true)\n",
      " |-- CSRVPAIN: string (nullable = true)\n",
      " |-- CSRVCTL2: string (nullable = true)\n",
      " |-- HLTHCVR1: string (nullable = true)\n",
      " |-- ASPIRIN: string (nullable = true)\n",
      " |-- HOMBPCHK: string (nullable = true)\n",
      " |-- HOMRGCHK: string (nullable = true)\n",
      " |-- WHEREBP: string (nullable = true)\n",
      " |-- SHAREBP: string (nullable = true)\n",
      " |-- WTCHSALT: string (nullable = true)\n",
      " |-- DRADVISE: string (nullable = true)\n",
      " |-- INDORTAN: string (nullable = true)\n",
      " |-- NUMBURN3: string (nullable = true)\n",
      " |-- SUNPRTCT: string (nullable = true)\n",
      " |-- WKDAYOUT: string (nullable = true)\n",
      " |-- WKENDOUT: string (nullable = true)\n",
      " |-- CIMEMLOS: string (nullable = true)\n",
      " |-- CDHOUSE: string (nullable = true)\n",
      " |-- CDASSIST: string (nullable = true)\n",
      " |-- CDHELP: string (nullable = true)\n",
      " |-- CDSOCIAL: string (nullable = true)\n",
      " |-- CDDISCUS: string (nullable = true)\n",
      " |-- CAREGIV1: string (nullable = true)\n",
      " |-- CRGVREL3: string (nullable = true)\n",
      " |-- CRGVLNG1: string (nullable = true)\n",
      " |-- CRGVHRS1: string (nullable = true)\n",
      " |-- CRGVPRB3: string (nullable = true)\n",
      " |-- CRGVALZD: string (nullable = true)\n",
      " |-- CRGVPER1: string (nullable = true)\n",
      " |-- CRGVHOU1: string (nullable = true)\n",
      " |-- CRGVEXPT: string (nullable = true)\n",
      " |-- ACEDEPRS: string (nullable = true)\n",
      " |-- ACEDRINK: string (nullable = true)\n",
      " |-- ACEDRUGS: string (nullable = true)\n",
      " |-- ACEPRISN: string (nullable = true)\n",
      " |-- ACEDIVRC: string (nullable = true)\n",
      " |-- ACEPUNCH: string (nullable = true)\n",
      " |-- ACEHURT1: string (nullable = true)\n",
      " |-- ACESWEAR: string (nullable = true)\n",
      " |-- ACETOUCH: string (nullable = true)\n",
      " |-- ACETTHEM: string (nullable = true)\n",
      " |-- ACEHVSEX: string (nullable = true)\n",
      " |-- PFPPRVN3: string (nullable = true)\n",
      " |-- TYPCNTR8: string (nullable = true)\n",
      " |-- NOBCUSE7: string (nullable = true)\n",
      " |-- ASBIALCH: string (nullable = true)\n",
      " |-- ASBIDRNK: string (nullable = true)\n",
      " |-- ASBIBING: string (nullable = true)\n",
      " |-- ASBIADVC: string (nullable = true)\n",
      " |-- ASBIRDUC: string (nullable = true)\n",
      " |-- MARIJAN1: string (nullable = true)\n",
      " |-- USEMRJN2: string (nullable = true)\n",
      " |-- RSNMRJN1: string (nullable = true)\n",
      " |-- FOODSTMP: string (nullable = true)\n",
      " |-- BIRTHSEX: string (nullable = true)\n",
      " |-- SOMALE: string (nullable = true)\n",
      " |-- SOFEMALE: string (nullable = true)\n",
      " |-- TRNSGNDR: string (nullable = true)\n",
      " |-- RCSGENDR: string (nullable = true)\n",
      " |-- RCSRLTN2: string (nullable = true)\n",
      " |-- CASTHDX2: string (nullable = true)\n",
      " |-- CASTHNO2: string (nullable = true)\n",
      " |-- QSTVER: string (nullable = true)\n",
      " |-- QSTLANG: string (nullable = true)\n",
      " |-- _METSTAT: string (nullable = true)\n",
      " |-- _URBSTAT: string (nullable = true)\n",
      " |-- MSCODE: string (nullable = true)\n",
      " |-- _STSTR: string (nullable = true)\n",
      " |-- _STRWT: string (nullable = true)\n",
      " |-- _RAWRAKE: string (nullable = true)\n",
      " |-- _WT2RAKE: string (nullable = true)\n",
      " |-- _IMPRACE: string (nullable = true)\n",
      " |-- _CHISPNC: string (nullable = true)\n",
      " |-- _CRACE1: string (nullable = true)\n",
      " |-- _CPRACE: string (nullable = true)\n",
      " |-- _CLLCPWT: string (nullable = true)\n",
      " |-- _DUALUSE: string (nullable = true)\n",
      " |-- _DUALCOR: string (nullable = true)\n",
      " |-- _LLCPWT2: string (nullable = true)\n",
      " |-- _LLCPWT: string (nullable = true)\n",
      " |-- _RFHLTH: string (nullable = true)\n",
      " |-- _PHYS14D: string (nullable = true)\n",
      " |-- _MENT14D: string (nullable = true)\n",
      " |-- _HCVU651: string (nullable = true)\n",
      " |-- _RFHYPE5: string (nullable = true)\n",
      " |-- _CHOLCH2: string (nullable = true)\n",
      " |-- _RFCHOL2: string (nullable = true)\n",
      " |-- _MICHD: string (nullable = true)\n",
      " |-- _LTASTH1: string (nullable = true)\n",
      " |-- _CASTHM1: string (nullable = true)\n",
      " |-- _ASTHMS1: string (nullable = true)\n",
      " |-- _DRDXAR2: string (nullable = true)\n",
      " |-- _LMTACT2: string (nullable = true)\n",
      " |-- _LMTWRK2: string (nullable = true)\n",
      " |-- _PRACE1: string (nullable = true)\n",
      " |-- _MRACE1: string (nullable = true)\n",
      " |-- _HISPANC: string (nullable = true)\n",
      " |-- _RACE: string (nullable = true)\n",
      " |-- _RACEG21: string (nullable = true)\n",
      " |-- _RACEGR3: string (nullable = true)\n",
      " |-- _RACE_G1: string (nullable = true)\n",
      " |-- _SEX: string (nullable = true)\n",
      " |-- _AGEG5YR: string (nullable = true)\n",
      " |-- _AGE65YR: string (nullable = true)\n",
      " |-- _AGE80: string (nullable = true)\n",
      " |-- _AGE_G: string (nullable = true)\n",
      " |-- HTIN4: string (nullable = true)\n",
      " |-- HTM4: string (nullable = true)\n",
      " |-- WTKG3: string (nullable = true)\n",
      " |-- _BMI5: string (nullable = true)\n",
      " |-- _BMI5CAT: string (nullable = true)\n",
      " |-- _RFBMI5: string (nullable = true)\n",
      " |-- _CHLDCNT: string (nullable = true)\n",
      " |-- _EDUCAG: string (nullable = true)\n",
      " |-- _INCOMG: string (nullable = true)\n",
      " |-- _SMOKER3: string (nullable = true)\n",
      " |-- _RFSMOK3: string (nullable = true)\n",
      " |-- DRNKANY5: string (nullable = true)\n",
      " |-- DROCDY3_: string (nullable = true)\n",
      " |-- _RFBING5: string (nullable = true)\n",
      " |-- _DRNKWK1: string (nullable = true)\n",
      " |-- _RFDRHV7: string (nullable = true)\n",
      " |-- _TOTINDA: string (nullable = true)\n",
      " |-- METVL11_: string (nullable = true)\n",
      " |-- METVL21_: string (nullable = true)\n",
      " |-- MAXVO21_: string (nullable = true)\n",
      " |-- FC601_: string (nullable = true)\n",
      " |-- ACTIN12_: string (nullable = true)\n",
      " |-- ACTIN22_: string (nullable = true)\n",
      " |-- PADUR1_: string (nullable = true)\n",
      " |-- PADUR2_: string (nullable = true)\n",
      " |-- PAFREQ1_: string (nullable = true)\n",
      " |-- PAFREQ2_: string (nullable = true)\n",
      " |-- _MINAC11: string (nullable = true)\n",
      " |-- _MINAC21: string (nullable = true)\n",
      " |-- STRFREQ_: string (nullable = true)\n",
      " |-- PAMISS2_: string (nullable = true)\n",
      " |-- PAMIN12_: string (nullable = true)\n",
      " |-- PAMIN22_: string (nullable = true)\n",
      " |-- PA2MIN_: string (nullable = true)\n",
      " |-- PAVIG12_: string (nullable = true)\n",
      " |-- PAVIG22_: string (nullable = true)\n",
      " |-- PA2VIGM_: string (nullable = true)\n",
      " |-- _PACAT2: string (nullable = true)\n",
      " |-- _PAINDX2: string (nullable = true)\n",
      " |-- _PA150R3: string (nullable = true)\n",
      " |-- _PA300R3: string (nullable = true)\n",
      " |-- _PA30022: string (nullable = true)\n",
      " |-- _PASTRNG: string (nullable = true)\n",
      " |-- _PAREC2: string (nullable = true)\n",
      " |-- _PASTAE2: string (nullable = true)\n",
      " |-- FTJUDA2_: string (nullable = true)\n",
      " |-- FRUTDA2_: string (nullable = true)\n",
      " |-- GRENDA1_: string (nullable = true)\n",
      " |-- FRNCHDA_: string (nullable = true)\n",
      " |-- POTADA1_: string (nullable = true)\n",
      " |-- VEGEDA2_: string (nullable = true)\n",
      " |-- _MISFRT1: string (nullable = true)\n",
      " |-- _MISVEG1: string (nullable = true)\n",
      " |-- _FRTRES1: string (nullable = true)\n",
      " |-- _VEGRES1: string (nullable = true)\n",
      " |-- _FRUTSU1: string (nullable = true)\n",
      " |-- _VEGESU1: string (nullable = true)\n",
      " |-- _FRTLT1A: string (nullable = true)\n",
      " |-- _VEGLT1A: string (nullable = true)\n",
      " |-- _FRT16A: string (nullable = true)\n",
      " |-- _VEG23A: string (nullable = true)\n",
      " |-- _FRUITE1: string (nullable = true)\n",
      " |-- _VEGETE1: string (nullable = true)\n",
      " |-- _FLSHOT7: string (nullable = true)\n",
      " |-- _PNEUMO3: string (nullable = true)\n",
      " |-- _AIDTST4: string (nullable = true)\n",
      "\n"
     ]
    }
   ],
   "source": [
    "df2019.printSchema()"
   ]
  },
  {
   "cell_type": "code",
   "execution_count": 7,
   "id": "f6f1c3e1",
   "metadata": {},
   "outputs": [
    {
     "name": "stdout",
     "output_type": "stream",
     "text": [
      "+------+--------+\n",
      "|_STATE|_VEGLT1A|\n",
      "+------+--------+\n",
      "|   1.0|     1.0|\n",
      "|   1.0|     1.0|\n",
      "|   1.0|     2.0|\n",
      "|   1.0|     9.0|\n",
      "|   1.0|     2.0|\n",
      "+------+--------+\n",
      "only showing top 5 rows\n",
      "\n"
     ]
    }
   ],
   "source": [
    "df2017.select(['_STATE','_VEGLT1A']).show(5)"
   ]
  },
  {
   "cell_type": "code",
   "execution_count": 8,
   "id": "b777355b",
   "metadata": {},
   "outputs": [
    {
     "name": "stdout",
     "output_type": "stream",
     "text": [
      "Dimensions of the Data Frame:\n"
     ]
    },
    {
     "name": "stderr",
     "output_type": "stream",
     "text": [
      "[Stage 3:===================================================>       (7 + 1) / 8]\r"
     ]
    },
    {
     "name": "stdout",
     "output_type": "stream",
     "text": [
      "(450016, 358)\n"
     ]
    },
    {
     "name": "stderr",
     "output_type": "stream",
     "text": [
      "\r",
      "                                                                                \r"
     ]
    }
   ],
   "source": [
    "print(\"Dimensions of the Data Frame:\")\n",
    "print((df2017.count(), len(df2017.columns)))"
   ]
  },
  {
   "cell_type": "markdown",
   "id": "d24097a1",
   "metadata": {},
   "source": [
    "Note: We can see that the complete brfss dataset has about 0.4 million records and 358 columns in 2017 survey. The 2019 survey is similar in dimension\n",
    "\n",
    "We are only interested in the columns related to the prediction of heart attacks and heart disease in individuals. The current column names are based on a code book that the CDC maintains. We will selected relavent columns using the code book to map key indicators.\n",
    "\n",
    "- Link to code book: https://www.cdc.gov/brfss/annual_data/annual_2019.html\n",
    "- Link to code book: https://www.cdc.gov/brfss/annual_data/annual_2017.html"
   ]
  },
  {
   "cell_type": "markdown",
   "id": "af4ff5d0",
   "metadata": {},
   "source": [
    "## 2. SELECTING THE COLUMNS OF INTEREST"
   ]
  },
  {
   "cell_type": "code",
   "execution_count": 9,
   "id": "51c35e5a",
   "metadata": {},
   "outputs": [],
   "source": [
    "# Selecting coloumns containing indicators for Heart Disease"
   ]
  },
  {
   "cell_type": "code",
   "execution_count": 10,
   "id": "7753fb33",
   "metadata": {},
   "outputs": [],
   "source": [
    "cols_to_select2017 = [\"CVDINFR4\",\"_MICHD\", # target variable if person has had Heart Attack aka Myocardial Infraction\n",
    "                  \"_STATE\",\"_BMI5\", # State person belongs to, Body Mass Index \n",
    "                 \"_RFHYPE5\",\"TOLDHI2\",\"CHOLCHK1\", # BP and cholestrol\n",
    "                 \"_FRTLT1A\",\"_VEGLT1A\", \"SMOKE100\",\"_RFDRHV5\", # Food (Fruit and vegetable consumption), alcohol and smoking\n",
    "                 \"DIABETE3\",\"CVDSTRK3\", # chronic diseases = Diabetes, Stroke\n",
    "                 \"HLTHPLN1\",\"MEDCOST\", # Insurance and medical access\n",
    "                 \"_TOTINDA\",\"GENHLTH\",\"PHYSHLTH\",\"MENTHLTH\",\"DIFFWALK\", #Fitness and activity \n",
    "                 \"SEX\",\"_AGEG5YR\",\"EDUCA\",\"INCOME2\"] # demographic Data = Gender, Age bracket, Education level, Income bracket"
   ]
  },
  {
   "cell_type": "code",
   "execution_count": 11,
   "id": "153fd3f6",
   "metadata": {},
   "outputs": [],
   "source": [
    "cols_to_select2019 = [\"CVDINFR4\",\"_MICHD\", # target variable if person has had Heart Attack aka Myocardial Infraction\n",
    "                  \"_STATE\",\"_BMI5\", # State person belongs to, Body Mass Index \n",
    "                 \"_RFHYPE5\",\"TOLDHI2\",\"CHOLCHK2\", # BP and cholestrol\n",
    "                 \"_FRTLT1A\",\"_VEGLT1A\", \"SMOKE100\",\"_RFDRHV7\", # Food (Fruit and vegetable consumption), alcohol and smoking\n",
    "                 \"DIABETE4\",\"CVDSTRK3\", # chronic diseases = Diabetes, Stroke\n",
    "                 \"HLTHPLN1\",\"MEDCOST\", # Insurance and medical access\n",
    "                 \"_TOTINDA\",\"GENHLTH\",\"PHYSHLTH\",\"MENTHLTH\",\"DIFFWALK\", #Fitness and activity \n",
    "                 \"SEXVAR\",\"_AGEG5YR\",\"EDUCA\",\"INCOME2\"] # demographic Data = Gender, Age bracket, Education level, Income bracket"
   ]
  },
  {
   "cell_type": "code",
   "execution_count": 12,
   "id": "e0dc6ab5",
   "metadata": {
    "scrolled": true
   },
   "outputs": [
    {
     "name": "stdout",
     "output_type": "stream",
     "text": [
      "+--------+------+------+------+--------+-------+--------+--------+--------+--------+--------+--------+--------+--------+-------+--------+-------+--------+--------+--------+------+--------+-----+-------+\n",
      "|CVDINFR4|_MICHD|_STATE| _BMI5|_RFHYPE5|TOLDHI2|CHOLCHK2|_FRTLT1A|_VEGLT1A|SMOKE100|_RFDRHV7|DIABETE4|CVDSTRK3|HLTHPLN1|MEDCOST|_TOTINDA|GENHLTH|PHYSHLTH|MENTHLTH|DIFFWALK|SEXVAR|_AGEG5YR|EDUCA|INCOME2|\n",
      "+--------+------+------+------+--------+-------+--------+--------+--------+--------+--------+--------+--------+--------+-------+--------+-------+--------+--------+--------+------+--------+-----+-------+\n",
      "|     2.0|   2.0|   1.0|2817.0|     2.0|    1.0|     2.0|     1.0|     1.0|     1.0|     1.0|     3.0|     2.0|     1.0|    2.0|     2.0|    3.0|    15.0|    88.0|     1.0|   2.0|    13.0|  3.0|    3.0|\n",
      "|     2.0|   2.0|   1.0|1854.0|     1.0|    2.0|     2.0|     1.0|     1.0|     2.0|     1.0|     3.0|     2.0|     1.0|    2.0|     1.0|    4.0|    10.0|    88.0|     2.0|   2.0|    11.0|  5.0|    5.0|\n",
      "|     2.0|   2.0|   1.0|3162.0|     2.0|    2.0|     2.0|     1.0|     1.0|     2.0|     1.0|     1.0|     2.0|     1.0|    2.0|     1.0|    3.0|    88.0|    30.0|     1.0|   2.0|    10.0|  6.0|    7.0|\n",
      "|     2.0|   2.0|   1.0|2030.0|     2.0|    2.0|     2.0|     9.0|     9.0|    null|     9.0|     3.0|     2.0|     1.0|    2.0|     9.0|    4.0|    30.0|    88.0|    null|   2.0|    13.0|  5.0|    6.0|\n",
      "|     2.0|   2.0|   1.0|2148.0|     1.0|    1.0|     2.0|     1.0|     1.0|     1.0|     1.0|     3.0|     2.0|     1.0|    2.0|     2.0|    2.0|    88.0|    88.0|     2.0|   2.0|    13.0|  5.0|   99.0|\n",
      "+--------+------+------+------+--------+-------+--------+--------+--------+--------+--------+--------+--------+--------+-------+--------+-------+--------+--------+--------+------+--------+-----+-------+\n",
      "only showing top 5 rows\n",
      "\n"
     ]
    },
    {
     "name": "stderr",
     "output_type": "stream",
     "text": [
      "\r",
      "[Stage 6:>                                                          (0 + 1) / 1]\r",
      "\r",
      "                                                                                \r"
     ]
    }
   ],
   "source": [
    "heartDisease2019 = df2019.select(cols_to_select2019)\n",
    "heartDisease2019.show(5)"
   ]
  },
  {
   "cell_type": "code",
   "execution_count": 13,
   "id": "99c6a400",
   "metadata": {},
   "outputs": [
    {
     "name": "stdout",
     "output_type": "stream",
     "text": [
      "+--------+------+------+------+--------+-------+--------+--------+--------+--------+--------+--------+--------+--------+-------+--------+-------+--------+--------+--------+---+--------+-----+-------+\n",
      "|CVDINFR4|_MICHD|_STATE| _BMI5|_RFHYPE5|TOLDHI2|CHOLCHK1|_FRTLT1A|_VEGLT1A|SMOKE100|_RFDRHV5|DIABETE3|CVDSTRK3|HLTHPLN1|MEDCOST|_TOTINDA|GENHLTH|PHYSHLTH|MENTHLTH|DIFFWALK|SEX|_AGEG5YR|EDUCA|INCOME2|\n",
      "+--------+------+------+------+--------+-------+--------+--------+--------+--------+--------+--------+--------+--------+-------+--------+-------+--------+--------+--------+---+--------+-----+-------+\n",
      "|     2.0|   2.0|   1.0|2696.0|     2.0|    1.0|     2.0|     1.0|     1.0|     2.0|     1.0|     1.0|     2.0|     1.0|    2.0|     1.0|    2.0|    88.0|    88.0|     1.0|2.0|    11.0|  6.0|    6.0|\n",
      "|     2.0|   2.0|   1.0|2943.0|     2.0|    2.0|     2.0|     1.0|     1.0|     2.0|     1.0|     3.0|     2.0|     1.0|    2.0|     1.0|    2.0|    88.0|    88.0|     2.0|1.0|    10.0|  6.0|    8.0|\n",
      "|     2.0|   2.0|   1.0|2504.0|     1.0|    1.0|     2.0|     2.0|     2.0|     2.0|     1.0|     3.0|     2.0|     1.0|    2.0|     2.0|    3.0|    88.0|    88.0|     2.0|1.0|    11.0|  2.0|   99.0|\n",
      "|     2.0|   2.0|   1.0|2663.0|     2.0|    1.0|     2.0|     2.0|     9.0|     2.0|     1.0|     1.0|     2.0|     1.0|    2.0|     9.0|    4.0|    88.0|    88.0|     2.0|2.0|    11.0|  3.0|    1.0|\n",
      "|     2.0|   2.0|   1.0|2330.0|     1.0|    2.0|     2.0|     1.0|     2.0|     1.0|     1.0|     3.0|     2.0|     1.0|    2.0|     2.0|    4.0|    14.0|    88.0|     2.0|2.0|    10.0|  2.0|    2.0|\n",
      "+--------+------+------+------+--------+-------+--------+--------+--------+--------+--------+--------+--------+--------+-------+--------+-------+--------+--------+--------+---+--------+-----+-------+\n",
      "only showing top 5 rows\n",
      "\n"
     ]
    }
   ],
   "source": [
    "heartDisease2017 = df2017.select(cols_to_select2017)\n",
    "heartDisease2017.show(5)"
   ]
  },
  {
   "cell_type": "markdown",
   "id": "f0be5a96",
   "metadata": {},
   "source": [
    "## 3. REMOVE ROWS THAT HAVE NULL VALUES"
   ]
  },
  {
   "cell_type": "code",
   "execution_count": 14,
   "id": "599fe8a4",
   "metadata": {},
   "outputs": [
    {
     "name": "stdout",
     "output_type": "stream",
     "text": [
      "Dimensions of the Data Frame:\n"
     ]
    },
    {
     "name": "stderr",
     "output_type": "stream",
     "text": [
      "[Stage 8:===================================================>       (7 + 1) / 8]\r"
     ]
    },
    {
     "name": "stdout",
     "output_type": "stream",
     "text": [
      "(418268, 24)\n"
     ]
    },
    {
     "name": "stderr",
     "output_type": "stream",
     "text": [
      "\r",
      "                                                                                \r"
     ]
    }
   ],
   "source": [
    "print(\"Dimensions of the Data Frame:\")\n",
    "print((heartDisease2019.count(), len(heartDisease2019.columns)))"
   ]
  },
  {
   "cell_type": "code",
   "execution_count": 15,
   "id": "36ac5a1c",
   "metadata": {},
   "outputs": [],
   "source": [
    "data2017=heartDisease2017.na.drop()\n",
    "data2019=heartDisease2019.na.drop()"
   ]
  },
  {
   "cell_type": "code",
   "execution_count": 16,
   "id": "e75e1748",
   "metadata": {},
   "outputs": [
    {
     "name": "stdout",
     "output_type": "stream",
     "text": [
      "Dimensions of the Data Frame:\n"
     ]
    },
    {
     "name": "stderr",
     "output_type": "stream",
     "text": [
      "[Stage 11:==================================================>       (7 + 1) / 8]\r"
     ]
    },
    {
     "name": "stdout",
     "output_type": "stream",
     "text": [
      "(351867, 24)\n"
     ]
    },
    {
     "name": "stderr",
     "output_type": "stream",
     "text": [
      "\r",
      "                                                                                \r"
     ]
    }
   ],
   "source": [
    "print(\"Dimensions of the Data Frame:\")\n",
    "print((data2019.count(), len(data2019.columns)))"
   ]
  },
  {
   "cell_type": "markdown",
   "id": "33f8c28c",
   "metadata": {},
   "source": [
    "## 4. MAPPING THE FEATURES APPROPRIATELY\n",
    "- We will use our understanding of the code book to correctly map values \n",
    "- Survey of writes 7 or 9 to indicate the person did not know or refused to answer.\n",
    "- We need to clean this values and map them so that the values are meaningful"
   ]
  },
  {
   "cell_type": "markdown",
   "id": "db4a9161",
   "metadata": {},
   "source": [
    "#### 4.1 _MICHD\n",
    "- 1: Yes has Heart Issues >  1 \n",
    "- 2: No has no heart issues > 0\n",
    "- Remove all 7 (dont knows)\n",
    "- Remove all 9 (refused)"
   ]
  },
  {
   "cell_type": "code",
   "execution_count": null,
   "id": "325f2f59",
   "metadata": {},
   "outputs": [],
   "source": []
  },
  {
   "cell_type": "code",
   "execution_count": null,
   "id": "8b02b16a",
   "metadata": {},
   "outputs": [],
   "source": []
  }
 ],
 "metadata": {
  "kernelspec": {
   "display_name": "Python 3 (ipykernel)",
   "language": "python",
   "name": "python3"
  },
  "language_info": {
   "codemirror_mode": {
    "name": "ipython",
    "version": 3
   },
   "file_extension": ".py",
   "mimetype": "text/x-python",
   "name": "python",
   "nbconvert_exporter": "python",
   "pygments_lexer": "ipython3",
   "version": "3.9.7"
  }
 },
 "nbformat": 4,
 "nbformat_minor": 5
}
