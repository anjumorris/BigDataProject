{
 "cells": [
  {
   "cell_type": "code",
   "execution_count": 1,
   "id": "f859455c",
   "metadata": {},
   "outputs": [],
   "source": [
    "from pyspark.sql import SparkSession\n",
    "import sys\n",
    "import re\n",
    "import os"
   ]
  },
  {
   "cell_type": "code",
   "execution_count": 2,
   "id": "4d99fc5f",
   "metadata": {},
   "outputs": [],
   "source": [
    "spark = SparkSession.builder.appName(\"myapp\").getOrCreate()"
   ]
  },
  {
   "cell_type": "code",
   "execution_count": 3,
   "id": "3051c280",
   "metadata": {},
   "outputs": [],
   "source": [
    "#print(os.environ['SPARK_HOME'])"
   ]
  },
  {
   "cell_type": "markdown",
   "id": "4395ee1c",
   "metadata": {},
   "source": [
    "## 1. READING DATA INTO SPARK FRAMES\n",
    "- We are reading two datasets \n",
    "    - BRFSS 2019 survey\n",
    "    - BRFSS 2017 survey\n",
    "- Not using the 2018 survey since it has significant differences in the key features that we extracting for the ML classification\n",
    "- Related Work: https://www.kaggle.com/alexteboul/diabetes-health-indicators-dataset-notebook\n",
    "    - The related work uses variuos lifestyle indicator habits, prior chronic disease indicator from the BRFSS survey to identify Diabetes risk for 2015 BRFSS survey\n",
    "    - We will use similar indicators to see if we can predict risk of Heart Attack and Heart Disease.We will be using two yeas of data (2019 and 2017)"
   ]
  },
  {
   "cell_type": "markdown",
   "id": "7b5a7394",
   "metadata": {},
   "source": [
    "### Dataset Links \n",
    "- Original Links on CDC Website\n",
    "    - https://www.cdc.gov/brfss/annual_data/annual_2017.html\n",
    "    - https://www.cdc.gov/brfss/annual_data/annual_2019.html\n",
    "- We have uploaded to S3 for easy access the locations are\n",
    "    - s3a://brfss-big-data-project/BRFSS_2017.csv\n",
    "    - s3a://brfss-big-data-project/BRFSS_2019.csv\n",
    "    "
   ]
  },
  {
   "cell_type": "code",
   "execution_count": 4,
   "id": "605d08cd",
   "metadata": {},
   "outputs": [
    {
     "name": "stderr",
     "output_type": "stream",
     "text": [
      "                                                                                \r"
     ]
    }
   ],
   "source": [
    "# READ LOCAL DATA FILE\n",
    "# Comment if reading from S3\n",
    "# df2019 = spark.read.csv(\"5330 project data/BRFSS_2019.csv\", header='true',inferSchema='true')\n",
    "# df2017 = spark.read.csv(\"5330 project data/BRFSS_2017.csv\", header='true',inferSchema='true')\n",
    "\n",
    "df2019 = spark.read.csv(\"../../../BRFSS/CSV_version/BRFSS_2019.csv\", header='true',inferSchema='true')\n",
    "df2017 = spark.read.csv(\"../../../BRFSS/CSV_version/BRFSS_2017.csv\", header='true',inferSchema='true')"
   ]
  },
  {
   "cell_type": "code",
   "execution_count": 5,
   "id": "e7b04faa",
   "metadata": {},
   "outputs": [],
   "source": [
    "# READ FROM S3 BUCKET\n",
    "# Comment if reading locally\n",
    "# sc._jsc.hadoopConfiguration().set(\"fs.s3a.impl\",\"org.apache.hadoop.fs.s3a.S3AFileSystem\")\n",
    "# sc._jsc.hadoopConfiguration().set(\"com.amazonaws.services.s3.enableV4\", \"true\")\n",
    "# sc._jsc.hadoopConfiguration().set(\"fs.s3a.aws.credentials.provider\",\"org.apache.hadoop.fs.s3a.AnonymousAWSCredentialsProvider\")\n",
    "\n",
    "# df2019 = spark.read.csv(\"s3a://brfss-big-data-project/BRFSS_2019.csv\", header = 'true',inferSchema='true')\n",
    "# df2017 = spark.read.csv(\"s3a://brfss-big-data-project/BRFSS_2017.csv\", header = 'true',inferSchema='true')"
   ]
  },
  {
   "cell_type": "code",
   "execution_count": 6,
   "id": "fe4eff78",
   "metadata": {},
   "outputs": [
    {
     "name": "stdout",
     "output_type": "stream",
     "text": [
      "root\n",
      " |-- _STATE: double (nullable = true)\n",
      " |-- FMONTH: double (nullable = true)\n",
      " |-- IDATE: integer (nullable = true)\n",
      " |-- IMONTH: integer (nullable = true)\n",
      " |-- IDAY: integer (nullable = true)\n",
      " |-- IYEAR: integer (nullable = true)\n",
      " |-- DISPCODE: double (nullable = true)\n",
      " |-- SEQNO: integer (nullable = true)\n",
      " |-- _PSU: double (nullable = true)\n",
      " |-- CTELENM1: double (nullable = true)\n",
      " |-- PVTRESD1: double (nullable = true)\n",
      " |-- COLGHOUS: double (nullable = true)\n",
      " |-- STATERE1: double (nullable = true)\n",
      " |-- CELPHONE: double (nullable = true)\n",
      " |-- LADULT1: double (nullable = true)\n",
      " |-- COLGSEX: double (nullable = true)\n",
      " |-- NUMADULT: double (nullable = true)\n",
      " |-- LANDSEX: double (nullable = true)\n",
      " |-- NUMMEN: double (nullable = true)\n",
      " |-- NUMWOMEN: double (nullable = true)\n",
      " |-- RESPSLCT: double (nullable = true)\n",
      " |-- SAFETIME: double (nullable = true)\n",
      " |-- CTELNUM1: double (nullable = true)\n",
      " |-- CELLFON5: double (nullable = true)\n",
      " |-- CADULT1: double (nullable = true)\n",
      " |-- CELLSEX: double (nullable = true)\n",
      " |-- PVTRESD3: double (nullable = true)\n",
      " |-- CCLGHOUS: double (nullable = true)\n",
      " |-- CSTATE1: double (nullable = true)\n",
      " |-- LANDLINE: double (nullable = true)\n",
      " |-- HHADULT: double (nullable = true)\n",
      " |-- SEXVAR: double (nullable = true)\n",
      " |-- GENHLTH: double (nullable = true)\n",
      " |-- PHYSHLTH: double (nullable = true)\n",
      " |-- MENTHLTH: double (nullable = true)\n",
      " |-- POORHLTH: double (nullable = true)\n",
      " |-- HLTHPLN1: double (nullable = true)\n",
      " |-- PERSDOC2: double (nullable = true)\n",
      " |-- MEDCOST: double (nullable = true)\n",
      " |-- CHECKUP1: double (nullable = true)\n",
      " |-- BPHIGH4: double (nullable = true)\n",
      " |-- BPMEDS: double (nullable = true)\n",
      " |-- CHOLCHK2: double (nullable = true)\n",
      " |-- TOLDHI2: double (nullable = true)\n",
      " |-- CHOLMED2: double (nullable = true)\n",
      " |-- CVDINFR4: double (nullable = true)\n",
      " |-- CVDCRHD4: double (nullable = true)\n",
      " |-- CVDSTRK3: double (nullable = true)\n",
      " |-- ASTHMA3: double (nullable = true)\n",
      " |-- ASTHNOW: double (nullable = true)\n",
      " |-- CHCSCNCR: double (nullable = true)\n",
      " |-- CHCOCNCR: double (nullable = true)\n",
      " |-- CHCCOPD2: double (nullable = true)\n",
      " |-- ADDEPEV3: double (nullable = true)\n",
      " |-- CHCKDNY2: double (nullable = true)\n",
      " |-- DIABETE4: double (nullable = true)\n",
      " |-- DIABAGE3: double (nullable = true)\n",
      " |-- HAVARTH4: double (nullable = true)\n",
      " |-- ARTHEXER: double (nullable = true)\n",
      " |-- ARTHEDU: double (nullable = true)\n",
      " |-- LMTJOIN3: double (nullable = true)\n",
      " |-- ARTHDIS2: double (nullable = true)\n",
      " |-- JOINPAI2: double (nullable = true)\n",
      " |-- MARITAL: double (nullable = true)\n",
      " |-- EDUCA: double (nullable = true)\n",
      " |-- RENTHOM1: double (nullable = true)\n",
      " |-- NUMHHOL3: double (nullable = true)\n",
      " |-- NUMPHON3: double (nullable = true)\n",
      " |-- CPDEMO1B: double (nullable = true)\n",
      " |-- VETERAN3: double (nullable = true)\n",
      " |-- EMPLOY1: double (nullable = true)\n",
      " |-- CHILDREN: double (nullable = true)\n",
      " |-- INCOME2: double (nullable = true)\n",
      " |-- WEIGHT2: double (nullable = true)\n",
      " |-- HEIGHT3: double (nullable = true)\n",
      " |-- PREGNANT: double (nullable = true)\n",
      " |-- DEAF: double (nullable = true)\n",
      " |-- BLIND: double (nullable = true)\n",
      " |-- DECIDE: double (nullable = true)\n",
      " |-- DIFFWALK: double (nullable = true)\n",
      " |-- DIFFDRES: double (nullable = true)\n",
      " |-- DIFFALON: double (nullable = true)\n",
      " |-- SMOKE100: double (nullable = true)\n",
      " |-- SMOKDAY2: double (nullable = true)\n",
      " |-- STOPSMK2: double (nullable = true)\n",
      " |-- LASTSMK2: double (nullable = true)\n",
      " |-- USENOW3: double (nullable = true)\n",
      " |-- ALCDAY5: double (nullable = true)\n",
      " |-- AVEDRNK3: double (nullable = true)\n",
      " |-- DRNK3GE5: double (nullable = true)\n",
      " |-- MAXDRNKS: double (nullable = true)\n",
      " |-- EXERANY2: double (nullable = true)\n",
      " |-- EXRACT11: double (nullable = true)\n",
      " |-- EXEROFT1: double (nullable = true)\n",
      " |-- EXERHMM1: double (nullable = true)\n",
      " |-- EXRACT21: double (nullable = true)\n",
      " |-- EXEROFT2: double (nullable = true)\n",
      " |-- EXERHMM2: double (nullable = true)\n",
      " |-- STRENGTH: double (nullable = true)\n",
      " |-- FRUIT2: double (nullable = true)\n",
      " |-- FRUITJU2: double (nullable = true)\n",
      " |-- FVGREEN1: double (nullable = true)\n",
      " |-- FRENCHF1: double (nullable = true)\n",
      " |-- POTATOE1: double (nullable = true)\n",
      " |-- VEGETAB2: double (nullable = true)\n",
      " |-- FLUSHOT7: double (nullable = true)\n",
      " |-- FLSHTMY3: double (nullable = true)\n",
      " |-- TETANUS1: double (nullable = true)\n",
      " |-- PNEUVAC4: double (nullable = true)\n",
      " |-- HIVTST7: double (nullable = true)\n",
      " |-- HIVTSTD3: double (nullable = true)\n",
      " |-- HIVRISK5: double (nullable = true)\n",
      " |-- PDIABTST: double (nullable = true)\n",
      " |-- PREDIAB1: double (nullable = true)\n",
      " |-- INSULIN1: double (nullable = true)\n",
      " |-- BLDSUGAR: double (nullable = true)\n",
      " |-- FEETCHK3: double (nullable = true)\n",
      " |-- DOCTDIAB: double (nullable = true)\n",
      " |-- CHKHEMO3: double (nullable = true)\n",
      " |-- FEETCHK: double (nullable = true)\n",
      " |-- EYEEXAM1: double (nullable = true)\n",
      " |-- DIABEYE: double (nullable = true)\n",
      " |-- DIABEDU: double (nullable = true)\n",
      " |-- TOLDCFS: string (nullable = true)\n",
      " |-- HAVECFS: string (nullable = true)\n",
      " |-- WORKCFS: string (nullable = true)\n",
      " |-- TOLDHEPC: double (nullable = true)\n",
      " |-- TRETHEPC: double (nullable = true)\n",
      " |-- PRIRHEPC: double (nullable = true)\n",
      " |-- HAVEHEPC: double (nullable = true)\n",
      " |-- HAVEHEPB: double (nullable = true)\n",
      " |-- MEDSHEPB: double (nullable = true)\n",
      " |-- HPVADVC3: double (nullable = true)\n",
      " |-- HPVADSHT: double (nullable = true)\n",
      " |-- IMFVPLA1: double (nullable = true)\n",
      " |-- SHINGLE2: double (nullable = true)\n",
      " |-- LCSFIRST: double (nullable = true)\n",
      " |-- LCSLAST: double (nullable = true)\n",
      " |-- LCSNUMCG: double (nullable = true)\n",
      " |-- LCSCTSCN: double (nullable = true)\n",
      " |-- HADMAM: double (nullable = true)\n",
      " |-- HOWLONG: double (nullable = true)\n",
      " |-- HADPAP2: double (nullable = true)\n",
      " |-- LASTPAP2: double (nullable = true)\n",
      " |-- HPVTEST: double (nullable = true)\n",
      " |-- HPLSTTST: double (nullable = true)\n",
      " |-- HADHYST2: double (nullable = true)\n",
      " |-- PCPSAAD3: string (nullable = true)\n",
      " |-- PCPSADI1: string (nullable = true)\n",
      " |-- PCPSARE1: string (nullable = true)\n",
      " |-- PSATEST1: string (nullable = true)\n",
      " |-- PSATIME: string (nullable = true)\n",
      " |-- PCPSARS1: string (nullable = true)\n",
      " |-- PCPSADE1: string (nullable = true)\n",
      " |-- PCDMDEC1: string (nullable = true)\n",
      " |-- BLDSTOOL: double (nullable = true)\n",
      " |-- LSTBLDS3: double (nullable = true)\n",
      " |-- HADSIGM3: double (nullable = true)\n",
      " |-- HADSGCO1: double (nullable = true)\n",
      " |-- LASTSIG3: double (nullable = true)\n",
      " |-- CNCRDIFF: double (nullable = true)\n",
      " |-- CNCRAGE: double (nullable = true)\n",
      " |-- CNCRTYP1: double (nullable = true)\n",
      " |-- CSRVTRT3: double (nullable = true)\n",
      " |-- CSRVDOC1: double (nullable = true)\n",
      " |-- CSRVSUM: double (nullable = true)\n",
      " |-- CSRVRTRN: double (nullable = true)\n",
      " |-- CSRVINST: double (nullable = true)\n",
      " |-- CSRVINSR: double (nullable = true)\n",
      " |-- CSRVDEIN: double (nullable = true)\n",
      " |-- CSRVCLIN: double (nullable = true)\n",
      " |-- CSRVPAIN: double (nullable = true)\n",
      " |-- CSRVCTL2: double (nullable = true)\n",
      " |-- HLTHCVR1: double (nullable = true)\n",
      " |-- ASPIRIN: double (nullable = true)\n",
      " |-- HOMBPCHK: double (nullable = true)\n",
      " |-- HOMRGCHK: double (nullable = true)\n",
      " |-- WHEREBP: double (nullable = true)\n",
      " |-- SHAREBP: double (nullable = true)\n",
      " |-- WTCHSALT: double (nullable = true)\n",
      " |-- DRADVISE: double (nullable = true)\n",
      " |-- INDORTAN: double (nullable = true)\n",
      " |-- NUMBURN3: double (nullable = true)\n",
      " |-- SUNPRTCT: double (nullable = true)\n",
      " |-- WKDAYOUT: double (nullable = true)\n",
      " |-- WKENDOUT: double (nullable = true)\n",
      " |-- CIMEMLOS: double (nullable = true)\n",
      " |-- CDHOUSE: double (nullable = true)\n",
      " |-- CDASSIST: double (nullable = true)\n",
      " |-- CDHELP: double (nullable = true)\n",
      " |-- CDSOCIAL: double (nullable = true)\n",
      " |-- CDDISCUS: double (nullable = true)\n",
      " |-- CAREGIV1: double (nullable = true)\n",
      " |-- CRGVREL3: double (nullable = true)\n",
      " |-- CRGVLNG1: double (nullable = true)\n",
      " |-- CRGVHRS1: double (nullable = true)\n",
      " |-- CRGVPRB3: double (nullable = true)\n",
      " |-- CRGVALZD: double (nullable = true)\n",
      " |-- CRGVPER1: double (nullable = true)\n",
      " |-- CRGVHOU1: double (nullable = true)\n",
      " |-- CRGVEXPT: double (nullable = true)\n",
      " |-- ACEDEPRS: double (nullable = true)\n",
      " |-- ACEDRINK: double (nullable = true)\n",
      " |-- ACEDRUGS: double (nullable = true)\n",
      " |-- ACEPRISN: double (nullable = true)\n",
      " |-- ACEDIVRC: double (nullable = true)\n",
      " |-- ACEPUNCH: double (nullable = true)\n",
      " |-- ACEHURT1: double (nullable = true)\n",
      " |-- ACESWEAR: double (nullable = true)\n",
      " |-- ACETOUCH: double (nullable = true)\n",
      " |-- ACETTHEM: double (nullable = true)\n",
      " |-- ACEHVSEX: double (nullable = true)\n",
      " |-- PFPPRVN3: double (nullable = true)\n",
      " |-- TYPCNTR8: double (nullable = true)\n",
      " |-- NOBCUSE7: double (nullable = true)\n",
      " |-- ASBIALCH: double (nullable = true)\n",
      " |-- ASBIDRNK: double (nullable = true)\n",
      " |-- ASBIBING: double (nullable = true)\n",
      " |-- ASBIADVC: double (nullable = true)\n",
      " |-- ASBIRDUC: double (nullable = true)\n",
      " |-- MARIJAN1: double (nullable = true)\n",
      " |-- USEMRJN2: double (nullable = true)\n",
      " |-- RSNMRJN1: double (nullable = true)\n",
      " |-- FOODSTMP: double (nullable = true)\n",
      " |-- BIRTHSEX: double (nullable = true)\n",
      " |-- SOMALE: double (nullable = true)\n",
      " |-- SOFEMALE: double (nullable = true)\n",
      " |-- TRNSGNDR: double (nullable = true)\n",
      " |-- RCSGENDR: double (nullable = true)\n",
      " |-- RCSRLTN2: double (nullable = true)\n",
      " |-- CASTHDX2: double (nullable = true)\n",
      " |-- CASTHNO2: double (nullable = true)\n",
      " |-- QSTVER: double (nullable = true)\n",
      " |-- QSTLANG: double (nullable = true)\n",
      " |-- _METSTAT: double (nullable = true)\n",
      " |-- _URBSTAT: double (nullable = true)\n",
      " |-- MSCODE: double (nullable = true)\n",
      " |-- _STSTR: double (nullable = true)\n",
      " |-- _STRWT: double (nullable = true)\n",
      " |-- _RAWRAKE: double (nullable = true)\n",
      " |-- _WT2RAKE: double (nullable = true)\n",
      " |-- _IMPRACE: double (nullable = true)\n",
      " |-- _CHISPNC: double (nullable = true)\n",
      " |-- _CRACE1: double (nullable = true)\n",
      " |-- _CPRACE: double (nullable = true)\n",
      " |-- _CLLCPWT: double (nullable = true)\n",
      " |-- _DUALUSE: double (nullable = true)\n",
      " |-- _DUALCOR: double (nullable = true)\n",
      " |-- _LLCPWT2: double (nullable = true)\n",
      " |-- _LLCPWT: double (nullable = true)\n",
      " |-- _RFHLTH: double (nullable = true)\n",
      " |-- _PHYS14D: double (nullable = true)\n",
      " |-- _MENT14D: double (nullable = true)\n",
      " |-- _HCVU651: double (nullable = true)\n",
      " |-- _RFHYPE5: double (nullable = true)\n",
      " |-- _CHOLCH2: double (nullable = true)\n",
      " |-- _RFCHOL2: double (nullable = true)\n",
      " |-- _MICHD: double (nullable = true)\n",
      " |-- _LTASTH1: double (nullable = true)\n",
      " |-- _CASTHM1: double (nullable = true)\n",
      " |-- _ASTHMS1: double (nullable = true)\n",
      " |-- _DRDXAR2: double (nullable = true)\n",
      " |-- _LMTACT2: double (nullable = true)\n",
      " |-- _LMTWRK2: double (nullable = true)\n",
      " |-- _PRACE1: double (nullable = true)\n",
      " |-- _MRACE1: double (nullable = true)\n",
      " |-- _HISPANC: double (nullable = true)\n",
      " |-- _RACE: double (nullable = true)\n",
      " |-- _RACEG21: double (nullable = true)\n",
      " |-- _RACEGR3: double (nullable = true)\n",
      " |-- _RACE_G1: double (nullable = true)\n",
      " |-- _SEX: double (nullable = true)\n",
      " |-- _AGEG5YR: double (nullable = true)\n",
      " |-- _AGE65YR: double (nullable = true)\n",
      " |-- _AGE80: double (nullable = true)\n",
      " |-- _AGE_G: double (nullable = true)\n",
      " |-- HTIN4: double (nullable = true)\n",
      " |-- HTM4: double (nullable = true)\n",
      " |-- WTKG3: double (nullable = true)\n",
      " |-- _BMI5: double (nullable = true)\n",
      " |-- _BMI5CAT: double (nullable = true)\n",
      " |-- _RFBMI5: double (nullable = true)\n",
      " |-- _CHLDCNT: double (nullable = true)\n",
      " |-- _EDUCAG: double (nullable = true)\n",
      " |-- _INCOMG: double (nullable = true)\n",
      " |-- _SMOKER3: double (nullable = true)\n",
      " |-- _RFSMOK3: double (nullable = true)\n",
      " |-- DRNKANY5: double (nullable = true)\n",
      " |-- DROCDY3_: double (nullable = true)\n",
      " |-- _RFBING5: double (nullable = true)\n",
      " |-- _DRNKWK1: double (nullable = true)\n",
      " |-- _RFDRHV7: double (nullable = true)\n",
      " |-- _TOTINDA: double (nullable = true)\n",
      " |-- METVL11_: double (nullable = true)\n",
      " |-- METVL21_: double (nullable = true)\n",
      " |-- MAXVO21_: double (nullable = true)\n",
      " |-- FC601_: double (nullable = true)\n",
      " |-- ACTIN12_: double (nullable = true)\n",
      " |-- ACTIN22_: double (nullable = true)\n",
      " |-- PADUR1_: double (nullable = true)\n",
      " |-- PADUR2_: double (nullable = true)\n",
      " |-- PAFREQ1_: double (nullable = true)\n",
      " |-- PAFREQ2_: double (nullable = true)\n",
      " |-- _MINAC11: double (nullable = true)\n",
      " |-- _MINAC21: double (nullable = true)\n",
      " |-- STRFREQ_: double (nullable = true)\n",
      " |-- PAMISS2_: double (nullable = true)\n",
      " |-- PAMIN12_: double (nullable = true)\n",
      " |-- PAMIN22_: double (nullable = true)\n",
      " |-- PA2MIN_: double (nullable = true)\n",
      " |-- PAVIG12_: double (nullable = true)\n",
      " |-- PAVIG22_: double (nullable = true)\n",
      " |-- PA2VIGM_: double (nullable = true)\n",
      " |-- _PACAT2: double (nullable = true)\n",
      " |-- _PAINDX2: double (nullable = true)\n",
      " |-- _PA150R3: double (nullable = true)\n",
      " |-- _PA300R3: double (nullable = true)\n",
      " |-- _PA30022: double (nullable = true)\n",
      " |-- _PASTRNG: double (nullable = true)\n",
      " |-- _PAREC2: double (nullable = true)\n",
      " |-- _PASTAE2: double (nullable = true)\n",
      " |-- FTJUDA2_: double (nullable = true)\n",
      " |-- FRUTDA2_: double (nullable = true)\n",
      " |-- GRENDA1_: double (nullable = true)\n",
      " |-- FRNCHDA_: double (nullable = true)\n",
      " |-- POTADA1_: double (nullable = true)\n",
      " |-- VEGEDA2_: double (nullable = true)\n",
      " |-- _MISFRT1: double (nullable = true)\n",
      " |-- _MISVEG1: double (nullable = true)\n",
      " |-- _FRTRES1: double (nullable = true)\n",
      " |-- _VEGRES1: double (nullable = true)\n",
      " |-- _FRUTSU1: double (nullable = true)\n",
      " |-- _VEGESU1: double (nullable = true)\n",
      " |-- _FRTLT1A: double (nullable = true)\n",
      " |-- _VEGLT1A: double (nullable = true)\n",
      " |-- _FRT16A: double (nullable = true)\n",
      " |-- _VEG23A: double (nullable = true)\n",
      " |-- _FRUITE1: double (nullable = true)\n",
      " |-- _VEGETE1: double (nullable = true)\n",
      " |-- _FLSHOT7: double (nullable = true)\n",
      " |-- _PNEUMO3: double (nullable = true)\n",
      " |-- _AIDTST4: double (nullable = true)\n",
      "\n"
     ]
    }
   ],
   "source": [
    "df2019.printSchema()"
   ]
  },
  {
   "cell_type": "code",
   "execution_count": 7,
   "id": "f6f1c3e1",
   "metadata": {},
   "outputs": [
    {
     "name": "stdout",
     "output_type": "stream",
     "text": [
      "+------+--------+\n",
      "|_STATE|_VEGLT1A|\n",
      "+------+--------+\n",
      "|   1.0|     1.0|\n",
      "|   1.0|     1.0|\n",
      "|   1.0|     2.0|\n",
      "|   1.0|     9.0|\n",
      "|   1.0|     2.0|\n",
      "+------+--------+\n",
      "only showing top 5 rows\n",
      "\n"
     ]
    }
   ],
   "source": [
    "df2017.select(['_STATE','_VEGLT1A']).show(5)"
   ]
  },
  {
   "cell_type": "code",
   "execution_count": 8,
   "id": "b777355b",
   "metadata": {},
   "outputs": [
    {
     "name": "stdout",
     "output_type": "stream",
     "text": [
      "Dimensions of the Data Frame:\n",
      "(450016, 358)\n"
     ]
    }
   ],
   "source": [
    "print(\"Dimensions of the Data Frame:\")\n",
    "print((df2017.count(), len(df2017.columns)))"
   ]
  },
  {
   "cell_type": "markdown",
   "id": "d24097a1",
   "metadata": {},
   "source": [
    "Note: We can see that the complete brfss dataset has about 0.4 million records and 358 columns in 2017 survey. The 2019 survey is similar in dimension\n",
    "\n",
    "We are only interested in the columns related to the prediction of heart attacks and heart disease in individuals. The current column names are based on a code book that the CDC maintains. We will selected relavent columns using the code book to map key indicators.\n",
    "\n",
    "- Link to code book: https://www.cdc.gov/brfss/annual_data/annual_2019.html\n",
    "- Link to code book: https://www.cdc.gov/brfss/annual_data/annual_2017.html"
   ]
  },
  {
   "cell_type": "markdown",
   "id": "af4ff5d0",
   "metadata": {},
   "source": [
    "## 2. SELECTING THE COLUMNS OF INTEREST"
   ]
  },
  {
   "cell_type": "code",
   "execution_count": 9,
   "id": "51c35e5a",
   "metadata": {},
   "outputs": [],
   "source": [
    "# Selecting coloumns containing indicators for Heart Disease"
   ]
  },
  {
   "cell_type": "code",
   "execution_count": 10,
   "id": "7753fb33",
   "metadata": {},
   "outputs": [],
   "source": [
    "cols_to_select2017 = [\"_MICHD\", # target variable if person has had Heart Attack aka Myocardial Infraction\n",
    "                  \"_STATE\",\"_BMI5\", # State person belongs to, Body Mass Index \n",
    "                 \"_RFHYPE5\",\"TOLDHI2\",\"_CHOLCH1\", # BP and cholestrol\n",
    "                 \"_FRTLT1A\",\"_VEGLT1A\", \"SMOKE100\",\"_RFDRHV5\", # Food (Fruit and vegetable consumption), alcohol and smoking\n",
    "                 \"DIABETE3\",\"CVDSTRK3\", # chronic diseases = Diabetes, Stroke\n",
    "                 \"HLTHPLN1\",\"MEDCOST\", # Insurance and medical access\n",
    "                 \"_TOTINDA\",\"GENHLTH\",\"PHYSHLTH\",\"MENTHLTH\",\"DIFFWALK\", #Fitness and activity \n",
    "                 \"SEX\",\"_AGEG5YR\",\"EDUCA\",\"INCOME2\"] # demographic Data = Gender, Age bracket, Education level, Income bracket"
   ]
  },
  {
   "cell_type": "code",
   "execution_count": 11,
   "id": "153fd3f6",
   "metadata": {},
   "outputs": [],
   "source": [
    "cols_to_select2019 = [\"_MICHD\", # target variable if person has had Heart Attack aka Myocardial Infraction\n",
    "                  \"_STATE\",\"_BMI5\", # State person belongs to, Body Mass Index \n",
    "                 \"_RFHYPE5\",\"TOLDHI2\",\"_CHOLCH2\", # BP and cholestrol\n",
    "                 \"_FRTLT1A\",\"_VEGLT1A\", \"SMOKE100\",\"_RFDRHV7\", # Food (Fruit and vegetable consumption), alcohol and smoking\n",
    "                 \"DIABETE4\",\"CVDSTRK3\", # chronic diseases = Diabetes, Stroke\n",
    "                 \"HLTHPLN1\",\"MEDCOST\", # Insurance and medical access\n",
    "                 \"_TOTINDA\",\"GENHLTH\",\"PHYSHLTH\",\"MENTHLTH\",\"DIFFWALK\", #Fitness and activity \n",
    "                 \"SEXVAR\",\"_AGEG5YR\",\"EDUCA\",\"INCOME2\"] # demographic Data = Gender, Age bracket, Education level, Income bracket"
   ]
  },
  {
   "cell_type": "code",
   "execution_count": 12,
   "id": "e0dc6ab5",
   "metadata": {
    "scrolled": true
   },
   "outputs": [
    {
     "name": "stdout",
     "output_type": "stream",
     "text": [
      "+------+------+------+--------+-------+--------+--------+--------+--------+--------+--------+--------+--------+-------+--------+-------+--------+--------+--------+------+--------+-----+-------+\n",
      "|_MICHD|_STATE| _BMI5|_RFHYPE5|TOLDHI2|_CHOLCH2|_FRTLT1A|_VEGLT1A|SMOKE100|_RFDRHV7|DIABETE4|CVDSTRK3|HLTHPLN1|MEDCOST|_TOTINDA|GENHLTH|PHYSHLTH|MENTHLTH|DIFFWALK|SEXVAR|_AGEG5YR|EDUCA|INCOME2|\n",
      "+------+------+------+--------+-------+--------+--------+--------+--------+--------+--------+--------+--------+-------+--------+-------+--------+--------+--------+------+--------+-----+-------+\n",
      "|   2.0|   1.0|2817.0|     2.0|    1.0|     1.0|     1.0|     1.0|     1.0|     1.0|     3.0|     2.0|     1.0|    2.0|     2.0|    3.0|    15.0|    88.0|     1.0|   2.0|    13.0|  3.0|    3.0|\n",
      "|   2.0|   1.0|1854.0|     1.0|    2.0|     1.0|     1.0|     1.0|     2.0|     1.0|     3.0|     2.0|     1.0|    2.0|     1.0|    4.0|    10.0|    88.0|     2.0|   2.0|    11.0|  5.0|    5.0|\n",
      "|   2.0|   1.0|3162.0|     2.0|    2.0|     1.0|     1.0|     1.0|     2.0|     1.0|     1.0|     2.0|     1.0|    2.0|     1.0|    3.0|    88.0|    30.0|     1.0|   2.0|    10.0|  6.0|    7.0|\n",
      "|   2.0|   1.0|2030.0|     2.0|    2.0|     1.0|     9.0|     9.0|    null|     9.0|     3.0|     2.0|     1.0|    2.0|     9.0|    4.0|    30.0|    88.0|    null|   2.0|    13.0|  5.0|    6.0|\n",
      "|   2.0|   1.0|2148.0|     1.0|    1.0|     1.0|     1.0|     1.0|     1.0|     1.0|     3.0|     2.0|     1.0|    2.0|     2.0|    2.0|    88.0|    88.0|     2.0|   2.0|    13.0|  5.0|   99.0|\n",
      "+------+------+------+--------+-------+--------+--------+--------+--------+--------+--------+--------+--------+-------+--------+-------+--------+--------+--------+------+--------+-----+-------+\n",
      "only showing top 5 rows\n",
      "\n"
     ]
    }
   ],
   "source": [
    "heartDisease2019 = df2019.select(cols_to_select2019)\n",
    "heartDisease2019.show(5)"
   ]
  },
  {
   "cell_type": "code",
   "execution_count": 13,
   "id": "99c6a400",
   "metadata": {},
   "outputs": [
    {
     "name": "stdout",
     "output_type": "stream",
     "text": [
      "+------+------+------+--------+-------+--------+--------+--------+--------+--------+--------+--------+--------+-------+--------+-------+--------+--------+--------+---+--------+-----+-------+\n",
      "|_MICHD|_STATE| _BMI5|_RFHYPE5|TOLDHI2|_CHOLCH1|_FRTLT1A|_VEGLT1A|SMOKE100|_RFDRHV5|DIABETE3|CVDSTRK3|HLTHPLN1|MEDCOST|_TOTINDA|GENHLTH|PHYSHLTH|MENTHLTH|DIFFWALK|SEX|_AGEG5YR|EDUCA|INCOME2|\n",
      "+------+------+------+--------+-------+--------+--------+--------+--------+--------+--------+--------+--------+-------+--------+-------+--------+--------+--------+---+--------+-----+-------+\n",
      "|   2.0|   1.0|2696.0|     2.0|    1.0|     1.0|     1.0|     1.0|     2.0|     1.0|     1.0|     2.0|     1.0|    2.0|     1.0|    2.0|    88.0|    88.0|     1.0|2.0|    11.0|  6.0|    6.0|\n",
      "|   2.0|   1.0|2943.0|     2.0|    2.0|     1.0|     1.0|     1.0|     2.0|     1.0|     3.0|     2.0|     1.0|    2.0|     1.0|    2.0|    88.0|    88.0|     2.0|1.0|    10.0|  6.0|    8.0|\n",
      "|   2.0|   1.0|2504.0|     1.0|    1.0|     1.0|     2.0|     2.0|     2.0|     1.0|     3.0|     2.0|     1.0|    2.0|     2.0|    3.0|    88.0|    88.0|     2.0|1.0|    11.0|  2.0|   99.0|\n",
      "|   2.0|   1.0|2663.0|     2.0|    1.0|     1.0|     2.0|     9.0|     2.0|     1.0|     1.0|     2.0|     1.0|    2.0|     9.0|    4.0|    88.0|    88.0|     2.0|2.0|    11.0|  3.0|    1.0|\n",
      "|   2.0|   1.0|2330.0|     1.0|    2.0|     1.0|     1.0|     2.0|     1.0|     1.0|     3.0|     2.0|     1.0|    2.0|     2.0|    4.0|    14.0|    88.0|     2.0|2.0|    10.0|  2.0|    2.0|\n",
      "+------+------+------+--------+-------+--------+--------+--------+--------+--------+--------+--------+--------+-------+--------+-------+--------+--------+--------+---+--------+-----+-------+\n",
      "only showing top 5 rows\n",
      "\n"
     ]
    }
   ],
   "source": [
    "heartDisease2017 = df2017.select(cols_to_select2017)\n",
    "heartDisease2017.show(5)"
   ]
  },
  {
   "cell_type": "markdown",
   "id": "f0be5a96",
   "metadata": {},
   "source": [
    "## 3. REMOVE ROWS THAT HAVE NULL VALUES"
   ]
  },
  {
   "cell_type": "code",
   "execution_count": 14,
   "id": "599fe8a4",
   "metadata": {},
   "outputs": [
    {
     "name": "stdout",
     "output_type": "stream",
     "text": [
      "Dimensions of the Data Frame:\n",
      "(418268, 23)\n"
     ]
    }
   ],
   "source": [
    "print(\"Dimensions of the Data Frame:\")\n",
    "print((heartDisease2019.count(), len(heartDisease2019.columns)))"
   ]
  },
  {
   "cell_type": "code",
   "execution_count": 15,
   "id": "36ac5a1c",
   "metadata": {},
   "outputs": [],
   "source": [
    "data2017=heartDisease2017.na.drop()\n",
    "data2019=heartDisease2019.na.drop()"
   ]
  },
  {
   "cell_type": "code",
   "execution_count": 16,
   "id": "e75e1748",
   "metadata": {},
   "outputs": [
    {
     "name": "stdout",
     "output_type": "stream",
     "text": [
      "Dimensions of the Data Frame:\n"
     ]
    },
    {
     "name": "stderr",
     "output_type": "stream",
     "text": [
      "\r",
      "[Stage 13:>                                                         (0 + 8) / 8]\r"
     ]
    },
    {
     "name": "stdout",
     "output_type": "stream",
     "text": [
      "(351875, 23)\n"
     ]
    },
    {
     "name": "stderr",
     "output_type": "stream",
     "text": [
      "\r",
      "                                                                                \r"
     ]
    }
   ],
   "source": [
    "print(\"Dimensions of the Data Frame:\")\n",
    "print((data2019.count(), len(data2019.columns)))"
   ]
  },
  {
   "cell_type": "markdown",
   "id": "33f8c28c",
   "metadata": {},
   "source": [
    "## 4. MAPPING THE FEATURES APPROPRIATELY\n",
    "- We will use our understanding of the code book to correctly map values \n",
    "- Survey of writes 7 or 9 to indicate the person did not know or refused to answer.\n",
    "- We need to clean this values and map them so that the values are meaningful"
   ]
  },
  {
   "cell_type": "code",
   "execution_count": 17,
   "id": "fc8e01ae",
   "metadata": {},
   "outputs": [
    {
     "name": "stdout",
     "output_type": "stream",
     "text": [
      "root\n",
      " |-- _MICHD: double (nullable = true)\n",
      " |-- _STATE: double (nullable = true)\n",
      " |-- _BMI5: double (nullable = true)\n",
      " |-- _RFHYPE5: double (nullable = true)\n",
      " |-- TOLDHI2: double (nullable = true)\n",
      " |-- _CHOLCH2: double (nullable = true)\n",
      " |-- _FRTLT1A: double (nullable = true)\n",
      " |-- _VEGLT1A: double (nullable = true)\n",
      " |-- SMOKE100: double (nullable = true)\n",
      " |-- _RFDRHV7: double (nullable = true)\n",
      " |-- DIABETE4: double (nullable = true)\n",
      " |-- CVDSTRK3: double (nullable = true)\n",
      " |-- HLTHPLN1: double (nullable = true)\n",
      " |-- MEDCOST: double (nullable = true)\n",
      " |-- _TOTINDA: double (nullable = true)\n",
      " |-- GENHLTH: double (nullable = true)\n",
      " |-- PHYSHLTH: double (nullable = true)\n",
      " |-- MENTHLTH: double (nullable = true)\n",
      " |-- DIFFWALK: double (nullable = true)\n",
      " |-- SEXVAR: double (nullable = true)\n",
      " |-- _AGEG5YR: double (nullable = true)\n",
      " |-- EDUCA: double (nullable = true)\n",
      " |-- INCOME2: double (nullable = true)\n",
      "\n"
     ]
    }
   ],
   "source": [
    "data2019.printSchema()"
   ]
  },
  {
   "cell_type": "code",
   "execution_count": 18,
   "id": "712fd116",
   "metadata": {},
   "outputs": [
    {
     "name": "stdout",
     "output_type": "stream",
     "text": [
      "<class 'pyspark.sql.dataframe.DataFrame'>\n"
     ]
    }
   ],
   "source": [
    "print(type(data2019))"
   ]
  },
  {
   "cell_type": "code",
   "execution_count": 19,
   "id": "b9419654",
   "metadata": {},
   "outputs": [],
   "source": [
    "# imports for pyspark SQL\n",
    "from pyspark.sql.functions import when"
   ]
  },
  {
   "cell_type": "markdown",
   "id": "db4a9161",
   "metadata": {},
   "source": [
    "#### 4.1 _MICHD\n",
    "- 1: Yes has Heart Issues -->  1 \n",
    "- 2: No has no heart issues --> 0\n",
    "- Remove all 7 (dont knows)\n",
    "- Remove all 9 (refused)"
   ]
  },
  {
   "cell_type": "code",
   "execution_count": 20,
   "id": "8b02b16a",
   "metadata": {},
   "outputs": [],
   "source": [
    "data2019 = data2019.filter((data2019[\"_MICHD\"] == 2)| (data2019[\"_MICHD\"] == 1))\n",
    "data2019 = data2019.withColumn(\"_MICHD\", when(data2019._MICHD == 2,0).otherwise(data2019._MICHD))\n",
    "\n",
    "data2017 = data2017.filter((data2017[\"_MICHD\"] == 2)| (data2017[\"_MICHD\"] == 1))\n",
    "data2017 = data2017.withColumn(\"_MICHD\", when(data2017._MICHD == 2,0).otherwise(data2017._MICHD))"
   ]
  },
  {
   "cell_type": "markdown",
   "id": "8af34062",
   "metadata": {},
   "source": [
    "#### 4.2 MAPPING THE STATES .... Will do later"
   ]
  },
  {
   "cell_type": "markdown",
   "id": "e043763b",
   "metadata": {},
   "source": [
    "#### 4.3 _BMI5\n",
    "- these are BMI * 100. So for example a BMI of 4018 is really 40.18\n",
    "- 777 and 999 indicate did not answer or refused (filter these out)"
   ]
  },
  {
   "cell_type": "code",
   "execution_count": 21,
   "id": "48d588cf",
   "metadata": {},
   "outputs": [],
   "source": [
    "data2019 = data2019.filter(data2019[\"_BMI5\"] != 777)\n",
    "data2019 = data2019.filter(data2019[\"_BMI5\"] != 999)\n",
    "data2019 = data2019.withColumn('_BMI5', data2019[\"_BMI5\"]/100)\n",
    "\n",
    "data2017 = data2017.filter(data2017[\"_BMI5\"] != 777)\n",
    "data2017 = data2017.filter(data2017[\"_BMI5\"] != 999)\n",
    "data2017 = data2017.withColumn('_BMI5', data2017[\"_BMI5\"]/100)"
   ]
  },
  {
   "cell_type": "markdown",
   "id": "16f87598",
   "metadata": {},
   "source": [
    "#### 4.4 _RFHYPE5\n",
    "- Change 1 to 0 so it represents No high blood pressure and 2 to 1 so it represents high blood pressure"
   ]
  },
  {
   "cell_type": "code",
   "execution_count": 22,
   "id": "2d565d7f",
   "metadata": {},
   "outputs": [],
   "source": [
    "data2019 = data2019.filter((data2019[\"_RFHYPE5\"] == 2)| (data2019[\"_RFHYPE5\"] == 1))\n",
    "data2019 = data2019.withColumn(\"_RFHYPE5\", when(data2019._RFHYPE5 == 1,0).when(data2019._RFHYPE5 == 2,1).otherwise(data2019._RFHYPE5))\n",
    "\n",
    "data2017 = data2017.filter((data2017[\"_RFHYPE5\"] == 2)| (data2017[\"_RFHYPE5\"] == 1))\n",
    "data2017 = data2017.withColumn(\"_RFHYPE5\", when(data2017._RFHYPE5 == 1,0).when(data2017._RFHYPE5 == 2,1).otherwise(data2017._RFHYPE5))"
   ]
  },
  {
   "cell_type": "markdown",
   "id": "036c33be",
   "metadata": {},
   "source": [
    "#### 4.5 TOLDHI2\n",
    "- Change 2 to 0 so it represents no high cholesterol diagnosis and 1 stays as a high cholesterol diagnosis\n",
    "- Filter out values of 7 (don't know) and 9 (refused)"
   ]
  },
  {
   "cell_type": "code",
   "execution_count": 23,
   "id": "c31d9ce2",
   "metadata": {},
   "outputs": [],
   "source": [
    "data2019 = data2019.filter((data2019[\"TOLDHI2\"] == 2)| (data2019[\"TOLDHI2\"] == 1))\n",
    "data2019 = data2019.withColumn(\"TOLDHI2\", when(data2019.TOLDHI2 == 2,0).otherwise(data2019.TOLDHI2))\n",
    "\n",
    "data2017 = data2017.filter((data2017[\"TOLDHI2\"] == 2)| (data2017[\"TOLDHI2\"] == 1))\n",
    "data2017 = data2017.withColumn(\"TOLDHI2\", when(data2017.TOLDHI2 == 2,0).otherwise(data2017.TOLDHI2))"
   ]
  },
  {
   "cell_type": "markdown",
   "id": "bc8dd412",
   "metadata": {},
   "source": [
    "#### 4.6  _CHOLCH2  or _CHOLCH1\n",
    "- Keep  1 as 1 has checked cholestrol in past 5 years. \n",
    "- 2 to 0 for Not checked cholesterol in past 5 years\n",
    "- 3 to 0 never had cholestrol checked\n",
    "- Remove 9 (Not sure, refused)"
   ]
  },
  {
   "cell_type": "code",
   "execution_count": 24,
   "id": "a136693c",
   "metadata": {},
   "outputs": [],
   "source": [
    "data2019 = data2019.filter((data2019[\"_CHOLCH2\"] != 9))\n",
    "data2019 = data2019.withColumn(\"_CHOLCH2\", when(data2019._CHOLCH2 == 2,0).when(data2019._CHOLCH2 == 3,0).otherwise(data2019._CHOLCH2))\n",
    "\n",
    "data2017 = data2017.filter((data2017[\"_CHOLCH1\"] != 9))\n",
    "data2017 = data2017.withColumn(\"_CHOLCH1\", when(data2017._CHOLCH1 == 2,0).when(data2017._CHOLCH1 == 3,0).otherwise(data2017._CHOLCH1))"
   ]
  },
  {
   "cell_type": "markdown",
   "id": "b67b692c",
   "metadata": {},
   "source": [
    "#### 4.7 _FRTLT1A\n",
    "- Filter out value of 9 (don't know, missing, or refused)\n",
    "- Recode 2 to 0 indicating not consuming fruit 1 or more times per day"
   ]
  },
  {
   "cell_type": "code",
   "execution_count": 25,
   "id": "64671a49",
   "metadata": {},
   "outputs": [],
   "source": [
    "data2019 = data2019.filter((data2019[\"_FRTLT1A\"] != 9))\n",
    "data2019 = data2019.withColumn(\"_FRTLT1A\", when(data2019._FRTLT1A == 2,0).otherwise(data2019._FRTLT1A))\n",
    "\n",
    "data2017 = data2017.filter((data2017[\"_FRTLT1A\"] != 9))\n",
    "data2017 = data2017.withColumn(\"_FRTLT1A\", when(data2017._FRTLT1A == 2,0).otherwise(data2017._FRTLT1A))"
   ]
  },
  {
   "cell_type": "markdown",
   "id": "10fb357e",
   "metadata": {},
   "source": [
    "#### 4.8 _VEGLT1A\n",
    "- Filter out value of 9 (don't know, missing, or refused)\n",
    "- Recode 2 to 0 indicating not consuming vegetables 1 or more times per day"
   ]
  },
  {
   "cell_type": "code",
   "execution_count": 26,
   "id": "0699491f",
   "metadata": {},
   "outputs": [],
   "source": [
    "data2019 = data2019.filter((data2019[\"_VEGLT1A\"] != 9))\n",
    "data2019 = data2019.withColumn(\"_VEGLT1A\", when(data2019._VEGLT1A == 2,0).otherwise(data2019._VEGLT1A))\n",
    "\n",
    "data2017 = data2017.filter((data2017[\"_VEGLT1A\"] != 9))\n",
    "data2017 = data2017.withColumn(\"_VEGLT1A\", when(data2017._VEGLT1A == 2,0).otherwise(data2017._VEGLT1A))"
   ]
  },
  {
   "cell_type": "markdown",
   "id": "ebec0934",
   "metadata": {},
   "source": [
    "#### 4.9 SMOKE100\n",
    "- Filter out values of 7 or 9\n",
    "- Recode 2 to 0 indicating not having smoked at least 100 cigarettes in lifetime"
   ]
  },
  {
   "cell_type": "code",
   "execution_count": 27,
   "id": "fc21c9fc",
   "metadata": {},
   "outputs": [],
   "source": [
    "data2019 = data2019.filter((data2019[\"SMOKE100\"] == 2)| (data2019[\"SMOKE100\"] == 1))\n",
    "data2019 = data2019.withColumn(\"SMOKE100\", when(data2019.SMOKE100 == 2,0).otherwise(data2019.SMOKE100))\n",
    "\n",
    "data2017 = data2017.filter((data2017[\"SMOKE100\"] == 2)| (data2017[\"SMOKE100\"] == 1))\n",
    "data2017 = data2017.withColumn(\"SMOKE100\", when(data2017.SMOKE100 == 2,0).otherwise(data2017.SMOKE100))"
   ]
  },
  {
   "cell_type": "markdown",
   "id": "4712f1f9",
   "metadata": {},
   "source": [
    "#### 4.10 _RFDRHV7 or _RFDRHV5\n",
    "- Different names in 2017 and 2019 but same labels\n",
    "- Filter out value of 9\n",
    "- Recode 1 to 0 (no heavy drinking) and 2 to 1 (heavy drinking)"
   ]
  },
  {
   "cell_type": "code",
   "execution_count": 28,
   "id": "85b49691",
   "metadata": {},
   "outputs": [],
   "source": [
    "data2019 = data2019.filter((data2019[\"_RFDRHV7\"] == 2)| (data2019[\"_RFDRHV7\"] == 1))\n",
    "data2019 = data2019.withColumn(\"_RFDRHV7\", when(data2019._RFDRHV7 == 1,0).when(data2019._RFDRHV7 == 2,1).otherwise(data2019._RFDRHV7))\n",
    "\n",
    "data2017 = data2017.filter((data2017[\"_RFDRHV5\"] == 2)| (data2017[\"_RFDRHV5\"] == 1))\n",
    "data2017 = data2017.withColumn(\"_RFDRHV5\", when(data2017._RFDRHV5 == 1,0).when(data2017._RFDRHV5 == 2,1).otherwise(data2017._RFDRHV5))"
   ]
  },
  {
   "cell_type": "markdown",
   "id": "258d3bff",
   "metadata": {},
   "source": [
    "#### 4.11 DIABETE4 or DIABETE3\n",
    "- Different names in 2017 and 2019\n",
    "- Making this a Boolean Binary.\n",
    "- 1 = Yes has diabetes --> 1\n",
    "- 2 = Yes only during Pregnancy --> 1\n",
    "- 3 =  No -->0\n",
    "- 4 = No but has prediabetes --> 1\n",
    "- Remove all 7 (dont knows)\n",
    "- Remove all 9 (refused)"
   ]
  },
  {
   "cell_type": "code",
   "execution_count": 29,
   "id": "d60c84c1",
   "metadata": {},
   "outputs": [],
   "source": [
    "data2019 = data2019.filter((data2019[\"DIABETE4\"] != 7))\n",
    "data2019 = data2019.filter((data2019[\"DIABETE4\"] != 9))\n",
    "data2019 = data2019.withColumn(\"DIABETE4\", when(data2019.DIABETE4 == 2,1).when(data2019.DIABETE4 == 3,0).when(data2019.DIABETE4 == 4,1).otherwise(data2019.DIABETE4))\n",
    "\n",
    "data2017 = data2017.filter((data2017[\"DIABETE3\"] != 7))\n",
    "data2017 = data2017.filter((data2017[\"DIABETE3\"] != 9))\n",
    "data2017 = data2017.withColumn(\"DIABETE3\", when(data2017.DIABETE3 == 2,1).when(data2017.DIABETE3 == 3,0).when(data2017.DIABETE3 == 4,1).otherwise(data2017.DIABETE3))"
   ]
  },
  {
   "cell_type": "markdown",
   "id": "23ce4907",
   "metadata": {},
   "source": [
    "#### 4.12 CVDSTRK3\n",
    "- 1 is had a stroke --> 1 \n",
    "- Change 2 to 0 because it is No\n",
    "- Remove all 7 (dont knows)\n",
    "- Remove all 9 (refused)"
   ]
  },
  {
   "cell_type": "code",
   "execution_count": 30,
   "id": "a13ca2a3",
   "metadata": {},
   "outputs": [],
   "source": [
    "data2019 = data2019.filter((data2019[\"CVDSTRK3\"] == 2)| (data2019[\"CVDSTRK3\"] == 1))\n",
    "data2019 = data2019.withColumn(\"CVDSTRK3\", when(data2019.CVDSTRK3 == 2,0).otherwise(data2019.CVDSTRK3))\n",
    "\n",
    "data2017 = data2017.filter((data2017[\"CVDSTRK3\"] == 2)| (data2017[\"CVDSTRK3\"] == 1))\n",
    "data2017 = data2017.withColumn(\"CVDSTRK3\", when(data2017.CVDSTRK3 == 2,0).otherwise(data2017.CVDSTRK3))"
   ]
  },
  {
   "cell_type": "markdown",
   "id": "344dafaf",
   "metadata": {},
   "source": [
    "#### 4.13 HLTHPLN1\n",
    "- 1 is yes, Person has health coverage \n",
    "- change 2 to 0 because it is No health care access\n",
    "- remove 7 and 9 for don't know or refused "
   ]
  },
  {
   "cell_type": "code",
   "execution_count": 31,
   "id": "8be72cf0",
   "metadata": {},
   "outputs": [],
   "source": [
    "data2019 = data2019.filter((data2019[\"HLTHPLN1\"] == 2)| (data2019[\"HLTHPLN1\"] == 1))\n",
    "data2019 = data2019.withColumn(\"HLTHPLN1\", when(data2019.HLTHPLN1 == 2,0).otherwise(data2019.HLTHPLN1))\n",
    "\n",
    "data2017 = data2017.filter((data2017[\"HLTHPLN1\"] == 2)| (data2017[\"HLTHPLN1\"] == 1))\n",
    "data2017 = data2017.withColumn(\"HLTHPLN1\", when(data2017.HLTHPLN1 == 2,0).otherwise(data2017.HLTHPLN1))"
   ]
  },
  {
   "cell_type": "markdown",
   "id": "e7b1183e",
   "metadata": {},
   "source": [
    "#### 4.14 MEDCOST\n",
    "- Did not go see doctor in last 12 months due to cost ? Yes = 1\n",
    "- Change 2 to 0 for no, 1 is already yes\n",
    "- Remove 7 for don/t know and 9 for refused"
   ]
  },
  {
   "cell_type": "code",
   "execution_count": 32,
   "id": "9547201a",
   "metadata": {},
   "outputs": [],
   "source": [
    "data2019 = data2019.filter((data2019[\"MEDCOST\"] == 2)| (data2019[\"MEDCOST\"] == 1))\n",
    "data2019 = data2019.withColumn(\"MEDCOST\", when(data2019.MEDCOST == 2,0).otherwise(data2019.MEDCOST))\n",
    "\n",
    "data2017 = data2017.filter((data2017[\"MEDCOST\"] == 2)| (data2017[\"MEDCOST\"] == 1))\n",
    "data2017 = data2017.withColumn(\"MEDCOST\", when(data2017.MEDCOST == 2,0).otherwise(data2017.MEDCOST))"
   ]
  },
  {
   "cell_type": "markdown",
   "id": "43aeb4ff",
   "metadata": {},
   "source": [
    "#### 4.15 _TOTINDA\n",
    "- Adults who reported doing physical activity or exercise during the past 30 days other than their regular job\n",
    "- 1 for physical activity\n",
    "- change 2 to 0 for no physical activity\n",
    "- Remove all 9 (don't know/refused)"
   ]
  },
  {
   "cell_type": "code",
   "execution_count": 33,
   "id": "0f9059b3",
   "metadata": {},
   "outputs": [],
   "source": [
    "data2019 = data2019.filter((data2019[\"_TOTINDA\"] == 2)| (data2019[\"_TOTINDA\"] == 1))\n",
    "data2019 = data2019.withColumn(\"_TOTINDA\", when(data2019._TOTINDA == 2,0).otherwise(data2019._TOTINDA))\n",
    "\n",
    "data2017 = data2017.filter((data2017[\"_TOTINDA\"] == 2)| (data2017[\"_TOTINDA\"] == 1))\n",
    "data2017 = data2017.withColumn(\"_TOTINDA\", when(data2017._TOTINDA == 2,0).otherwise(data2017._TOTINDA))"
   ]
  },
  {
   "cell_type": "markdown",
   "id": "abafe736",
   "metadata": {},
   "source": [
    "#### 4.16 GENHLTH\n",
    "- Would you say that in general your health is:\n",
    "- This is an ordinal variable  (1 is Excellent -> 5 is Poor) we will reverse it so that(1 is poor and 5 is excellent)\n",
    "- Remove 7 and 9 for don't know and refused"
   ]
  },
  {
   "cell_type": "code",
   "execution_count": 34,
   "id": "7e2271c4",
   "metadata": {},
   "outputs": [],
   "source": [
    "data2019 = data2019.filter((data2019[\"GENHLTH\"] != 7))\n",
    "data2019 = data2019.filter((data2019[\"GENHLTH\"] != 9))\n",
    "\n",
    "data2017 = data2017.filter((data2017[\"GENHLTH\"] != 7))\n",
    "data2017 = data2017.filter((data2017[\"GENHLTH\"] != 9))"
   ]
  },
  {
   "cell_type": "code",
   "execution_count": 35,
   "id": "eecdd409",
   "metadata": {},
   "outputs": [
    {
     "name": "stdout",
     "output_type": "stream",
     "text": [
      "+-------+\n",
      "|GENHLTH|\n",
      "+-------+\n",
      "|    3.0|\n",
      "|    4.0|\n",
      "|    3.0|\n",
      "|    2.0|\n",
      "|    2.0|\n",
      "|    1.0|\n",
      "|    5.0|\n",
      "|    2.0|\n",
      "|    5.0|\n",
      "|    1.0|\n",
      "+-------+\n",
      "only showing top 10 rows\n",
      "\n"
     ]
    }
   ],
   "source": [
    "data2019.select(\"GENHLTH\").show(10)"
   ]
  },
  {
   "cell_type": "code",
   "execution_count": 36,
   "id": "5a2a5bf0",
   "metadata": {},
   "outputs": [],
   "source": [
    "data2019 = data2019.withColumn(\"GENHLTH\", when(data2019.GENHLTH == 1,5) \\\n",
    "                               .when(data2019.GENHLTH == 5,1) \\\n",
    "                               .when(data2019.GENHLTH == 2,4) \\\n",
    "                               .when(data2019.GENHLTH == 4,2) \\\n",
    "                               .otherwise(data2019.GENHLTH))\n",
    "\n",
    "data2017 = data2017.withColumn(\"GENHLTH\", when(data2017.GENHLTH == 1,5) \\\n",
    "                               .when(data2017.GENHLTH == 5,1) \\\n",
    "                               .when(data2017.GENHLTH == 2,4) \\\n",
    "                               .when(data2017.GENHLTH == 4,2) \\\n",
    "                               .otherwise(data2017.GENHLTH))"
   ]
  },
  {
   "cell_type": "code",
   "execution_count": 37,
   "id": "778051de",
   "metadata": {},
   "outputs": [
    {
     "name": "stdout",
     "output_type": "stream",
     "text": [
      "+-------+\n",
      "|GENHLTH|\n",
      "+-------+\n",
      "|    3.0|\n",
      "|    2.0|\n",
      "|    3.0|\n",
      "|    4.0|\n",
      "|    4.0|\n",
      "|    5.0|\n",
      "|    1.0|\n",
      "|    4.0|\n",
      "|    1.0|\n",
      "|    5.0|\n",
      "+-------+\n",
      "only showing top 10 rows\n",
      "\n"
     ]
    }
   ],
   "source": [
    "data2019.select(\"GENHLTH\").show(10)"
   ]
  },
  {
   "cell_type": "markdown",
   "id": "64491d12",
   "metadata": {},
   "source": [
    "#### 4.17 PHYSHLTH\n",
    "- for how many days during the past 30 days was your physical health not good?\n",
    "- already in days so keep that, scale will be 0-30\n",
    "- change 88 to 0 because it means none (no bad physical health days)\n",
    "- remove 77 and 99 for don't know not sure and refused"
   ]
  },
  {
   "cell_type": "code",
   "execution_count": 38,
   "id": "fbda0885",
   "metadata": {},
   "outputs": [],
   "source": [
    "data2019 = data2019.filter((data2019[\"PHYSHLTH\"] != 77))\n",
    "data2019 = data2019.filter((data2019[\"PHYSHLTH\"] != 99))\n",
    "data2019 = data2019.withColumn(\"PHYSHLTH\", when(data2019.PHYSHLTH == 88,0).otherwise(data2019.PHYSHLTH))\n",
    "\n",
    "data2017 = data2017.filter((data2017[\"PHYSHLTH\"] != 77))\n",
    "data2017 = data2017.filter((data2017[\"PHYSHLTH\"] != 99))\n",
    "data2017 = data2017.withColumn(\"PHYSHLTH\", when(data2017.PHYSHLTH == 88,0).otherwise(data2017.PHYSHLTH))"
   ]
  },
  {
   "cell_type": "markdown",
   "id": "70731aeb",
   "metadata": {},
   "source": [
    "#### 4.18 MENTHLTH\n",
    "- for how many days during the past 30 days was your mental health not good?\n",
    "- already in days so keep that, scale will be 0-30\n",
    "- change 88 to 0 because it means none (no bad mental health days)\n",
    "- remove 77 and 99 for don't know not sure and refused"
   ]
  },
  {
   "cell_type": "code",
   "execution_count": 39,
   "id": "f7d597d6",
   "metadata": {},
   "outputs": [],
   "source": [
    "data2019 = data2019.filter((data2019[\"MENTHLTH\"] != 77))\n",
    "data2019 = data2019.filter((data2019[\"MENTHLTH\"] != 99))\n",
    "data2019 = data2019.withColumn(\"MENTHLTH\", when(data2019.MENTHLTH == 88,0).otherwise(data2019.MENTHLTH))\n",
    "\n",
    "data2017 = data2017.filter((data2017[\"MENTHLTH\"] != 77))\n",
    "data2017 = data2017.filter((data2017[\"MENTHLTH\"] != 99))\n",
    "data2017 = data2017.withColumn(\"MENTHLTH\", when(data2017.MENTHLTH == 88,0).otherwise(data2017.MENTHLTH))"
   ]
  },
  {
   "cell_type": "markdown",
   "id": "151c3994",
   "metadata": {},
   "source": [
    "#### 4.19 DIFFWALK\n",
    "- Do you have serious difficulty walking or climbing stairs? yes = 1\n",
    "- change 2 to 0 for no. 1 is already yes\n",
    "- remove 7 and 9 for don't know not sure and refused"
   ]
  },
  {
   "cell_type": "code",
   "execution_count": 40,
   "id": "b4e6e484",
   "metadata": {},
   "outputs": [],
   "source": [
    "data2019 = data2019.filter((data2019[\"DIFFWALK\"] == 2)| (data2019[\"DIFFWALK\"] == 1))\n",
    "data2019 = data2019.withColumn(\"DIFFWALK\", when(data2019.DIFFWALK == 2,0).otherwise(data2019.DIFFWALK))\n",
    "\n",
    "data2017 = data2017.filter((data2017[\"DIFFWALK\"] == 2)| (data2017[\"DIFFWALK\"] == 1))\n",
    "data2017 = data2017.withColumn(\"DIFFWALK\", when(data2017.DIFFWALK == 2,0).otherwise(data2017.DIFFWALK))"
   ]
  },
  {
   "cell_type": "markdown",
   "id": "16a21d97",
   "metadata": {},
   "source": [
    "#### 4.20 SEXVAR or SEX\n",
    "- Different names in 2017 and 2019 but same labels\n",
    "- is respondent male \n",
    "- men may be  at higher risk for heart disease\n",
    "- change 2 to 0 (female as 0). Male is 1\n",
    "- 9 means refused"
   ]
  },
  {
   "cell_type": "code",
   "execution_count": 41,
   "id": "70d73c62",
   "metadata": {},
   "outputs": [],
   "source": [
    "data2019 = data2019.filter((data2019[\"SEXVAR\"] == 2)| (data2019[\"SEXVAR\"] == 1))\n",
    "data2019 = data2019.withColumn(\"SEXVAR\", when(data2019.SEXVAR == 2,0).otherwise(data2019.SEXVAR))\n",
    "\n",
    "data2017 = data2017.filter((data2017[\"SEX\"] == 2)| (data2017[\"SEX\"] == 1))\n",
    "data2017 = data2017.withColumn(\"SEX\", when(data2017.SEX == 2,0).otherwise(data2017.SEX))"
   ]
  },
  {
   "cell_type": "markdown",
   "id": "a6141657",
   "metadata": {},
   "source": [
    "#### 4.21 _AGEG5YR\n",
    "- Reported age in five-year age categories calculated variable\n",
    "- already ordinal. 1 is 18-24 all the way up to 13 wis 80 and older. 5 year increments.\n",
    "- remove 14 because it is don't know or missing"
   ]
  },
  {
   "cell_type": "code",
   "execution_count": 42,
   "id": "ccbae13a",
   "metadata": {},
   "outputs": [],
   "source": [
    "data2019 = data2019.filter((data2019[\"_AGEG5YR\"] != 14))\n",
    "\n",
    "data2017 = data2017.filter((data2017[\"_AGEG5YR\"] != 14))"
   ]
  },
  {
   "cell_type": "markdown",
   "id": "db148e91",
   "metadata": {},
   "source": [
    "#### 4.22 EDUCA\n",
    "- Level of education completed - This is already an ordinal variable \n",
    "- 1 being never attended school or kindergarten only up to 6 being college 4 years or more\n",
    "- Scale here is 1-6\n",
    "- Remove 9 for refused:"
   ]
  },
  {
   "cell_type": "code",
   "execution_count": 43,
   "id": "ec2989a8",
   "metadata": {},
   "outputs": [],
   "source": [
    "data2019 = data2019.filter((data2019[\"EDUCA\"] != 9))\n",
    "\n",
    "data2017 = data2017.filter((data2017[\"EDUCA\"] != 9))"
   ]
  },
  {
   "cell_type": "markdown",
   "id": "defce5b9",
   "metadata": {},
   "source": [
    "#### 4.23 INCOME2\n",
    "- Annual household income - in levels\n",
    "- Variable is already ordinal with 1 being less than $10,000 all the way up to 8 being $75,000 or more\n",
    "- Remove 77 and 99 for don't know and refused"
   ]
  },
  {
   "cell_type": "code",
   "execution_count": 44,
   "id": "b345d33a",
   "metadata": {},
   "outputs": [],
   "source": [
    "data2019 = data2019.filter((data2019[\"INCOME2\"] != 77))\n",
    "data2019 = data2019.filter((data2019[\"INCOME2\"] != 99))\n",
    "\n",
    "\n",
    "data2017 = data2017.filter((data2017[\"INCOME2\"] != 77))\n",
    "data2017 = data2017.filter((data2017[\"INCOME2\"] != 99))"
   ]
  },
  {
   "cell_type": "markdown",
   "id": "65b2bc3e",
   "metadata": {},
   "source": [
    "## 5. RENAMING COLUMNS"
   ]
  },
  {
   "cell_type": "code",
   "execution_count": 45,
   "id": "ce5e7a37",
   "metadata": {},
   "outputs": [],
   "source": [
    "import pyspark.sql.functions as F\n",
    "\n",
    "#Method for renaming columns\n",
    "def rename_columns(df, columns):\n",
    "    if isinstance(columns, dict):\n",
    "        return df.select(*[F.col(col_name).alias(columns.get(col_name, col_name)) for col_name in df.columns])\n",
    "    else:\n",
    "        raise ValueError(\"'columns' should be a dict, like {'old_name_1':'new_name_1', 'old_name_2':'new_name_2'}\")"
   ]
  },
  {
   "cell_type": "code",
   "execution_count": 46,
   "id": "c0c9d694",
   "metadata": {},
   "outputs": [],
   "source": [
    "column_mapping_2019 = {\"_MICHD\" : \"HeartDisease\", \"_STATE\" : \"State\", \"_BMI5\" : \"BMI\",\n",
    "                 \"_RFHYPE5\" : \"HighBP\",\"TOLDHI2\" : \"HighChol\", \"_CHOLCH2\" : \"CholCheck\",\n",
    "                 \"_FRTLT1A\" : \"FruitConsume\" , \"_VEGLT1A\" : \"VegetableConsume\" ,  \n",
    "                 \"SMOKE100\" : \"Smoker\" , \"_RFDRHV7\" : \"HeavyDrinker\",\n",
    "                 \"DIABETE4\" : \"Diabetes\" , \"CVDSTRK3\" : \"Stroke\",\n",
    "                 \"HLTHPLN1\" : \"Healthcare\" , \"MEDCOST\" : \"NoDoctorDueToCost\",\n",
    "                  \"_TOTINDA\" : \"PhysicalActivity\", \"GENHLTH\" : \"GeneralHealth\", \"PHYSHLTH\" : \"PhysicalHealth\",\n",
    "                  \"MENTHLTH\" : \"MentalHealth\", \"DIFFWALK\" : \"DifficultyWalking\",\n",
    "                  \"SEXVAR\" : \"Gender\", \"_AGEG5YR\" : \"Age\", \"EDUCA\" : \"Education\" , \"INCOME2\" : \"Income\"}"
   ]
  },
  {
   "cell_type": "code",
   "execution_count": 47,
   "id": "dc9265d4",
   "metadata": {},
   "outputs": [],
   "source": [
    "column_mapping_2017 = {\"_MICHD\" : \"HeartDisease\", \"_STATE\" : \"State\", \"_BMI5\" : \"BMI\",\n",
    "                 \"_RFHYPE5\" : \"HighBP\",\"TOLDHI2\" : \"HighChol\", \"_CHOLCH1\" : \"CholCheck\",\n",
    "                 \"_FRTLT1A\" : \"FruitConsume\" , \"_VEGLT1A\" : \"VegetableConsume\" ,  \n",
    "                 \"SMOKE100\" : \"Smoker\" , \"_RFDRHV5\" : \"HeavyDrinker\",\n",
    "                 \"DIABETE3\" : \"Diabetes\" , \"CVDSTRK3\" : \"Stroke\",\n",
    "                 \"HLTHPLN1\" : \"Healthcare\" , \"MEDCOST\" : \"NoDoctorDueToCost\",\n",
    "                  \"_TOTINDA\" : \"PhysicalActivity\", \"GENHLTH\" : \"GeneralHealth\", \"PHYSHLTH\" : \"PhysicalHealth\",\n",
    "                  \"MENTHLTH\" : \"MentalHealth\", \"DIFFWALK\" : \"DifficultyWalking\",\n",
    "                  \"SEX\" : \"Gender\", \"_AGEG5YR\" : \"Age\", \"EDUCA\" : \"Education\" , \"INCOME2\" : \"Income\"}"
   ]
  },
  {
   "cell_type": "code",
   "execution_count": 56,
   "id": "de7eafe2",
   "metadata": {},
   "outputs": [],
   "source": [
    "data2019 = rename_columns(data2019, column_mapping_2019)"
   ]
  },
  {
   "cell_type": "code",
   "execution_count": 57,
   "id": "8950cf85",
   "metadata": {},
   "outputs": [],
   "source": [
    "data2017 = rename_columns(data2017, column_mapping_2017)"
   ]
  },
  {
   "cell_type": "markdown",
   "id": "36c11678",
   "metadata": {},
   "source": [
    "## 6. CONCATE OR UNION OF DATA"
   ]
  },
  {
   "cell_type": "code",
   "execution_count": 60,
   "id": "bc26c7e5",
   "metadata": {},
   "outputs": [],
   "source": [
    "data_full = data2017.unionByName(data2019)"
   ]
  },
  {
   "cell_type": "code",
   "execution_count": 61,
   "id": "63dca265",
   "metadata": {},
   "outputs": [
    {
     "name": "stdout",
     "output_type": "stream",
     "text": [
      "root\n",
      " |-- HeartDisease: double (nullable = true)\n",
      " |-- State: double (nullable = true)\n",
      " |-- BMI: double (nullable = true)\n",
      " |-- HighBP: double (nullable = true)\n",
      " |-- HighChol: double (nullable = true)\n",
      " |-- CholCheck: double (nullable = true)\n",
      " |-- FruitConsume: double (nullable = true)\n",
      " |-- VegetableConsume: double (nullable = true)\n",
      " |-- Smoker: double (nullable = true)\n",
      " |-- HeavyDrinker: double (nullable = true)\n",
      " |-- Diabetes: double (nullable = true)\n",
      " |-- Stroke: double (nullable = true)\n",
      " |-- Healthcare: double (nullable = true)\n",
      " |-- NoDoctorDueToCost: double (nullable = true)\n",
      " |-- PhysicalActivity: double (nullable = true)\n",
      " |-- GeneralHealth: double (nullable = true)\n",
      " |-- PhysicalHealth: double (nullable = true)\n",
      " |-- MentalHealth: double (nullable = true)\n",
      " |-- DifficultyWalking: double (nullable = true)\n",
      " |-- Gender: double (nullable = true)\n",
      " |-- Age: double (nullable = true)\n",
      " |-- Education: double (nullable = true)\n",
      " |-- Income: double (nullable = true)\n",
      "\n"
     ]
    }
   ],
   "source": [
    "data_full.printSchema()"
   ]
  },
  {
   "cell_type": "code",
   "execution_count": 65,
   "id": "b6338594",
   "metadata": {},
   "outputs": [
    {
     "name": "stderr",
     "output_type": "stream",
     "text": [
      "                                                                                \r"
     ]
    },
    {
     "data": {
      "text/plain": [
       "519171"
      ]
     },
     "execution_count": 65,
     "metadata": {},
     "output_type": "execute_result"
    }
   ],
   "source": [
    "data2017.count() + data2019.count()"
   ]
  },
  {
   "cell_type": "code",
   "execution_count": 64,
   "id": "7772eb7c",
   "metadata": {},
   "outputs": [
    {
     "name": "stderr",
     "output_type": "stream",
     "text": [
      "                                                                                \r"
     ]
    },
    {
     "data": {
      "text/plain": [
       "519171"
      ]
     },
     "execution_count": 64,
     "metadata": {},
     "output_type": "execute_result"
    }
   ],
   "source": [
    "data_full.count()"
   ]
  },
  {
   "cell_type": "markdown",
   "id": "abec8e79",
   "metadata": {},
   "source": [
    "## 7. WRITE THE CLEANED DATA AND CHECK"
   ]
  },
  {
   "cell_type": "code",
   "execution_count": 75,
   "id": "1cd26667",
   "metadata": {},
   "outputs": [],
   "source": [
    "# Comment after running once\n",
    "#data_full.write.option(\"header\",True).csv(\"../../../BRFSS/HeartRiskData\")"
   ]
  },
  {
   "cell_type": "code",
   "execution_count": 76,
   "id": "bdb2d601",
   "metadata": {},
   "outputs": [],
   "source": [
    "check_data = spark.read.csv(\"../../../BRFSS/HeartRiskData/\", header='true',inferSchema='true')"
   ]
  },
  {
   "cell_type": "code",
   "execution_count": 77,
   "id": "a88e0747",
   "metadata": {},
   "outputs": [
    {
     "name": "stdout",
     "output_type": "stream",
     "text": [
      "root\n",
      " |-- HeartDisease: double (nullable = true)\n",
      " |-- State: double (nullable = true)\n",
      " |-- BMI: double (nullable = true)\n",
      " |-- HighBP: double (nullable = true)\n",
      " |-- HighChol: double (nullable = true)\n",
      " |-- CholCheck: double (nullable = true)\n",
      " |-- FruitConsume: double (nullable = true)\n",
      " |-- VegetableConsume: double (nullable = true)\n",
      " |-- Smoker: double (nullable = true)\n",
      " |-- HeavyDrinker: double (nullable = true)\n",
      " |-- Diabetes: double (nullable = true)\n",
      " |-- Stroke: double (nullable = true)\n",
      " |-- Healthcare: double (nullable = true)\n",
      " |-- NoDoctorDueToCost: double (nullable = true)\n",
      " |-- PhysicalActivity: double (nullable = true)\n",
      " |-- GeneralHealth: double (nullable = true)\n",
      " |-- PhysicalHealth: double (nullable = true)\n",
      " |-- MentalHealth: double (nullable = true)\n",
      " |-- DifficultyWalking: double (nullable = true)\n",
      " |-- Gender: double (nullable = true)\n",
      " |-- Age: double (nullable = true)\n",
      " |-- Education: double (nullable = true)\n",
      " |-- Income: double (nullable = true)\n",
      "\n"
     ]
    }
   ],
   "source": [
    "check_data.printSchema()"
   ]
  },
  {
   "cell_type": "code",
   "execution_count": 78,
   "id": "0aa01923",
   "metadata": {},
   "outputs": [
    {
     "data": {
      "text/plain": [
       "519171"
      ]
     },
     "execution_count": 78,
     "metadata": {},
     "output_type": "execute_result"
    }
   ],
   "source": [
    "check_data.count()"
   ]
  },
  {
   "cell_type": "code",
   "execution_count": null,
   "id": "712f2415",
   "metadata": {},
   "outputs": [],
   "source": []
  }
 ],
 "metadata": {
  "kernelspec": {
   "display_name": "Python 3 (ipykernel)",
   "language": "python",
   "name": "python3"
  },
  "language_info": {
   "codemirror_mode": {
    "name": "ipython",
    "version": 3
   },
   "file_extension": ".py",
   "mimetype": "text/x-python",
   "name": "python",
   "nbconvert_exporter": "python",
   "pygments_lexer": "ipython3",
   "version": "3.9.7"
  }
 },
 "nbformat": 4,
 "nbformat_minor": 5
}
